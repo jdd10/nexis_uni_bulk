{
 "cells": [
  {
   "metadata": {
    "ExecuteTime": {
     "end_time": "2024-06-18T19:53:43.732225Z",
     "start_time": "2024-06-18T19:53:43.687516Z"
    }
   },
   "cell_type": "code",
   "source": [
    "# for parsing XML files from Nexis Uni bulk download API\n",
    "from bs4 import BeautifulSoup\n",
    "import pandas as pd\n",
    "import os"
   ],
   "id": "afe7b12af1e8e011",
   "outputs": [],
   "execution_count": 1
  },
  {
   "metadata": {
    "ExecuteTime": {
     "end_time": "2024-06-18T19:53:49.443952Z",
     "start_time": "2024-06-18T19:53:49.441338Z"
    }
   },
   "cell_type": "code",
   "source": [
    "# get the list of all XML files in the current directory\n",
    "files = [f for f in os.listdir('.') if f.endswith('.xml')]"
   ],
   "id": "f6cdfeafc8a440ef",
   "outputs": [],
   "execution_count": 2
  },
  {
   "metadata": {
    "ExecuteTime": {
     "end_time": "2024-06-18T19:54:52.278254Z",
     "start_time": "2024-06-18T19:54:51.976690Z"
    }
   },
   "cell_type": "code",
   "source": [
    "# iterate over the list of XML files and get the title, author, published date, updated date, word count, publication name, body text, and indexing terms (extract only the className and the item score). Store the data in a pandas DataFrame\n",
    "\n",
    "data = []\n",
    "for item in files:\n",
    "    # Load the XML file\n",
    "    with open(item, 'r', encoding='utf-8') as file:\n",
    "        xml_data = file.read()\n",
    "    \n",
    "    # parse the XML file using BeautifulSoup\n",
    "    soup = BeautifulSoup(xml_data, 'lxml-xml')\n",
    "    \n",
    "    # use soup.find to get the elements of the XML file\n",
    "    title = soup.find('title').text\n",
    "    # get the author name from the <author><name> tag\n",
    "    author = soup.find('name').text\n",
    "    # get the published date from the <published> tag. Stored as a datetime object\n",
    "    published = soup.find('published').text\n",
    "    # get the updated date from the <updated> tag\n",
    "    updated = soup.find('updated').text\n",
    "    # get the word count from the <wordCount> tag\n",
    "    word_count = soup.find('wordCount')['number']\n",
    "    # get the publication name from the <publicationName> tag\n",
    "    publication_name = soup.find('publicationName').text\n",
    "    # get the body text from the <bodyText> tag and remove extra spaces and line breaks\n",
    "    body_text = ' '.join(soup.find('bodyText').get_text().split())\n",
    "    \n",
    "    # for any <classificationGroup classificationScheme=\"indexing-terms\"> get the className text and its parent classificationItem score attribute\n",
    "    indexing_terms = []\n",
    "    for classification_group in soup.find_all('classificationGroup', classificationScheme='indexing-terms'):\n",
    "        for classification_item in classification_group.find_all('classificationItem'):\n",
    "            try:\n",
    "                class_name = classification_item.find('className').text\n",
    "                item_score = classification_item.get('score')\n",
    "                indexing_terms.append({'className': class_name, 'itemScore': item_score})\n",
    "            except AttributeError:\n",
    "                print(f\"A classificationItem in {item} without a className was found and skipped.\")\n",
    "    \n",
    "    # append the data to the data list\n",
    "    data.append({'title': title, 'author': author, 'published': published, 'updated': updated, 'word_count': word_count, 'publication_name': publication_name, 'body_text': body_text, 'indexing_terms': indexing_terms})\n",
    "\n",
    "# create a pandas DataFrame from the data list. Each row in the DataFrame represents an article\n",
    "df = pd.DataFrame(data)"
   ],
   "id": "8466eaccdb69819b",
   "outputs": [
    {
     "name": "stdout",
     "output_type": "stream",
     "text": [
      "A classificationItem in urn:contentItem:6BSC-PBR1-JCMC-W01G-00000-00.xml without a className was found and skipped.\n",
      "A classificationItem in urn:contentItem:6BW4-SHK1-JBCM-F00M-00000-00.xml without a className was found and skipped.\n",
      "A classificationItem in urn:contentItem:6C17-2CY1-DXY4-X07D-00000-00.xml without a className was found and skipped.\n",
      "A classificationItem in urn:contentItem:6C81-BJ41-F03R-N2S1-00000-00.xml without a className was found and skipped.\n",
      "A classificationItem in urn:contentItem:6C2H-7M91-JCMC-W4SX-00000-00.xml without a className was found and skipped.\n"
     ]
    }
   ],
   "execution_count": 3
  },
  {
   "metadata": {
    "ExecuteTime": {
     "end_time": "2024-06-18T19:55:01.433334Z",
     "start_time": "2024-06-18T19:55:01.409741Z"
    }
   },
   "cell_type": "code",
   "source": "df",
   "id": "53f7107210cd7450",
   "outputs": [
    {
     "data": {
      "text/plain": [
       "                                                title      author  \\\n",
       "0   Biden losing support among Black voters in swi...  LexisNexis   \n",
       "1   Donald Trump Leads Joe Biden in Every Battlegr...  LexisNexis   \n",
       "2   Trump Holds on to Lead in Post-Guilty Verdict ...  LexisNexis   \n",
       "3   The aspect that benefits Donald Trump over Joe...  LexisNexis   \n",
       "4           Donald Trump Stung by Double Polling Blow  LexisNexis   \n",
       "..                                                ...         ...   \n",
       "95  Biden supporters mostly back him in 2024 elect...  LexisNexis   \n",
       "96  Biden leads Trump in polls for first time sinc...  LexisNexis   \n",
       "97  CNN polling guru: Biden ‘loved’ surveys four y...  LexisNexis   \n",
       "98  Fox News' Jessica Tarlov Gets Jesse Watters to...  LexisNexis   \n",
       "99  Biden trails Trump in critical states of Arizo...  LexisNexis   \n",
       "\n",
       "               published               updated word_count  \\\n",
       "0   2024-04-11T00:00:00Z  2024-06-18T19:51:16Z        317   \n",
       "1   2024-04-27T00:00:00Z  2024-06-18T19:50:31Z        934   \n",
       "2   2024-06-07T00:00:00Z  2024-06-18T19:47:21Z        363   \n",
       "3   2024-06-13T00:00:00Z  2024-06-18T19:52:33Z        514   \n",
       "4   2024-05-03T00:00:00Z  2024-06-18T19:49:35Z        464   \n",
       "..                   ...                   ...        ...   \n",
       "95  2024-06-10T00:00:00Z  2024-06-18T19:52:08Z        415   \n",
       "96  2024-05-06T00:00:00Z  2024-06-18T19:47:38Z        212   \n",
       "97  2024-05-15T00:00:00Z  2024-06-18T19:47:46Z        497   \n",
       "98  2024-04-05T00:00:00Z  2024-06-18T19:52:45Z        315   \n",
       "99  2024-05-20T00:00:00Z  2024-06-18T19:50:56Z        565   \n",
       "\n",
       "                   publication_name  \\\n",
       "0                       TheHill.com   \n",
       "1                      Newsweek.com   \n",
       "2            Newstex Blogs Mediaite   \n",
       "3   CE Noticias Financieras English   \n",
       "4                      Newsweek.com   \n",
       "..                              ...   \n",
       "95            The Guardian (London)   \n",
       "96                      TheHill.com   \n",
       "97                      TheHill.com   \n",
       "98           Newstex Blogs The Wrap   \n",
       "99                       MailOnline   \n",
       "\n",
       "                                            body_text  \\\n",
       "0   President Biden’s support amount Black voters ...   \n",
       "1   Polling averages show an uphill battle for the...   \n",
       "2   The views expressed in any and all content dis...   \n",
       "3   The U.S. presidential election will paralyze t...   \n",
       "4   Two polls have suggested the former president ...   \n",
       "..                                                ...   \n",
       "95  Poll comes as the Biden campaign has ramped up...   \n",
       "96  President Biden is leading former President Tr...   \n",
       "97  CNN polling expert Harry Enten signaled Tuesda...   \n",
       "98  The views expressed in any and all content dis...   \n",
       "99  •Trump leads Biden in battleground states of A...   \n",
       "\n",
       "                                       indexing_terms  \n",
       "0   [{'className': 'WALL STREET JOURNAL', 'itemSco...  \n",
       "1   [{'className': 'Constitutional Law', 'itemScor...  \n",
       "2   [{'className': 'FOX ENTERTAINMENT GROUP INC', ...  \n",
       "3   [{'className': 'CAMPAIGNS & ELECTIONS', 'itemS...  \n",
       "4   [{'className': 'FLORIDA ATLANTIC UNIVERSITY', ...  \n",
       "..                                                ...  \n",
       "95  [{'className': 'POLLS & SURVEYS', 'itemScore':...  \n",
       "96  [{'className': 'ELECTIONS', 'itemScore': '79'}...  \n",
       "97  [{'className': 'VOTERS & VOTING', 'itemScore':...  \n",
       "98  [{'className': 'FOX ENTERTAINMENT GROUP INC', ...  \n",
       "99  [{'className': 'Civil Rights Law', 'itemScore'...  \n",
       "\n",
       "[100 rows x 8 columns]"
      ],
      "text/html": [
       "<div>\n",
       "<style scoped>\n",
       "    .dataframe tbody tr th:only-of-type {\n",
       "        vertical-align: middle;\n",
       "    }\n",
       "\n",
       "    .dataframe tbody tr th {\n",
       "        vertical-align: top;\n",
       "    }\n",
       "\n",
       "    .dataframe thead th {\n",
       "        text-align: right;\n",
       "    }\n",
       "</style>\n",
       "<table border=\"1\" class=\"dataframe\">\n",
       "  <thead>\n",
       "    <tr style=\"text-align: right;\">\n",
       "      <th></th>\n",
       "      <th>title</th>\n",
       "      <th>author</th>\n",
       "      <th>published</th>\n",
       "      <th>updated</th>\n",
       "      <th>word_count</th>\n",
       "      <th>publication_name</th>\n",
       "      <th>body_text</th>\n",
       "      <th>indexing_terms</th>\n",
       "    </tr>\n",
       "  </thead>\n",
       "  <tbody>\n",
       "    <tr>\n",
       "      <th>0</th>\n",
       "      <td>Biden losing support among Black voters in swi...</td>\n",
       "      <td>LexisNexis</td>\n",
       "      <td>2024-04-11T00:00:00Z</td>\n",
       "      <td>2024-06-18T19:51:16Z</td>\n",
       "      <td>317</td>\n",
       "      <td>TheHill.com</td>\n",
       "      <td>President Biden’s support amount Black voters ...</td>\n",
       "      <td>[{'className': 'WALL STREET JOURNAL', 'itemSco...</td>\n",
       "    </tr>\n",
       "    <tr>\n",
       "      <th>1</th>\n",
       "      <td>Donald Trump Leads Joe Biden in Every Battlegr...</td>\n",
       "      <td>LexisNexis</td>\n",
       "      <td>2024-04-27T00:00:00Z</td>\n",
       "      <td>2024-06-18T19:50:31Z</td>\n",
       "      <td>934</td>\n",
       "      <td>Newsweek.com</td>\n",
       "      <td>Polling averages show an uphill battle for the...</td>\n",
       "      <td>[{'className': 'Constitutional Law', 'itemScor...</td>\n",
       "    </tr>\n",
       "    <tr>\n",
       "      <th>2</th>\n",
       "      <td>Trump Holds on to Lead in Post-Guilty Verdict ...</td>\n",
       "      <td>LexisNexis</td>\n",
       "      <td>2024-06-07T00:00:00Z</td>\n",
       "      <td>2024-06-18T19:47:21Z</td>\n",
       "      <td>363</td>\n",
       "      <td>Newstex Blogs Mediaite</td>\n",
       "      <td>The views expressed in any and all content dis...</td>\n",
       "      <td>[{'className': 'FOX ENTERTAINMENT GROUP INC', ...</td>\n",
       "    </tr>\n",
       "    <tr>\n",
       "      <th>3</th>\n",
       "      <td>The aspect that benefits Donald Trump over Joe...</td>\n",
       "      <td>LexisNexis</td>\n",
       "      <td>2024-06-13T00:00:00Z</td>\n",
       "      <td>2024-06-18T19:52:33Z</td>\n",
       "      <td>514</td>\n",
       "      <td>CE Noticias Financieras English</td>\n",
       "      <td>The U.S. presidential election will paralyze t...</td>\n",
       "      <td>[{'className': 'CAMPAIGNS &amp; ELECTIONS', 'itemS...</td>\n",
       "    </tr>\n",
       "    <tr>\n",
       "      <th>4</th>\n",
       "      <td>Donald Trump Stung by Double Polling Blow</td>\n",
       "      <td>LexisNexis</td>\n",
       "      <td>2024-05-03T00:00:00Z</td>\n",
       "      <td>2024-06-18T19:49:35Z</td>\n",
       "      <td>464</td>\n",
       "      <td>Newsweek.com</td>\n",
       "      <td>Two polls have suggested the former president ...</td>\n",
       "      <td>[{'className': 'FLORIDA ATLANTIC UNIVERSITY', ...</td>\n",
       "    </tr>\n",
       "    <tr>\n",
       "      <th>...</th>\n",
       "      <td>...</td>\n",
       "      <td>...</td>\n",
       "      <td>...</td>\n",
       "      <td>...</td>\n",
       "      <td>...</td>\n",
       "      <td>...</td>\n",
       "      <td>...</td>\n",
       "      <td>...</td>\n",
       "    </tr>\n",
       "    <tr>\n",
       "      <th>95</th>\n",
       "      <td>Biden supporters mostly back him in 2024 elect...</td>\n",
       "      <td>LexisNexis</td>\n",
       "      <td>2024-06-10T00:00:00Z</td>\n",
       "      <td>2024-06-18T19:52:08Z</td>\n",
       "      <td>415</td>\n",
       "      <td>The Guardian (London)</td>\n",
       "      <td>Poll comes as the Biden campaign has ramped up...</td>\n",
       "      <td>[{'className': 'POLLS &amp; SURVEYS', 'itemScore':...</td>\n",
       "    </tr>\n",
       "    <tr>\n",
       "      <th>96</th>\n",
       "      <td>Biden leads Trump in polls for first time sinc...</td>\n",
       "      <td>LexisNexis</td>\n",
       "      <td>2024-05-06T00:00:00Z</td>\n",
       "      <td>2024-06-18T19:47:38Z</td>\n",
       "      <td>212</td>\n",
       "      <td>TheHill.com</td>\n",
       "      <td>President Biden is leading former President Tr...</td>\n",
       "      <td>[{'className': 'ELECTIONS', 'itemScore': '79'}...</td>\n",
       "    </tr>\n",
       "    <tr>\n",
       "      <th>97</th>\n",
       "      <td>CNN polling guru: Biden ‘loved’ surveys four y...</td>\n",
       "      <td>LexisNexis</td>\n",
       "      <td>2024-05-15T00:00:00Z</td>\n",
       "      <td>2024-06-18T19:47:46Z</td>\n",
       "      <td>497</td>\n",
       "      <td>TheHill.com</td>\n",
       "      <td>CNN polling expert Harry Enten signaled Tuesda...</td>\n",
       "      <td>[{'className': 'VOTERS &amp; VOTING', 'itemScore':...</td>\n",
       "    </tr>\n",
       "    <tr>\n",
       "      <th>98</th>\n",
       "      <td>Fox News' Jessica Tarlov Gets Jesse Watters to...</td>\n",
       "      <td>LexisNexis</td>\n",
       "      <td>2024-04-05T00:00:00Z</td>\n",
       "      <td>2024-06-18T19:52:45Z</td>\n",
       "      <td>315</td>\n",
       "      <td>Newstex Blogs The Wrap</td>\n",
       "      <td>The views expressed in any and all content dis...</td>\n",
       "      <td>[{'className': 'FOX ENTERTAINMENT GROUP INC', ...</td>\n",
       "    </tr>\n",
       "    <tr>\n",
       "      <th>99</th>\n",
       "      <td>Biden trails Trump in critical states of Arizo...</td>\n",
       "      <td>LexisNexis</td>\n",
       "      <td>2024-05-20T00:00:00Z</td>\n",
       "      <td>2024-06-18T19:50:56Z</td>\n",
       "      <td>565</td>\n",
       "      <td>MailOnline</td>\n",
       "      <td>•Trump leads Biden in battleground states of A...</td>\n",
       "      <td>[{'className': 'Civil Rights Law', 'itemScore'...</td>\n",
       "    </tr>\n",
       "  </tbody>\n",
       "</table>\n",
       "<p>100 rows × 8 columns</p>\n",
       "</div>"
      ]
     },
     "execution_count": 4,
     "metadata": {},
     "output_type": "execute_result"
    }
   ],
   "execution_count": 4
  },
  {
   "metadata": {
    "ExecuteTime": {
     "end_time": "2024-06-18T19:55:18.165996Z",
     "start_time": "2024-06-18T19:55:18.161046Z"
    }
   },
   "cell_type": "code",
   "source": [
    "# indexing_terms contains a list of dictionaries. Find the maximum number of indexing terms in a single article\n",
    "max_indexing_terms = df['indexing_terms'].apply(len).max()\n",
    "max_indexing_terms"
   ],
   "id": "6423c084105cda8",
   "outputs": [
    {
     "data": {
      "text/plain": [
       "55"
      ]
     },
     "execution_count": 5,
     "metadata": {},
     "output_type": "execute_result"
    }
   ],
   "execution_count": 5
  },
  {
   "metadata": {
    "ExecuteTime": {
     "end_time": "2024-06-18T19:55:24.855923Z",
     "start_time": "2024-06-18T19:55:24.849950Z"
    }
   },
   "cell_type": "code",
   "source": [
    "# find all indexing terms with an itemScore of 90\n",
    "df['indexing_terms'].apply(lambda x: [i['className'] for i in x if i['itemScore'] == '90'])"
   ],
   "id": "44f7e646018fdafb",
   "outputs": [
    {
     "data": {
      "text/plain": [
       "0     [ELECTIONS & POLITICS, REPORTS, REVIEWS & SECT...\n",
       "1     [ELECTIONS & POLITICS, HEADS OF GOVERNMENT ELE...\n",
       "2     [HEADS OF GOVERNMENT ELECTIONS, NEGATIVE PERSO...\n",
       "3     [ELECTIONS, HEADS OF GOVERNMENT ELECTIONS, POL...\n",
       "4     [ELECTIONS, US PRESIDENTIAL CANDIDATES 2008, U...\n",
       "                            ...                        \n",
       "95    [NEGATIVE PERSONAL NEWS, POLITICAL CANDIDATES,...\n",
       "96                                                   []\n",
       "97                                    [VOTERS & VOTING]\n",
       "98                      [POLLS & SURVEYS, DONALD TRUMP]\n",
       "99    [CAMPAIGNS & ELECTIONS, POLLS & SURVEYS, VOTER...\n",
       "Name: indexing_terms, Length: 100, dtype: object"
      ]
     },
     "execution_count": 6,
     "metadata": {},
     "output_type": "execute_result"
    }
   ],
   "execution_count": 6
  },
  {
   "metadata": {
    "ExecuteTime": {
     "end_time": "2024-06-18T19:56:40.018109Z",
     "start_time": "2024-06-18T19:56:40.006498Z"
    }
   },
   "cell_type": "code",
   "source": [
    "# save the DataFrame to a CSV file\n",
    "df.to_csv('articles.csv', index=False)"
   ],
   "id": "6eb2a702e376dda7",
   "outputs": [],
   "execution_count": 7
  }
 ],
 "metadata": {
  "kernelspec": {
   "display_name": "Python 3",
   "language": "python",
   "name": "python3"
  },
  "language_info": {
   "codemirror_mode": {
    "name": "ipython",
    "version": 2
   },
   "file_extension": ".py",
   "mimetype": "text/x-python",
   "name": "python",
   "nbconvert_exporter": "python",
   "pygments_lexer": "ipython2",
   "version": "2.7.6"
  }
 },
 "nbformat": 4,
 "nbformat_minor": 5
}
