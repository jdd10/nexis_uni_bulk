{
 "cells": [
  {
   "metadata": {
    "ExecuteTime": {
     "end_time": "2024-09-13T20:29:30.105726Z",
     "start_time": "2024-09-13T20:29:30.071430Z"
    }
   },
   "cell_type": "code",
   "source": [
    "# script to download documents from Nexis Uni using the Web Services Kit API for bulk downloads\n",
    "from oauthlib.oauth2 import BackendApplicationClient\n",
    "from requests_oauthlib import OAuth2Session\n",
    "from requests.auth import HTTPBasicAuth\n",
    "import os\n",
    "import time"
   ],
   "id": "f509b5d77fba4142",
   "outputs": [],
   "execution_count": 1
  },
  {
   "metadata": {
    "ExecuteTime": {
     "end_time": "2024-09-13T20:29:33.333003Z",
     "start_time": "2024-09-13T20:29:33.331058Z"
    }
   },
   "cell_type": "code",
   "source": [
    "# be sure to set up the client_id and client_secret as environment variables in your shell\n",
    "client_id = os.getenv('CLIENT_ID')\n",
    "client_secret = os.getenv('CLIENT_SECRET')\n",
    "scope = 'http://oauth.lexisnexis.com/all'\n",
    "grant_type = 'client_credentials'\n",
    "content_type = 'application/x-www-form-urlencoded'"
   ],
   "id": "ea20b6923b0a1f4a",
   "outputs": [],
   "execution_count": 2
  },
  {
   "metadata": {
    "ExecuteTime": {
     "end_time": "2024-09-13T20:29:35.548718Z",
     "start_time": "2024-09-13T20:29:35.217405Z"
    }
   },
   "cell_type": "code",
   "source": [
    "# for details on authentication, see the docs at https://www.lexisnexis.com/lextalk/developers/ln-webservice-api/p/apidocs.aspx#introduction, section \"Service to Service ID\"\n",
    "# also see https://requests-oauthlib.readthedocs.io/en/latest/oauth2_workflow.html#backend-application-flow \n",
    "auth = HTTPBasicAuth(client_id, client_secret)\n",
    "\n",
    "client = BackendApplicationClient(client_id=client_id, scope=scope, grant_type=grant_type, token_type='Bearer', client_secret=client_secret, content_type=content_type)\n",
    "\n",
    "oauth = OAuth2Session(client=client)\n",
    "\n",
    "token = oauth.fetch_token(token_url='https://auth-api.lexisnexis.com/oauth/v2/token', auth=auth)"
   ],
   "id": "34cc040c8f2ce18d",
   "outputs": [],
   "execution_count": 3
  },
  {
   "metadata": {
    "ExecuteTime": {
     "end_time": "2024-09-16T21:20:42.539938Z",
     "start_time": "2024-09-16T21:20:42.537139Z"
    }
   },
   "cell_type": "code",
   "source": [
    "# get the token\n",
    "token"
   ],
   "id": "d003b6b5b3547c89",
   "outputs": [
    {
     "data": {
      "text/plain": [
       "{'access_token': 'ODQ5ZTA2MDktNmFiMi00ZWM4LWIyNmQtYWIzNmNjYjVkZjRk',\n",
       " 'token_type': 'Bearer',\n",
       " 'expires_in': 86400,\n",
       " 'expires_at': 1726607392.788926}"
      ]
     },
     "execution_count": 44,
     "metadata": {},
     "output_type": "execute_result"
    }
   ],
   "execution_count": 44
  },
  {
   "metadata": {
    "ExecuteTime": {
     "end_time": "2024-09-16T21:20:37.448273Z",
     "start_time": "2024-09-16T21:20:37.446434Z"
    }
   },
   "cell_type": "code",
   "source": [
    "# get the base URL for the API\n",
    "base_url = 'https://services-api.lexisnexis.com/v1/'"
   ],
   "id": "b9bcaab9e0a1414a",
   "outputs": [],
   "execution_count": 43
  },
  {
   "metadata": {},
   "cell_type": "markdown",
   "source": [
    "# Rate limits and downloading full text\n",
    "Rate limits for API calls are expressed as calls per 10s/1m/1h/1d. For getting the full text, you have two options. If using the `$expand=Document` parameter, your search results will return the full text of the document. You can make 1,000 of these calls a day (2/5/200/1000) and using the max of 50 documents per search, you can get 50k documents a day. The other method is to search and retrieve just metadata. You can do 12,000 of these searches a day (60/125/1500/12000). From these searches you can get the `ResultId` and individually download 24k documents a day (25/50/1500/24000). All three of these throttling buckets are separate. "
   ],
   "id": "b56c16df4030304f"
  },
  {
   "metadata": {},
   "cell_type": "markdown",
   "source": "## Searching for sources",
   "id": "2baf92d17afdb922"
  },
  {
   "metadata": {
    "ExecuteTime": {
     "end_time": "2024-09-17T14:55:21.836011Z",
     "start_time": "2024-09-17T14:55:21.832966Z"
    }
   },
   "cell_type": "code",
   "outputs": [],
   "execution_count": 91,
   "source": [
    "# set up a request to the Sources endpoint\n",
    "sources_endpoint = \"Sources\"\n",
    "# define your search string\n",
    "search_string = \"Associated Press\"\n",
    "# the documentation indicates that there are filterable fields, but seems like all news sources say Geography is \"US\" even when they're international. Jurisdiction is a better filter. If you don't need a filter, you can leave this blank\n",
    "filter = \"Jurisdiction eq 'U.S. Federal'\""
   ],
   "id": "cb66574eb1315d43"
  },
  {
   "metadata": {
    "ExecuteTime": {
     "end_time": "2024-09-17T14:55:30.713460Z",
     "start_time": "2024-09-17T14:55:30.710921Z"
    }
   },
   "cell_type": "code",
   "outputs": [],
   "execution_count": 92,
   "source": "url_params = {'$search': search_string, '$filter': filter}",
   "id": "934f9c4bb520c28e"
  },
  {
   "metadata": {
    "ExecuteTime": {
     "end_time": "2024-09-17T14:55:32.514023Z",
     "start_time": "2024-09-17T14:55:31.433806Z"
    }
   },
   "cell_type": "code",
   "outputs": [],
   "execution_count": 93,
   "source": "r = oauth.get(base_url+sources_endpoint, params=url_params, timeout=100)",
   "id": "949d503e4bac1d34"
  },
  {
   "metadata": {
    "ExecuteTime": {
     "end_time": "2024-09-17T14:55:33.682452Z",
     "start_time": "2024-09-17T14:55:33.679478Z"
    }
   },
   "cell_type": "code",
   "outputs": [
    {
     "data": {
      "text/plain": [
       "{'@odata.context': 'https://services-api.lexisnexis.com/v1/$metadata#Sources',\n",
       " '@odata.count': 11,\n",
       " 'value': [{'Id': 'MTA2MjYxNg',\n",
       "   'Geography': 'US',\n",
       "   'Name': 'Associated Press News Briefs',\n",
       "   'ContentType': 'news',\n",
       "   'Jurisdiction': 'U.S. Federal; International',\n",
       "   'Publisher': 'The Associated Press',\n",
       "   'PublishFrequency': 'Daily/Monday - Sunday',\n",
       "   'Coverage': 'Most recent two weeks',\n",
       "   'UpdateSchedule': 'Same day',\n",
       "   'Description': 'Compiled by the Associated Press and extracted from the AP ONLINE service, the Associated Press News Briefs highlight the top stories of the moment as determined by the Associated Press.  The Associated Press staff compiles a summary of the top stories approximately once each hour.  Each document contains 10 to 15 summaries, each of which runs approximately 50 to 100 words in length.  As breaking news occurs, the summaries will change.  A total of 14 days of material is maintained online.  The AP News Briefs cover the entire spectrum of the news.'},\n",
       "  {'Id': 'MTA2OTMxNg',\n",
       "   'Geography': 'US',\n",
       "   'Name': 'Associated Press Election Results',\n",
       "   'ContentType': 'news',\n",
       "   'Jurisdiction': 'U.S. Federal; International',\n",
       "   'Publisher': 'The Associated Press',\n",
       "   'PublishFrequency': 'Irregular',\n",
       "   'Coverage': 'From November 8, 1994 through current',\n",
       "   'UpdateSchedule': 'Within 1 day of publication',\n",
       "   'Description': 'Access to certain freelance articles and other features within this publication (i.e. photographs, classifieds, etc...) may not be available. The Associated Press Election Wire provides election returns on races for president, U.S. House and Senate, governor and other statewide offices in the United States.  In addition to ballot measures and initiatives, AP Election Wire now also includes types of vote cast (e.g. Absentee, In-Person, etc. where available). This publication contains online content only.'},\n",
       "  {'Id': 'MTA2MjYxOA',\n",
       "   'Geography': 'US',\n",
       "   'Name': 'Associated Press International',\n",
       "   'ContentType': 'news',\n",
       "   'Jurisdiction': 'U.S. Federal; International',\n",
       "   'Publisher': 'The Associated Press',\n",
       "   'PublishFrequency': 'Daily/Monday - Sunday',\n",
       "   'Coverage': 'From October 1, 1993 through current',\n",
       "   'UpdateSchedule': 'Same day',\n",
       "   'Description': 'Access to certain freelance articles and other features within this publication (i.e. photographs, classifieds, etc...) may not be available. With 82 foreign bureaus, the Associated Press International Service covers breaking news from around the world.  AP International provides top international business, general and sports developments continuously, 24 hours each day, 7 days a week. The service carries approximately 200 stories each day.'},\n",
       "  {'Id': 'MTA2MjYxNQ',\n",
       "   'Geography': 'US',\n",
       "   'Name': 'Associated Press Financial Wire',\n",
       "   'ContentType': 'news',\n",
       "   'Jurisdiction': 'U.S. Federal; International',\n",
       "   'Publisher': 'The Associated Press',\n",
       "   'PublishFrequency': 'Daily/Monday - Sunday',\n",
       "   'Coverage': 'From February 17, 2005 through current',\n",
       "   'UpdateSchedule': 'Same day',\n",
       "   'Description': 'Access to certain freelance articles and other features within this publication (i.e. photographs, classifieds, etc...) may not be available.  Associated Press Financial News provides detailed coverage of the top 1,000 US companies plus major international corporations.  Coverage includes world market news, quarterly earnings announcements, executive changes, regulatory actions, mergers and acquisitions and new product developments in a full range of industries. AP Financial News goes beyond the top stories of the day to offer breaking coverage of top companies and financial markets around the world.'},\n",
       "  {'Id': 'MTA2MjYxNw',\n",
       "   'Geography': 'US',\n",
       "   'Name': 'Associated Press Online',\n",
       "   'ContentType': 'news',\n",
       "   'Jurisdiction': 'U.S. Federal; International',\n",
       "   'Publisher': 'The Associated Press',\n",
       "   'PublishFrequency': 'Continuous feed',\n",
       "   'Coverage': 'From July 8, 1997 through June 30, 2016; The October 30, 1999 data is not available',\n",
       "   'UpdateSchedule': 'No longer updated',\n",
       "   'Description': 'Access to certain freelance articles and other features within this publication (i.e. photographs, classifieds, etc...) may not be available. Associated Press Online is a news service tailored specifically for use in database or similar online environments. The service is comprised of the top national, international, Washington, financial and sports news on a given day. Stories cover various topics including Politics, Business, Wall Street, Sports, Entertainment and Weather, and are transmitted 24 hours a day, 7 days a week. stories carry profiles, as well, listing ticker symbols and and full company names of all publicly traded companies cited in the story as well as industry groups and state from which the story originated.  At least once each hour the service includes AP Newsbriefs, a snapshot of top stories for that hour. To search:             HEADLINE:(top stories)'},\n",
       "  {'Id': 'MTA1MzI3Mw',\n",
       "   'Geography': 'US',\n",
       "   'Name': 'The Associated Press',\n",
       "   'ContentType': 'news',\n",
       "   'Jurisdiction': 'U.S. Federal; International',\n",
       "   'Publisher': 'The Associated Press',\n",
       "   'PublishFrequency': 'Daily/Monday - Sunday',\n",
       "   'Coverage': 'From January 1, 1977 through current',\n",
       "   'UpdateSchedule': 'Within 1 day of publication',\n",
       "   'Description': 'Access to certain freelance articles and other features within this publication (i.e. photographs, classifieds, etc...) may not be available. Founded in 1848, and now delivering news and photos in over 100 countries, The Associated Press sees itself as the oldest and largest news service in the world.  The AP is a nonprofit cooperative (i.e., a member-owned organization) with its roots in the newspaper industry. Regular members of The AP are obligated to report exclusively to The AP news that breaks locally, but might be of interest to the media elsewhere in the U.S. or overseas.  This system gives The AP a news gathering reach well beyond what would be possible with only its staff resources.  Coverage includes international news, national news (other than Washington-datelined stories), Washington news (only stories of national interest), business news, and sports. The AP file in NEWS is also an excellent source for general spot news and feature stories.'},\n",
       "  {'Id': 'MTA1MzI3NQ',\n",
       "   'Geography': 'US',\n",
       "   'Name': 'Associated Press State & Local',\n",
       "   'ContentType': 'news',\n",
       "   'Jurisdiction': 'U.S. Federal; International',\n",
       "   'Publisher': 'The Associated Press',\n",
       "   'PublishFrequency': 'Daily/Monday - Sunday',\n",
       "   'Coverage': 'Central region: From July 21, 1998 through current; East and West regions: From August 4, 1998 through current',\n",
       "   'UpdateSchedule': 'Same day',\n",
       "   'Description': 'Access to certain freelance articles and other features within this publication (i.e. photographs, classifieds, etc...) may not be available. The AP State Wire includes news from all 50 states, drawing news stories from 14 3 U.S. bureaus and from AP member newspapers and broadcasters.  The wire provides coverage on a variety of regional topics such as information on state c apitols, legislation and politics, local regional and state sports; cross-state issues; news analysis and entertainment.'},\n",
       "  {'Id': 'MTA2MjA5MQ',\n",
       "   'Geography': 'US',\n",
       "   'Name': 'AP Planner',\n",
       "   'ContentType': 'news',\n",
       "   'Jurisdiction': 'U.S. Federal; International',\n",
       "   'Publisher': 'The Associated Press',\n",
       "   'PublishFrequency': 'Daily/Monday - Sunday',\n",
       "   'Coverage': 'From January 27, 2011 through current',\n",
       "   'UpdateSchedule': 'Same day',\n",
       "   'Description': \"Access to certain freelance articles and other features within this publication (i.e. photographs, classifieds, etc...) may not be available. AP Planner is a comprehensive future events database that includes a year's worth of upcoming events. AP Planner covers hundreds of categories including news conferences, award ceremonies, financial announcements, legislative activities and more.\"},\n",
       "  {'Id': 'MTA4ODc5Mg',\n",
       "   'Geography': 'US',\n",
       "   'Name': 'FTC Today',\n",
       "   'ContentType': 'news',\n",
       "   'Jurisdiction': 'U.S. Federal; International',\n",
       "   'Publisher': 'Washington Regulatory Reporting Associates',\n",
       "   'PublishFrequency': 'Archival material; FTC Today ceased publication in March 2004.  The materials are archival only.',\n",
       "   'Coverage': 'From December 1992 through March 3, 2004',\n",
       "   'UpdateSchedule': 'No longer published',\n",
       "   'Description': \"FTC Today provides the official Federal Trade Commission press releases, announcements and the full texts of speeches by the Commissioner and key staff members from 12/92 to present.  The current day's documents are presented without submitting a search request.\"},\n",
       "  {'Id': 'MTA4ODI4Mg',\n",
       "   'Geography': 'US',\n",
       "   'Name': 'AP Spanish Online',\n",
       "   'ContentType': 'news',\n",
       "   'Jurisdiction': 'U.S. Federal; International',\n",
       "   'Publisher': 'The Associated Press',\n",
       "   'PublishFrequency': 'Daily/Monday - Sunday',\n",
       "   'Coverage': 'From March 15, 2016 through current',\n",
       "   'UpdateSchedule': 'Same day',\n",
       "   'Description': 'Content Summary: ESPAÑOL: Acceso a ciertos articulos independientes y a otros asuntos dentro de esta pubicacion (e.g fotografias, clasificados, etc) pueden no estar disponibles. AP Spanish Online es un servicio de noticias que cubre noticias y características escrito y editado para hispanohablantes romper . También incluye EE.UU. y América Latina de noticias , negocios, deportes , política, entretenimiento , tecnología, salud , noticias y el tiempo extraño internacional. ENGLISH: Access to certain freelance articles and other features within this publication (i.e. photographs, classifieds, etc...) may not be available. AP Spanish Online is a newswire that covers breaking news and features written and edited for Spanish speakers. It also includes U.S. and Latin American international news, business, sports, politics, entertainment, technology, health, odd news and weather.'},\n",
       "  {'Id': 'MTA4Njg0OQ',\n",
       "   'Geography': 'US',\n",
       "   'Name': 'Communications Law and Policy',\n",
       "   'ContentType': 'news',\n",
       "   'Jurisdiction': 'U.S. Federal; International',\n",
       "   'Publisher': 'Lawrence Erlbaum Associates, Inc.',\n",
       "   'PublishFrequency': 'Annually; Usually publishes multiple times per year',\n",
       "   'Coverage': 'From January 1, 2000 through January 1, 2007',\n",
       "   'UpdateSchedule': 'No longer updated',\n",
       "   'Description': 'Access to certain freelance articles and other features within this publication (i.e. photographs, classifieds, etc...) may not be available. Communication Law and Policy - The societal, cultural, economic and political dimensions of communication, including the freedoms of speech and press, are undergoing dramatic global changes. The convergence of the mass media, telecommunications, and computers has raised important questions reflected in analyses of modern communication law, policy, and regulation. Serving as a forum for discussions of these continuing and emerging questions, Communication Law and Policy considers traditional and contemporary problems of freedom of expression and dissemination, including theoretical, conceptual and methodological issues inherent in the special conditions presented by new media and information technologies. The journal seeks research that is informed theoretically by First Amendment constitutional analyses, historical approaches to communication law and policy issues, contemporary social theory literatures that treat the law as cultural forms, the sociology and philosophy of law, systems approaches, critical theory and other appropriate theoretical bases. The journal publishes rigorously reasoned and thoroughly researched studies based on traditional legal research, social science techniques, or ethnographic, international, or comparative analyses. Communication Law and Policy also publishes articles using other appropriate approaches to pertinent topics. Manuscripts are sought from those in the academic fields of journalism and mass communication, communication, telecommunications, law, business, sociology, political science and cognate disciplines, as well as practicing attorneys, policymakers, and policy analysts.'}]}"
      ]
     },
     "execution_count": 94,
     "metadata": {},
     "output_type": "execute_result"
    }
   ],
   "execution_count": 94,
   "source": "r.json()",
   "id": "3bc3fa69b3e54faf"
  },
  {
   "metadata": {
    "ExecuteTime": {
     "end_time": "2024-09-17T15:09:08.548718Z",
     "start_time": "2024-09-17T15:09:08.545386Z"
    }
   },
   "cell_type": "code",
   "outputs": [
    {
     "data": {
      "text/plain": [
       "{'Date': 'Tue, 17 Sep 2024 15:07:36 GMT', 'Content-Type': 'application/json; odata.metadata=minimal', 'Content-Length': '14628', 'Connection': 'keep-alive', 'Vary': 'Origin, Access-Control-Request-Method, Access-Control-Request-Headers, Accept-Encoding', 'Cache-Control': 'no-cache', 'Pragma': 'no-cache', 'Expires': '-1', 'Server': 'auth_api.lexisnexis.com  3000', 'X-RateLimit-Limit': '60/125/1500/12000', 'X-RateLimit-Remaining': '59/123/1494/11994', 'X-RateLimit-Reset': '1726585663/1726585678/1726587740/1726670540', 'OData-Version': '4.0', 'X-AspNet-Version': '4.0.30319', 'X-Powered-By': 'ASP.NET', 'X-Content-Type-Options': 'nosniff', 'X-XSS-Protection': '1; mode=block', 'X-Frame-Options': 'DENY', 'X-RE-Ref': '1 1726585618296818', 'P3P': 'CP=\"IDC DSP LAW ADM DEV TAI PSA PSD IVA IVD CON HIS TEL OUR DEL SAM OTR IND OTC\"'}"
      ]
     },
     "execution_count": 109,
     "metadata": {},
     "output_type": "execute_result"
    }
   ],
   "execution_count": 109,
   "source": "r.headers",
   "id": "a1e1fdc5b980e91c"
  },
  {
   "metadata": {},
   "cell_type": "markdown",
   "source": "## Define your search parameters",
   "id": "afc7af588d421ea"
  },
  {
   "metadata": {
    "ExecuteTime": {
     "end_time": "2024-09-17T15:07:23.117838Z",
     "start_time": "2024-09-17T15:07:23.114073Z"
    }
   },
   "cell_type": "code",
   "outputs": [],
   "execution_count": 106,
   "source": [
    "# set up a request to the BatchNews endpoint; should only be used anytime you are returning > 450 documents. For smaller queries, use the 'News' endpoint\n",
    "base_url = 'https://services-api.lexisnexis.com/v1/'\n",
    "search_endpoint = \"BatchNews\"\n",
    "'''You can add these search fields: agg-copyright, body, byline, cite, company, headline, hlead, length, publication, publication-type, pub-copyright, section, show, term, ticker, title, jurisinfo, load-date, xce-date, subject, industry, geography, document-type, country. \n",
    "\n",
    "You can use boolean operators like 'AND', 'OR', 'NOT' and proximity operators like 'w/' and 'pre/' to search within a certain number of words or paragraphs. You can also use wildcards like '*' and '?'. You can also use parentheses for grouping. \n",
    "\n",
    "There are help documents in the main platform interface: https://libguides.princeton.edu/az/nexis-uni-former-lexis-nexis-academic. In particular, see search commands: https://p.widencdn.net/dykvnj/Nexis_Commands_AtAGlance and news searching tips: https://p.widencdn.net/x1tozf/Nexis_News-Searching-Tips. You can use the source menu in the platform or this list of current content sources: https://supportcenter.lexisnexis.com/app/answers/answer_view/a_id/1098614 (Excel file at bottom of page).\n",
    "'''\n",
    "# you can search within specific publications either by including it in your search string, e.g. \"publication('The Associated Press')\", or by filtering on the 'Source/Id' field. \n",
    "search_string = \"biden w/10 (poll* OR survey)\" \n",
    "# You can separate multiple sources with an 'or'. You can find the ID by searching for the source in the 'Sources' endpoint\n",
    "filter = \"Date ge 2024-01-01 and Source/Id eq 'MTA1MzI3Mw'\" # comparison operators: 'gt', 'ge', 'lt', 'le' (greater than, greater than or equal to, less than, less than or equal to) \n",
    "results_per_page = 50 # max is 50 for BatchNews\n",
    "select = \"ResultId,Title,Date,Source\""
   ],
   "id": "ab146ab720701bf8"
  },
  {
   "metadata": {},
   "cell_type": "markdown",
   "source": "## Getting the full text of the documents with your search results",
   "id": "6b24bf664fce5608"
  },
  {
   "metadata": {
    "ExecuteTime": {
     "end_time": "2024-09-17T14:57:36.167198Z",
     "start_time": "2024-09-17T14:57:36.164597Z"
    }
   },
   "cell_type": "code",
   "source": "url_params = {'$search': search_string, '$filter': filter, '$top': results_per_page, '$select': select, '$expand': 'Document'}",
   "id": "c08f99e1fb6a7edb",
   "outputs": [],
   "execution_count": 99
  },
  {
   "metadata": {
    "ExecuteTime": {
     "end_time": "2024-09-17T14:57:50.191137Z",
     "start_time": "2024-09-17T14:57:38.580638Z"
    }
   },
   "cell_type": "code",
   "source": [
    "# you need to pass the token in the headers by calling 'get' on the oauth object\n",
    "r = oauth.get(base_url+search_endpoint, params=url_params, timeout=100)"
   ],
   "id": "ff875cc2b2ec047f",
   "outputs": [],
   "execution_count": 100
  },
  {
   "metadata": {
    "ExecuteTime": {
     "end_time": "2024-09-17T14:58:09.767573Z",
     "start_time": "2024-09-17T14:58:09.760360Z"
    }
   },
   "cell_type": "code",
   "source": [
    "# see the results. Can use just 'r.json'. Here, I'm truncating for the public notebook. In 'r.json()' the 'value' key contains the search results. For 'value' in r.json(), you will see the 'ResultId', 'Title', 'Date', 'Source', 'Document' fields. The 'Document' field contains the full text of the document. For this notebook, I'm limiting the output of the 'Document' field to the first 1000 characters\n",
    "for key, value in r.json().items():\n",
    "    if key == 'value':\n",
    "        for doc in value[:10]:\n",
    "            print(f\"ResultId: {doc['ResultId']}, Title: {doc['Title']}, Date: {doc['Date']}, Source: {doc['Source']}, 'Content': {doc['Document']['Content'][:1000]}\")\n",
    "    else:\n",
    "        print(f\"Key: {key}, Value: {value}\" )\n"
   ],
   "id": "5e54accf3bc687da",
   "outputs": [
    {
     "name": "stdout",
     "output_type": "stream",
     "text": [
      "Key: @odata.context, Value: https://services-api.lexisnexis.com/v1/$metadata#BatchNews(ResultId,Title,Date,Source,Document)\n",
      "Key: @odata.count, Value: 319\n",
      "ResultId: urn:contentItem:6CH3-PJR1-JC5B-G3Y0-00000-00, Title: Takeaways from AP-NORC poll showing majority of Democrats want Biden to drop out, Date: 2024-07-17T00:00:00Z, Source: {'Id': '', 'Name': 'The Associated Press', 'ContentType': ''}, 'Content': <entry xmlns=\"http://www.w3.org/2005/Atom\"><id>urn:contentItem:6CH3-PJR1-JC5B-G3Y0-00000-00</id><title>Takeaways from AP-NORC poll showing majority of Democrats want Biden to drop out</title><published>2024-07-17T00:00:00Z</published><updated>2024-09-17T14:57:39Z</updated><author><name>LexisNexis</name></author><content type=\"application/xml\"><!--Transformation version 1.25--><articleDoc xmlns=\"\" xmlns:xsi=\"http://www.w3.org/2001/XMLSchema-instance\" xsi:noNamespaceSchemaLocation=\"http://www.lexisnexis.com/xmlschemas/content/public/articledoc/1/\" schemaVersion=\"1.8\" xml:lang=\"en\"><articleDocHead><itemInfo><sourceSectionInfo><positionSection>DOMESTIC NEWS</positionSection></sourceSectionInfo></itemInfo></articleDocHead><nitf:body xmlns:nitf=\"http://iptc.org/std/NITF/2006-10-18/\"><nitf:body.head><nitf:hedline><nitf:hl1>Takeaways from AP-NORC poll showing majority of Democrats want Biden to drop out</nitf:hl1></nitf:hedline><nitf:byline><author><person><nameText>The Associated Press</nameT\n",
      "ResultId: urn:contentItem:6CT6-CTR1-JC5B-G0G4-00000-00, Title: What polling shows about Americans' views of Robert F. Kennedy Jr., Date: 2024-08-23T00:00:00Z, Source: {'Id': '', 'Name': 'The Associated Press', 'ContentType': ''}, 'Content': <entry xmlns=\"http://www.w3.org/2005/Atom\"><id>urn:contentItem:6CT6-CTR1-JC5B-G0G4-00000-00</id><title>What polling shows about Americans' views of Robert F. Kennedy Jr.</title><published>2024-08-23T00:00:00Z</published><updated>2024-09-17T14:57:49Z</updated><author><name>LexisNexis</name></author><content type=\"application/xml\"><!--Transformation version 1.25--><articleDoc xmlns=\"\" xmlns:xsi=\"http://www.w3.org/2001/XMLSchema-instance\" xsi:noNamespaceSchemaLocation=\"http://www.lexisnexis.com/xmlschemas/content/public/articledoc/1/\" schemaVersion=\"1.8\" xml:lang=\"en\"><articleDocHead><itemInfo><sourceSectionInfo><positionSection>WASHINGTON DATELINE</positionSection><positionSubsection>POLITICAL NEWS</positionSubsection></sourceSectionInfo></itemInfo></articleDocHead><nitf:body xmlns:nitf=\"http://iptc.org/std/NITF/2006-10-18/\"><nitf:body.head><nitf:hedline><nitf:hl1>What polling shows about Americans' views of Robert F. Kennedy Jr.</nitf:hl1></nitf:hedline><nitf:byline><author><person><nam\n",
      "ResultId: urn:contentItem:6CH3-6RR1-JC5B-G3JW-00000-00, Title: Nearly two-thirds of Democrats want Biden to withdraw, new AP-NORC poll finds, Date: 2024-07-17T00:00:00Z, Source: {'Id': '', 'Name': 'The Associated Press', 'ContentType': ''}, 'Content': <entry xmlns=\"http://www.w3.org/2005/Atom\"><id>urn:contentItem:6CH3-6RR1-JC5B-G3JW-00000-00</id><title>Nearly two-thirds of Democrats want Biden to withdraw, new AP-NORC poll finds</title><published>2024-07-17T00:00:00Z</published><updated>2024-09-17T14:57:48Z</updated><author><name>LexisNexis</name></author><content type=\"application/xml\"><!--Transformation version 1.25--><articleDoc xmlns=\"\" xmlns:xsi=\"http://www.w3.org/2001/XMLSchema-instance\" xsi:noNamespaceSchemaLocation=\"http://www.lexisnexis.com/xmlschemas/content/public/articledoc/1/\" schemaVersion=\"1.8\" xml:lang=\"en\"><articleDocHead><itemInfo><sourceSectionInfo><positionSection>WASHINGTON DATELINE</positionSection><positionSubsection>POLITICAL NEWS</positionSubsection></sourceSectionInfo></itemInfo></articleDocHead><nitf:body xmlns:nitf=\"http://iptc.org/std/NITF/2006-10-18/\"><nitf:body.head><nitf:hedline><nitf:hl1>Nearly two-thirds of Democrats want Biden to withdraw, new AP-NORC poll finds</nitf:hl1></nitf:hedline><nitf:bylin\n",
      "ResultId: urn:contentItem:6CSS-PB31-JC5B-G2V7-00000-00, Title: What polling shows about Americans' views of Robert F. Kennedy Jr., Date: 2024-08-22T00:00:00Z, Source: {'Id': '', 'Name': 'The Associated Press', 'ContentType': ''}, 'Content': <entry xmlns=\"http://www.w3.org/2005/Atom\"><id>urn:contentItem:6CSS-PB31-JC5B-G2V7-00000-00</id><title>What polling shows about Americans' views of Robert F. Kennedy Jr.</title><published>2024-08-22T00:00:00Z</published><updated>2024-09-17T14:57:49Z</updated><author><name>LexisNexis</name></author><content type=\"application/xml\"><!--Transformation version 1.25--><articleDoc xmlns=\"\" xmlns:xsi=\"http://www.w3.org/2001/XMLSchema-instance\" xsi:noNamespaceSchemaLocation=\"http://www.lexisnexis.com/xmlschemas/content/public/articledoc/1/\" schemaVersion=\"1.8\" xml:lang=\"en\"><articleDocHead><itemInfo><sourceSectionInfo><positionSection>WASHINGTON DATELINE</positionSection><positionSubsection>POLITICAL NEWS</positionSubsection></sourceSectionInfo></itemInfo></articleDocHead><nitf:body xmlns:nitf=\"http://iptc.org/std/NITF/2006-10-18/\"><nitf:body.head><nitf:hedline><nitf:hl1>What polling shows about Americans' views of Robert F. Kennedy Jr.</nitf:hl1></nitf:hedline><nitf:byline><author><person><nam\n",
      "ResultId: urn:contentItem:6CKD-9N21-JC5B-G1NH-00000-00, Title: Joe Biden is out and Kamala Harris is in. Disenchanted voters are taking a new look at their choices, Date: 2024-07-28T00:00:00Z, Source: {'Id': '', 'Name': 'The Associated Press', 'ContentType': ''}, 'Content': <entry xmlns=\"http://www.w3.org/2005/Atom\"><id>urn:contentItem:6CKD-9N21-JC5B-G1NH-00000-00</id><title>Joe Biden is out and Kamala Harris is in. Disenchanted voters are taking a new look at their choices</title><published>2024-07-28T00:00:00Z</published><updated>2024-09-17T14:57:49Z</updated><author><name>LexisNexis</name></author><content type=\"application/xml\"><!--Transformation version 1.25--><articleDoc xmlns=\"\" xmlns:xsi=\"http://www.w3.org/2001/XMLSchema-instance\" xsi:noNamespaceSchemaLocation=\"http://www.lexisnexis.com/xmlschemas/content/public/articledoc/1/\" schemaVersion=\"1.8\" xml:lang=\"en\"><articleDocHead><itemInfo><sourceSectionInfo><positionSection>WASHINGTON DATELINE</positionSection><positionSubsection>POLITICAL NEWS</positionSubsection><positionSubsection>STATE AND REGIONAL</positionSubsection></sourceSectionInfo></itemInfo></articleDocHead><nitf:body xmlns:nitf=\"http://iptc.org/std/NITF/2006-10-18/\"><nitf:body.head><nitf:hedline><nitf:hl1>Joe Biden is out and Kamala Harr\n",
      "ResultId: urn:contentItem:6C7D-8681-DYMD-61FS-00000-00, Title: More global confidence in Biden than Trump even as views of US democracy decline, poll finds, Date: 2024-06-11T00:00:00Z, Source: {'Id': '', 'Name': 'The Associated Press', 'ContentType': ''}, 'Content': <entry xmlns=\"http://www.w3.org/2005/Atom\"><id>urn:contentItem:6C7D-8681-DYMD-61FS-00000-00</id><title>More global confidence in Biden than Trump even as views of US democracy decline, poll finds</title><published>2024-06-11T00:00:00Z</published><updated>2024-09-17T14:57:49Z</updated><author><name>LexisNexis</name></author><content type=\"application/xml\"><!--Transformation version 1.25--><articleDoc xmlns=\"\" xmlns:xsi=\"http://www.w3.org/2001/XMLSchema-instance\" xsi:noNamespaceSchemaLocation=\"http://www.lexisnexis.com/xmlschemas/content/public/articledoc/1/\" schemaVersion=\"1.8\" xml:lang=\"en\"><articleDocHead><itemInfo><sourceSectionInfo><positionSection>DOMESTIC NEWS</positionSection><positionSubsection>POLITICAL NEWS</positionSubsection></sourceSectionInfo></itemInfo></articleDocHead><nitf:body xmlns:nitf=\"http://iptc.org/std/NITF/2006-10-18/\"><nitf:body.head><nitf:hedline><nitf:hl1>More global confidence in Biden than Trump even as views of US democracy decline, poll finds</nitf:hl1></\n",
      "ResultId: urn:contentItem:6C50-W0V1-JC5B-G3MG-00000-00, Title: 'War on coal' rhetoric heats up as Biden seeks to curb pollution with election looming, Date: 2024-05-31T00:00:00Z, Source: {'Id': '', 'Name': 'The Associated Press', 'ContentType': ''}, 'Content': <entry xmlns=\"http://www.w3.org/2005/Atom\"><id>urn:contentItem:6C50-W0V1-JC5B-G3MG-00000-00</id><title>'War on coal' rhetoric heats up as Biden seeks to curb pollution with election looming</title><published>2024-05-31T00:00:00Z</published><updated>2024-09-17T14:57:49Z</updated><author><name>LexisNexis</name></author><content type=\"application/xml\"><!--Transformation version 1.25--><articleDoc xmlns=\"\" xmlns:xsi=\"http://www.w3.org/2001/XMLSchema-instance\" xsi:noNamespaceSchemaLocation=\"http://www.lexisnexis.com/xmlschemas/content/public/articledoc/1/\" schemaVersion=\"1.8\" xml:lang=\"en\"><articleDocHead><itemInfo><sourceSectionInfo><positionSection>DOMESTIC NEWS</positionSection><positionSubsection>POLITICAL NEWS</positionSubsection><positionSubsection>STATE AND REGIONAL</positionSubsection></sourceSectionInfo></itemInfo></articleDocHead><nitf:body xmlns:nitf=\"http://iptc.org/std/NITF/2006-10-18/\"><nitf:body.head><nitf:hedline><nitf:hl1>'War on coal' rhetoric heats up as Biden seeks to cu\n",
      "ResultId: urn:contentItem:6CD3-W6R1-JC5B-G0DX-00000-00, Title: Biden vows to keep running as signs point to rapidly eroding support for him on Capitol Hill, Date: 2024-07-03T00:00:00Z, Source: {'Id': '', 'Name': 'The Associated Press', 'ContentType': ''}, 'Content': <entry xmlns=\"http://www.w3.org/2005/Atom\"><id>urn:contentItem:6CD3-W6R1-JC5B-G0DX-00000-00</id><title>Biden vows to keep running as signs point to rapidly eroding support for him on Capitol Hill</title><published>2024-07-03T00:00:00Z</published><updated>2024-09-17T14:57:48Z</updated><author><name>LexisNexis</name></author><content type=\"application/xml\"><!--Transformation version 1.25--><articleDoc xmlns=\"\" xmlns:xsi=\"http://www.w3.org/2001/XMLSchema-instance\" xsi:noNamespaceSchemaLocation=\"http://www.lexisnexis.com/xmlschemas/content/public/articledoc/1/\" schemaVersion=\"1.8\" xml:lang=\"en\"><articleDocHead><itemInfo><sourceSectionInfo><positionSection>WASHINGTON DATELINE</positionSection><positionSubsection>POLITICAL NEWS</positionSubsection></sourceSectionInfo></itemInfo></articleDocHead><nitf:body xmlns:nitf=\"http://iptc.org/std/NITF/2006-10-18/\"><nitf:body.head><nitf:hedline><nitf:hl1>Biden vows to keep running as signs point to rapidly eroding support for him on Capitol Hill</nitf:\n",
      "ResultId: urn:contentItem:6B8R-K1R1-JC5B-G0TC-00000-00, Title: Biden sets tighter standards for deadly soot pollution from tailpipes, smokestacks, Date: 2024-02-07T00:00:00Z, Source: {'Id': '', 'Name': 'The Associated Press', 'ContentType': ''}, 'Content': <entry xmlns=\"http://www.w3.org/2005/Atom\"><id>urn:contentItem:6B8R-K1R1-JC5B-G0TC-00000-00</id><title>Biden sets tighter standards for deadly soot pollution from tailpipes, smokestacks</title><published>2024-02-07T00:00:00Z</published><updated>2024-09-17T14:57:49Z</updated><author><name>LexisNexis</name></author><content type=\"application/xml\"><!--Transformation version 1.25--><articleDoc xmlns=\"\" xmlns:xsi=\"http://www.w3.org/2001/XMLSchema-instance\" xsi:noNamespaceSchemaLocation=\"http://www.lexisnexis.com/xmlschemas/content/public/articledoc/1/\" schemaVersion=\"1.8\" xml:lang=\"en\"><articleDocHead><itemInfo><sourceSectionInfo><positionSection>BUSINESS NEWS</positionSection><positionSubsection>WASHINGTON DATELINE</positionSubsection><positionSubsection>STATE AND REGIONAL</positionSubsection></sourceSectionInfo></itemInfo></articleDocHead><nitf:body xmlns:nitf=\"http://iptc.org/std/NITF/2006-10-18/\"><nitf:body.head><nitf:hedline><nitf:hl1>Biden sets tighter standards for deadly soot pollut\n",
      "ResultId: urn:contentItem:6CD7-5PH1-JC5B-G180-00000-00, Title: Biden vows to keep running as signs point to rapidly eroding support for him on Capitol Hill, Date: 2024-07-04T00:00:00Z, Source: {'Id': '', 'Name': 'The Associated Press', 'ContentType': ''}, 'Content': <entry xmlns=\"http://www.w3.org/2005/Atom\"><id>urn:contentItem:6CD7-5PH1-JC5B-G180-00000-00</id><title>Biden vows to keep running as signs point to rapidly eroding support for him on Capitol Hill</title><published>2024-07-04T00:00:00Z</published><updated>2024-09-17T14:57:49Z</updated><author><name>LexisNexis</name></author><content type=\"application/xml\"><!--Transformation version 1.25--><articleDoc xmlns=\"\" xmlns:xsi=\"http://www.w3.org/2001/XMLSchema-instance\" xsi:noNamespaceSchemaLocation=\"http://www.lexisnexis.com/xmlschemas/content/public/articledoc/1/\" schemaVersion=\"1.8\" xml:lang=\"en\"><articleDocHead><itemInfo><sourceSectionInfo><positionSection>WASHINGTON DATELINE</positionSection><positionSubsection>POLITICAL NEWS</positionSubsection></sourceSectionInfo></itemInfo></articleDocHead><nitf:body xmlns:nitf=\"http://iptc.org/std/NITF/2006-10-18/\"><nitf:body.head><nitf:hedline><nitf:hl1>Biden vows to keep running as signs point to rapidly eroding support for him on Capitol Hill</nitf:\n",
      "Key: @odata.nextLink, Value: https://services-api.lexisnexis.com/v1/BatchNews?$search=biden%20w/10%20(poll*%20OR%20survey)&$filter=Date%20ge%202024-01-01%20and%20Source/Id%20eq%20'MTA1MzI3Mw'&$top=50&$select=ResultId,Title,Date,Source&$expand=Document,Source&$skip=50\n"
     ]
    }
   ],
   "execution_count": 101
  },
  {
   "metadata": {
    "ExecuteTime": {
     "end_time": "2024-09-13T18:14:34.969250Z",
     "start_time": "2024-09-13T18:14:34.965277Z"
    }
   },
   "cell_type": "code",
   "source": [
    "# save the results to a new list\n",
    "results = r.json()['value']"
   ],
   "id": "7b05983c66e03689",
   "outputs": [],
   "execution_count": 16
  },
  {
   "metadata": {
    "ExecuteTime": {
     "end_time": "2024-09-13T18:14:53.213421Z",
     "start_time": "2024-09-13T18:14:37.002358Z"
    }
   },
   "cell_type": "code",
   "source": [
    "# iterate through the pages of results and add the results to the 'results' list. Because of rate limits, you may need to add a sleep statement of 2-3 seconds, depending on the number of results\n",
    "\n",
    "while '@odata.nextLink' in r.json().keys(): #and counter < pages:\n",
    "    r = oauth.get(r.json()['@odata.nextLink'])\n",
    "    results.extend(r.json()['value'])\n",
    "    #time.sleep(2)"
   ],
   "id": "f45d43b8cb552985",
   "outputs": [],
   "execution_count": 17
  },
  {
   "metadata": {
    "ExecuteTime": {
     "end_time": "2024-09-17T15:06:31.233917Z",
     "start_time": "2024-09-17T15:06:31.231272Z"
    }
   },
   "cell_type": "code",
   "source": [
    "# get the headers to check on your rate limits. X-RateLimit-Limit is for 10 second/1 minute/1 hour/1 day thresholds\n",
    "r.headers"
   ],
   "id": "da1c869b8e3ca40c",
   "outputs": [
    {
     "data": {
      "text/plain": [
       "{'Date': 'Tue, 17 Sep 2024 14:57:49 GMT', 'Content-Type': 'application/json; odata.metadata=minimal', 'Transfer-Encoding': 'chunked', 'Connection': 'keep-alive', 'Vary': 'Origin, Access-Control-Request-Method, Access-Control-Request-Headers, Accept-Encoding', 'Cache-Control': 'no-cache', 'Pragma': 'no-cache', 'Expires': '-1', 'Server': 'auth_api.lexisnexis.com  3000', 'X-RateLimit-Limit': '2/5/200/1000', 'X-RateLimit-Remaining': '1/4/196/996', 'X-RateLimit-Reset': '1726585068/1726585118/1726587694/1726670494', 'OData-Version': '4.0', 'X-AspNet-Version': '4.0.30319', 'X-Powered-By': 'ASP.NET', 'X-Content-Type-Options': 'nosniff', 'X-XSS-Protection': '1; mode=block', 'X-Frame-Options': 'DENY', 'X-RE-Ref': '1 1726584123482385', 'P3P': 'CP=\"IDC DSP LAW ADM DEV TAI PSA PSD IVA IVD CON HIS TEL OUR DEL SAM OTR IND OTC\"'}"
      ]
     },
     "execution_count": 102,
     "metadata": {},
     "output_type": "execute_result"
    }
   ],
   "execution_count": 102
  },
  {
   "metadata": {},
   "cell_type": "markdown",
   "source": "#### Save the full text of the documents",
   "id": "1b16cdc8310f75a"
  },
  {
   "metadata": {},
   "cell_type": "code",
   "outputs": [],
   "execution_count": 91,
   "source": [
    "# iterate through the results, get the 'Content' field, and save as an XML file with the document ID as the filename\n",
    "for result in results:\n",
    "    doc_id = result['ResultId']\n",
    "    doc = result['Document']['Content']\n",
    "    with open(f'{doc_id}.xml', 'w') as f:\n",
    "        f.write(doc)"
   ],
   "id": "85fedface0c6b403"
  },
  {
   "metadata": {},
   "cell_type": "markdown",
   "source": "# Downloading just metadata and/or individual documents",
   "id": "806e6a56ecd08da"
  },
  {
   "metadata": {
    "ExecuteTime": {
     "end_time": "2024-09-17T15:07:34.011096Z",
     "start_time": "2024-09-17T15:07:30.983253Z"
    }
   },
   "cell_type": "code",
   "source": [
    "url_params = {'$search': search_string, '$filter': filter, '$top': results_per_page, '$select': select}\n",
    "\n",
    "# you need to pass the token in the headers by calling 'get' on the oauth object\n",
    "r = oauth.get(base_url + search_endpoint, params=url_params, timeout=20)"
   ],
   "id": "d413762ac93570ea",
   "outputs": [],
   "execution_count": 107
  },
  {
   "metadata": {
    "ExecuteTime": {
     "end_time": "2024-09-17T15:07:36.158618Z",
     "start_time": "2024-09-17T15:07:36.152188Z"
    }
   },
   "cell_type": "code",
   "source": [
    "# see the results\n",
    "r.json()"
   ],
   "id": "d467db3206b9f519",
   "outputs": [
    {
     "data": {
      "text/plain": [
       "{'@odata.context': 'https://services-api.lexisnexis.com/v1/$metadata#BatchNews(ResultId,Title,Date,Source)',\n",
       " '@odata.count': 319,\n",
       " 'value': [{'ResultId': 'urn:contentItem:6CH3-PJR1-JC5B-G3Y0-00000-00',\n",
       "   'Title': 'Takeaways from AP-NORC poll showing majority of Democrats want Biden to drop out',\n",
       "   'Date': '2024-07-17T00:00:00Z',\n",
       "   'Source': {'Id': '', 'Name': 'The Associated Press', 'ContentType': ''}},\n",
       "  {'ResultId': 'urn:contentItem:6CT6-CTR1-JC5B-G0G4-00000-00',\n",
       "   'Title': \"What polling shows about Americans' views of Robert F. Kennedy Jr.\",\n",
       "   'Date': '2024-08-23T00:00:00Z',\n",
       "   'Source': {'Id': '', 'Name': 'The Associated Press', 'ContentType': ''}},\n",
       "  {'ResultId': 'urn:contentItem:6CH3-6RR1-JC5B-G3JW-00000-00',\n",
       "   'Title': 'Nearly two-thirds of Democrats want Biden to withdraw, new AP-NORC poll finds',\n",
       "   'Date': '2024-07-17T00:00:00Z',\n",
       "   'Source': {'Id': '', 'Name': 'The Associated Press', 'ContentType': ''}},\n",
       "  {'ResultId': 'urn:contentItem:6CSS-PB31-JC5B-G2V7-00000-00',\n",
       "   'Title': \"What polling shows about Americans' views of Robert F. Kennedy Jr.\",\n",
       "   'Date': '2024-08-22T00:00:00Z',\n",
       "   'Source': {'Id': '', 'Name': 'The Associated Press', 'ContentType': ''}},\n",
       "  {'ResultId': 'urn:contentItem:6CKD-9N21-JC5B-G1NH-00000-00',\n",
       "   'Title': 'Joe Biden is out and Kamala Harris is in. Disenchanted voters are taking a new look at their choices',\n",
       "   'Date': '2024-07-28T00:00:00Z',\n",
       "   'Source': {'Id': '', 'Name': 'The Associated Press', 'ContentType': ''}},\n",
       "  {'ResultId': 'urn:contentItem:6C7D-8681-DYMD-61FS-00000-00',\n",
       "   'Title': 'More global confidence in Biden than Trump even as views of US democracy decline, poll finds',\n",
       "   'Date': '2024-06-11T00:00:00Z',\n",
       "   'Source': {'Id': '', 'Name': 'The Associated Press', 'ContentType': ''}},\n",
       "  {'ResultId': 'urn:contentItem:6C50-W0V1-JC5B-G3MG-00000-00',\n",
       "   'Title': \"'War on coal' rhetoric heats up as Biden seeks to curb pollution with election looming\",\n",
       "   'Date': '2024-05-31T00:00:00Z',\n",
       "   'Source': {'Id': '', 'Name': 'The Associated Press', 'ContentType': ''}},\n",
       "  {'ResultId': 'urn:contentItem:6CD3-W6R1-JC5B-G0DX-00000-00',\n",
       "   'Title': 'Biden vows to keep running as signs point to rapidly eroding support for him on Capitol Hill',\n",
       "   'Date': '2024-07-03T00:00:00Z',\n",
       "   'Source': {'Id': '', 'Name': 'The Associated Press', 'ContentType': ''}},\n",
       "  {'ResultId': 'urn:contentItem:6B8R-K1R1-JC5B-G0TC-00000-00',\n",
       "   'Title': 'Biden sets tighter standards for deadly soot pollution from tailpipes, smokestacks',\n",
       "   'Date': '2024-02-07T00:00:00Z',\n",
       "   'Source': {'Id': '', 'Name': 'The Associated Press', 'ContentType': ''}},\n",
       "  {'ResultId': 'urn:contentItem:6CD7-5PH1-JC5B-G180-00000-00',\n",
       "   'Title': 'Biden vows to keep running as signs point to rapidly eroding support for him on Capitol Hill',\n",
       "   'Date': '2024-07-04T00:00:00Z',\n",
       "   'Source': {'Id': '', 'Name': 'The Associated Press', 'ContentType': ''}},\n",
       "  {'ResultId': 'urn:contentItem:6CSX-JWN1-DYMD-63CD-00000-00',\n",
       "   'Title': \"The 'joyful' Democratic convention is over. The real test for Kamala Harris' campaign now begins\",\n",
       "   'Date': '2024-08-23T00:00:00Z',\n",
       "   'Source': {'Id': '', 'Name': 'The Associated Press', 'ContentType': ''}},\n",
       "  {'ResultId': 'urn:contentItem:6BV8-2B81-DYMD-63FV-00000-00',\n",
       "   'Title': 'Trump picks up more national delegates as the only choice for Wyoming Republicans',\n",
       "   'Date': '2024-04-20T00:00:00Z',\n",
       "   'Source': {'Id': '', 'Name': 'The Associated Press', 'ContentType': ''}},\n",
       "  {'ResultId': 'urn:contentItem:6CM7-00F1-DYMD-62GG-00000-00',\n",
       "   'Title': 'What polling shows about the top VP contenders for Kamala Harris',\n",
       "   'Date': '2024-08-01T00:00:00Z',\n",
       "   'Source': {'Id': '', 'Name': 'The Associated Press', 'ContentType': ''}},\n",
       "  {'ResultId': 'urn:contentItem:6CM1-0SF1-DYMD-64K7-00000-00',\n",
       "   'Title': 'Harris gives Democrats a jolt in a critical part of swing state Wisconsin',\n",
       "   'Date': '2024-07-31T00:00:00Z',\n",
       "   'Source': {'Id': '', 'Name': 'The Associated Press', 'ContentType': ''}},\n",
       "  {'ResultId': 'urn:contentItem:6CM1-0SF1-DYMD-64K8-00000-00',\n",
       "   'Title': 'About 8 in 10 Democrats are satisfied with Harris in stark shift after Biden drops out: AP-NORC poll',\n",
       "   'Date': '2024-07-31T00:00:00Z',\n",
       "   'Source': {'Id': '', 'Name': 'The Associated Press', 'ContentType': ''}},\n",
       "  {'ResultId': 'urn:contentItem:6CHG-FTB1-DYMD-62WC-00000-00',\n",
       "   'Title': 'Republicans emerge from their convention thrilled with Trump and talking about a blowout victory',\n",
       "   'Date': '2024-07-19T00:00:00Z',\n",
       "   'Source': {'Id': '', 'Name': 'The Associated Press', 'ContentType': ''}},\n",
       "  {'ResultId': 'urn:contentItem:6C5V-NBN1-JC5B-G345-00000-00',\n",
       "   'Title': \"Many Americans are still shying away from EVs despite Biden's push, an AP-NORC/EPIC poll finds\",\n",
       "   'Date': '2024-06-04T00:00:00Z',\n",
       "   'Source': {'Id': '', 'Name': 'The Associated Press', 'ContentType': ''}},\n",
       "  {'ResultId': 'urn:contentItem:6BJ7-B791-DYMD-61F3-00000-00',\n",
       "   'Title': \"Biden's fraying coalition and Trump's struggle with moderates: AP data shows nominees' challenges\",\n",
       "   'Date': '2024-03-13T00:00:00Z',\n",
       "   'Source': {'Id': '', 'Name': 'The Associated Press', 'ContentType': ''}},\n",
       "  {'ResultId': 'urn:contentItem:6C4N-3BB1-DYMD-63MC-00000-00',\n",
       "   'Title': \"Robert F. Kennedy Jr. files complaint over rules for CNN 's presidential debate next month\",\n",
       "   'Date': '2024-05-29T00:00:00Z',\n",
       "   'Source': {'Id': '', 'Name': 'The Associated Press', 'ContentType': ''}},\n",
       "  {'ResultId': 'urn:contentItem:6BWB-N131-JC5B-G2D1-00000-00',\n",
       "   'Title': 'Strict new EPA rules would force coal-fired power plants to capture emissions or shut down',\n",
       "   'Date': '2024-04-25T00:00:00Z',\n",
       "   'Source': {'Id': '', 'Name': 'The Associated Press', 'ContentType': ''}},\n",
       "  {'ResultId': 'urn:contentItem:6BGS-0JS1-DYMD-6298-00000-00',\n",
       "   'Title': 'Half of US states join GOP lawsuits challenging new EPA rule on deadly soot pollution',\n",
       "   'Date': '2024-03-06T00:00:00Z',\n",
       "   'Source': {'Id': '', 'Name': 'The Associated Press', 'ContentType': ''}},\n",
       "  {'ResultId': 'urn:contentItem:6BFJ-VT31-JC5B-G4CF-00000-00',\n",
       "   'Title': 'EPA delays rules for existing natural gas power plants until after the November election',\n",
       "   'Date': '2024-03-01T00:00:00Z',\n",
       "   'Source': {'Id': '', 'Name': 'The Associated Press', 'ContentType': ''}},\n",
       "  {'ResultId': 'urn:contentItem:6CNP-S9G1-DYMD-64DB-00000-00',\n",
       "   'Title': 'Majority of US adults say democracy is on the ballot but they differ on the threat: AP-NORC poll',\n",
       "   'Date': '2024-08-08T00:00:00Z',\n",
       "   'Source': {'Id': '', 'Name': 'The Associated Press', 'ContentType': ''}},\n",
       "  {'ResultId': 'urn:contentItem:6CT0-MC11-DYMD-6482-00000-00',\n",
       "   'Title': 'Biden promised to clean up heavily polluted communities. Here is how advocates say he did',\n",
       "   'Date': '2024-08-23T00:00:00Z',\n",
       "   'Source': {'Id': '', 'Name': 'The Associated Press', 'ContentType': ''}},\n",
       "  {'ResultId': 'urn:contentItem:6CW8-11M1-JC5B-G3WR-00000-00',\n",
       "   'Title': 'The presidential campaigns brace for an intense sprint to Election Day',\n",
       "   'Date': '2024-09-03T00:00:00Z',\n",
       "   'Source': {'Id': '', 'Name': 'The Associated Press', 'ContentType': ''}},\n",
       "  {'ResultId': 'urn:contentItem:6BFJ-RDH1-JC5B-G496-00000-00',\n",
       "   'Title': 'EPA to delay rules for some power plants until after November election',\n",
       "   'Date': '2024-02-29T00:00:00Z',\n",
       "   'Source': {'Id': '', 'Name': 'The Associated Press', 'ContentType': ''}},\n",
       "  {'ResultId': 'urn:contentItem:6CHF-CV11-DYMD-62P9-00000-00',\n",
       "   'Title': 'Majority of Democrats think Kamala Harris would make a good president, AP-NORC poll shows',\n",
       "   'Date': '2024-07-19T00:00:00Z',\n",
       "   'Source': {'Id': '', 'Name': 'The Associated Press', 'ContentType': ''}},\n",
       "  {'ResultId': 'urn:contentItem:6C99-YNM1-JC5B-G0FG-00000-00',\n",
       "   'Title': \"Robert F. Kennedy Jr. fails to qualify for CNN 's debate. It'll be a showdown between Biden and Trump\",\n",
       "   'Date': '2024-06-20T00:00:00Z',\n",
       "   'Source': {'Id': '', 'Name': 'The Associated Press', 'ContentType': ''}},\n",
       "  {'ResultId': 'urn:contentItem:6BN4-NT71-JC5B-G053-00000-00',\n",
       "   'Title': 'Trump evokes more anger and fear from Democrats than Biden does from Republicans, AP-NORC poll shows',\n",
       "   'Date': '2024-03-27T00:00:00Z',\n",
       "   'Source': {'Id': '', 'Name': 'The Associated Press', 'ContentType': ''}},\n",
       "  {'ResultId': 'urn:contentItem:6B54-9SW1-DYMD-62T7-00000-00',\n",
       "   'Title': 'Latest EPA assessment shows almost no improvement in river and stream nitrogen pollution',\n",
       "   'Date': '2024-01-21T00:00:00Z',\n",
       "   'Source': {'Id': '', 'Name': 'The Associated Press', 'ContentType': ''}},\n",
       "  {'ResultId': 'urn:contentItem:6CR0-KC11-DYMD-60WV-00000-00',\n",
       "   'Title': 'Americans give Harris an advantage over Trump on honesty and discipline, an AP-NORC poll finds',\n",
       "   'Date': '2024-08-14T00:00:00Z',\n",
       "   'Source': {'Id': '', 'Name': 'The Associated Press', 'ContentType': ''}},\n",
       "  {'ResultId': 'urn:contentItem:6C8V-7Y11-DYMD-62W9-00000-00',\n",
       "   'Title': 'Majority of Americans favor forgiving medical debt, AP-NORC poll finds',\n",
       "   'Date': '2024-06-18T00:00:00Z',\n",
       "   'Source': {'Id': '', 'Name': 'The Associated Press', 'ContentType': ''}},\n",
       "  {'ResultId': 'urn:contentItem:6BSS-6171-JC5B-G34X-00000-00',\n",
       "   'Title': \"Biden wins Wyoming 's caucuses, with Democrats in Alaska still to get their say in the nomination\",\n",
       "   'Date': '2024-04-13T00:00:00Z',\n",
       "   'Source': {'Id': '', 'Name': 'The Associated Press', 'ContentType': ''}},\n",
       "  {'ResultId': 'urn:contentItem:6CK5-48S1-DYMD-628C-00000-00',\n",
       "   'Title': \"'Gen Z feels the Kamalove': Youth-led progressive groups hope Harris will energize young voters\",\n",
       "   'Date': '2024-07-27T00:00:00Z',\n",
       "   'Source': {'Id': '', 'Name': 'The Associated Press', 'ContentType': ''}},\n",
       "  {'ResultId': 'urn:contentItem:6B7M-N6B1-JC5B-G2P8-00000-00',\n",
       "   'Title': 'Half of US adults say Israel has gone too far in war in Gaza, AP-NORC poll shows',\n",
       "   'Date': '2024-02-02T00:00:00Z',\n",
       "   'Source': {'Id': '', 'Name': 'The Associated Press', 'ContentType': ''}},\n",
       "  {'ResultId': 'urn:contentItem:6CCC-FFW1-DYMD-60V8-00000-00',\n",
       "   'Title': \"A private call of top Democrats fuels more insider anger about Biden's debate performance\",\n",
       "   'Date': '2024-06-30T00:00:00Z',\n",
       "   'Source': {'Id': '', 'Name': 'The Associated Press', 'ContentType': ''}},\n",
       "  {'ResultId': 'urn:contentItem:6CVM-3K81-DYMD-64RB-00000-00',\n",
       "   'Title': 'Harris and Trump offer starkly different visions on climate change and energy',\n",
       "   'Date': '2024-08-31T00:00:00Z',\n",
       "   'Source': {'Id': '', 'Name': 'The Associated Press', 'ContentType': ''}},\n",
       "  {'ResultId': 'urn:contentItem:6CYT-7RW1-DYMD-61PF-00000-00',\n",
       "   'Title': 'Harris is promoting her resume and her goals rather than race as she courts Black voters',\n",
       "   'Date': '2024-09-15T00:00:00Z',\n",
       "   'Source': {'Id': '', 'Name': 'The Associated Press', 'ContentType': ''}},\n",
       "  {'ResultId': 'urn:contentItem:6CYN-JV31-DYMD-60XH-00000-00',\n",
       "   'Title': 'Harris is promoting her resume and her goals rather than race as she courts Black voters',\n",
       "   'Date': '2024-09-14T00:00:00Z',\n",
       "   'Source': {'Id': '', 'Name': 'The Associated Press', 'ContentType': ''}},\n",
       "  {'ResultId': 'urn:contentItem:6CJ9-MSB1-JC5B-G213-00000-00',\n",
       "   'Title': 'Harris steps into the limelight. And the coconut trees and memes have followed',\n",
       "   'Date': '2024-07-23T00:00:00Z',\n",
       "   'Source': {'Id': '', 'Name': 'The Associated Press', 'ContentType': ''}},\n",
       "  {'ResultId': 'urn:contentItem:6CSY-WM11-JC5B-G4H9-00000-00',\n",
       "   'Title': 'Biden promised to clean up heavily polluted communities. Here is how advocates say he did',\n",
       "   'Date': '2024-08-23T00:00:00Z',\n",
       "   'Source': {'Id': '', 'Name': 'The Associated Press', 'ContentType': ''}},\n",
       "  {'ResultId': 'urn:contentItem:6BSY-P9B1-JC5B-G4H0-00000-00',\n",
       "   'Title': 'Biden wins more delegates in Wyoming and Alaska as he heads toward Democratic nomination',\n",
       "   'Date': '2024-04-14T00:00:00Z',\n",
       "   'Source': {'Id': '', 'Name': 'The Associated Press', 'ContentType': ''}},\n",
       "  {'ResultId': 'urn:contentItem:6CKV-V9Y1-DYMD-62CC-00000-00',\n",
       "   'Title': 'Biden and Lula urge Venezuelan authorities to release detailed presidential election voting data',\n",
       "   'Date': '2024-07-30T00:00:00Z',\n",
       "   'Source': {'Id': '', 'Name': 'The Associated Press', 'ContentType': ''}},\n",
       "  {'ResultId': 'urn:contentItem:6CJ6-26R1-DYMD-62Y9-00000-00',\n",
       "   'Title': 'Harris steps into the limelight. And the coconut trees and memes have followed',\n",
       "   'Date': '2024-07-22T00:00:00Z',\n",
       "   'Source': {'Id': '', 'Name': 'The Associated Press', 'ContentType': ''}},\n",
       "  {'ResultId': 'urn:contentItem:6CR6-JKB1-JC5B-G2GM-00000-00',\n",
       "   'Title': 'Democrats trust Harris slightly more than Biden on climate change, an AP-NORC poll finds',\n",
       "   'Date': '2024-08-15T00:00:00Z',\n",
       "   'Source': {'Id': '', 'Name': 'The Associated Press', 'ContentType': ''}},\n",
       "  {'ResultId': 'urn:contentItem:6CJ5-F1H1-JC5B-G0XC-00000-00',\n",
       "   'Title': 'Black voters feel excitement, hope and a lot of worry as Harris takes center stage in campaign',\n",
       "   'Date': '2024-07-22T00:00:00Z',\n",
       "   'Source': {'Id': '', 'Name': 'The Associated Press', 'ContentType': ''}},\n",
       "  {'ResultId': 'urn:contentItem:6CH1-D701-JC5B-G31N-00000-00',\n",
       "   'Title': 'AP News in Brief at 6:04 p.m. EDT',\n",
       "   'Date': '2024-07-17T00:00:00Z',\n",
       "   'Source': {'Id': '', 'Name': 'The Associated Press', 'ContentType': ''}},\n",
       "  {'ResultId': 'urn:contentItem:6BSK-MT61-JC5B-G1GS-00000-00',\n",
       "   'Title': 'Biden heads to his hometown of Scranton , Pennsylvania , to talk about taxes',\n",
       "   'Date': '2024-04-12T00:00:00Z',\n",
       "   'Source': {'Id': '', 'Name': 'The Associated Press', 'ContentType': ''}},\n",
       "  {'ResultId': 'urn:contentItem:6BJM-FN11-JC5B-G10J-00000-00',\n",
       "   'Title': 'AP Decision Notes: What to expect in the Tuesday presidential and state primaries',\n",
       "   'Date': '2024-03-15T00:00:00Z',\n",
       "   'Source': {'Id': '', 'Name': 'The Associated Press', 'ContentType': ''}},\n",
       "  {'ResultId': 'urn:contentItem:6BXP-KSX1-DYMD-641W-00000-00',\n",
       "   'Title': 'Democrats advance election bill in Pennsylvania long sought by counties to process ballots faster',\n",
       "   'Date': '2024-05-01T00:00:00Z',\n",
       "   'Source': {'Id': '', 'Name': 'The Associated Press', 'ContentType': ''}}],\n",
       " '@odata.nextLink': \"https://services-api.lexisnexis.com/v1/BatchNews?$search=biden%20w/10%20(poll*%20OR%20survey)%20and%20publication('The%20Associated%20Press')&$filter=Date%20ge%202024-01-01&$top=50&$select=ResultId,Title,Date,Source&$expand=Source&$skip=50\"}"
      ]
     },
     "execution_count": 108,
     "metadata": {},
     "output_type": "execute_result"
    }
   ],
   "execution_count": 108
  },
  {
   "metadata": {
    "ExecuteTime": {
     "end_time": "2024-09-17T15:15:31.782566Z",
     "start_time": "2024-09-17T15:15:31.779523Z"
    }
   },
   "cell_type": "code",
   "source": [
    "# get the document IDs\n",
    "doc_ids = [doc['ResultId'] for doc in r.json()['value']]"
   ],
   "id": "c5bca70845878340",
   "outputs": [],
   "execution_count": 110
  },
  {
   "metadata": {
    "ExecuteTime": {
     "end_time": "2024-09-13T18:09:57.626185Z",
     "start_time": "2024-09-13T18:09:56.754087Z"
    }
   },
   "cell_type": "code",
   "source": [
    "# iterate through the pages of results and add the doc_ids to the list. Because of rate limits, you may need to add a sleep statement of 2-3 seconds, depending on the number of results\n",
    "\n",
    "#counter = 0\n",
    "#pages = 5  # number of pages to fetch\n",
    "\n",
    "while '@odata.nextLink' in r.json().keys(): # and counter < pages:\n",
    "    r = oauth.get(r.json()['@odata.nextLink'])\n",
    "    doc_ids.extend([doc['ResultId'] for doc in r.json()['value']])\n",
    "    #counter += 1  # Increment the counter while '@odata.nextLink' in r.json().keys():\n",
    "    #time.sleep(2)"
   ],
   "id": "48b2d5c418fedc24",
   "outputs": [],
   "execution_count": 9
  },
  {
   "metadata": {
    "ExecuteTime": {
     "end_time": "2024-09-17T15:07:11.404528Z",
     "start_time": "2024-09-17T15:07:11.400980Z"
    }
   },
   "cell_type": "code",
   "source": "r.headers",
   "id": "e34924dfc8599002",
   "outputs": [
    {
     "data": {
      "text/plain": [
       "{'Date': 'Tue, 17 Sep 2024 15:06:59 GMT', 'Content-Type': 'application/json; odata.metadata=minimal', 'Content-Length': '14618', 'Connection': 'keep-alive', 'Vary': 'Origin, Access-Control-Request-Method, Access-Control-Request-Headers, Accept-Encoding', 'Cache-Control': 'no-cache', 'Pragma': 'no-cache', 'Expires': '-1', 'Server': 'auth_api.lexisnexis.com  3000', 'X-RateLimit-Limit': '60/125/1500/12000', 'X-RateLimit-Remaining': '59/124/1495/11995', 'X-RateLimit-Reset': '1726585628/1726585678/1726587740/1726670540', 'OData-Version': '4.0', 'X-AspNet-Version': '4.0.30319', 'X-Powered-By': 'ASP.NET', 'X-Content-Type-Options': 'nosniff', 'X-XSS-Protection': '1; mode=block', 'X-Frame-Options': 'DENY', 'X-RE-Ref': '1 1726585618296818', 'P3P': 'CP=\"IDC DSP LAW ADM DEV TAI PSA PSD IVA IVD CON HIS TEL OUR DEL SAM OTR IND OTC\"'}"
      ]
     },
     "execution_count": 105,
     "metadata": {},
     "output_type": "execute_result"
    }
   ],
   "execution_count": 105
  },
  {
   "metadata": {},
   "cell_type": "markdown",
   "source": "#### Download and save the full text of the documents",
   "id": "ec135adfc9040c15"
  },
  {
   "metadata": {
    "ExecuteTime": {
     "end_time": "2024-09-17T15:17:07.244809Z",
     "start_time": "2024-09-17T15:16:59.424576Z"
    }
   },
   "cell_type": "code",
   "source": [
    "# iterate over the doc_ids and fetch the documents and save them to a file. This will take a while, depending on the number of documents\n",
    "counter = 1\n",
    "for doc_id in doc_ids[:5]: # limit to 5 documents for testing purposes\n",
    "    docs_url = f\"{base_url}Documents(DocumentId='/shared/document/news/{doc_id}',DocumentIdType='DocFullPath')/$value\"\n",
    "    doc = oauth.get(docs_url)\n",
    "    print(f\"Fetching document {counter}: {doc_id}\")\n",
    "    with open(f'{doc_id}.xml', 'w') as f:\n",
    "        f.write(doc.text)\n",
    "    counter += 1\n"
   ],
   "id": "3195ac4bca738f71",
   "outputs": [
    {
     "name": "stdout",
     "output_type": "stream",
     "text": [
      "Fetching document 1: urn:contentItem:6CH3-PJR1-JC5B-G3Y0-00000-00\n",
      "Fetching document 2: urn:contentItem:6CT6-CTR1-JC5B-G0G4-00000-00\n",
      "Fetching document 3: urn:contentItem:6CH3-6RR1-JC5B-G3JW-00000-00\n",
      "Fetching document 4: urn:contentItem:6CSS-PB31-JC5B-G2V7-00000-00\n",
      "Fetching document 5: urn:contentItem:6CKD-9N21-JC5B-G1NH-00000-00\n"
     ]
    }
   ],
   "execution_count": 111
  },
  {
   "metadata": {
    "ExecuteTime": {
     "end_time": "2024-09-17T15:17:33.599445Z",
     "start_time": "2024-09-17T15:17:33.595967Z"
    }
   },
   "cell_type": "code",
   "source": "doc.headers",
   "id": "d59f3f80a290405a",
   "outputs": [
    {
     "data": {
      "text/plain": [
       "{'Date': 'Tue, 17 Sep 2024 15:17:09 GMT', 'Content-Type': 'application/atom+xml;charset=utf-8', 'Content-Length': '18262', 'Connection': 'keep-alive', 'Vary': 'Origin, Access-Control-Request-Method, Access-Control-Request-Headers', 'Cache-Control': 'no-cache', 'Pragma': 'no-cache', 'Expires': '-1', 'Server': 'auth_api.lexisnexis.com  3000', 'X-RateLimit-Limit': '25/50/1500/24000', 'X-RateLimit-Remaining': '20/45/1495/23995', 'X-RateLimit-Reset': '1726586231/1726586281/1726589821/1726672621', 'X-AspNet-Version': '4.0.30319', 'X-Powered-By': 'ASP.NET', 'X-Content-Type-Options': 'nosniff', 'X-XSS-Protection': '1; mode=block', 'X-Frame-Options': 'DENY', 'X-RE-Ref': '1 1726586221591172', 'P3P': 'CP=\"IDC DSP LAW ADM DEV TAI PSA PSD IVA IVD CON HIS TEL OUR DEL SAM OTR IND OTC\"'}"
      ]
     },
     "execution_count": 112,
     "metadata": {},
     "output_type": "execute_result"
    }
   ],
   "execution_count": 112
  }
 ],
 "metadata": {
  "kernelspec": {
   "display_name": "Python 3",
   "language": "python",
   "name": "python3"
  },
  "language_info": {
   "codemirror_mode": {
    "name": "ipython",
    "version": 2
   },
   "file_extension": ".py",
   "mimetype": "text/x-python",
   "name": "python",
   "nbconvert_exporter": "python",
   "pygments_lexer": "ipython2",
   "version": "2.7.6"
  }
 },
 "nbformat": 4,
 "nbformat_minor": 5
}
