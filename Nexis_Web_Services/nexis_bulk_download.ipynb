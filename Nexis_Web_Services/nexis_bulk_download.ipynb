{
 "cells": [
  {
   "metadata": {
    "ExecuteTime": {
     "end_time": "2024-09-13T20:29:30.105726Z",
     "start_time": "2024-09-13T20:29:30.071430Z"
    }
   },
   "cell_type": "code",
   "source": [
    "# script to download documents from Nexis Uni using the Web Services Kit API for bulk downloads\n",
    "from oauthlib.oauth2 import BackendApplicationClient\n",
    "from requests_oauthlib import OAuth2Session\n",
    "from requests.auth import HTTPBasicAuth\n",
    "import os\n",
    "import time"
   ],
   "id": "f509b5d77fba4142",
   "outputs": [],
   "execution_count": 1
  },
  {
   "metadata": {
    "ExecuteTime": {
     "end_time": "2024-09-13T20:29:33.333003Z",
     "start_time": "2024-09-13T20:29:33.331058Z"
    }
   },
   "cell_type": "code",
   "source": [
    "# be sure to set up the client_id and client_secret as environment variables in your shell\n",
    "client_id = os.getenv('CLIENT_ID')\n",
    "client_secret = os.getenv('CLIENT_SECRET')\n",
    "scope = 'http://oauth.lexisnexis.com/all'\n",
    "grant_type = 'client_credentials'\n",
    "content_type = 'application/x-www-form-urlencoded'"
   ],
   "id": "ea20b6923b0a1f4a",
   "outputs": [],
   "execution_count": 2
  },
  {
   "metadata": {
    "ExecuteTime": {
     "end_time": "2024-09-13T20:29:35.548718Z",
     "start_time": "2024-09-13T20:29:35.217405Z"
    }
   },
   "cell_type": "code",
   "source": [
    "# for details on authentication, see the docs at https://www.lexisnexis.com/lextalk/developers/ln-webservice-api/p/apidocs.aspx#introduction, section \"Service to Service ID\"\n",
    "# also see https://requests-oauthlib.readthedocs.io/en/latest/oauth2_workflow.html#backend-application-flow \n",
    "auth = HTTPBasicAuth(client_id, client_secret)\n",
    "\n",
    "client = BackendApplicationClient(client_id=client_id, scope=scope, grant_type=grant_type, token_type='Bearer', client_secret=client_secret, content_type=content_type)\n",
    "\n",
    "oauth = OAuth2Session(client=client)\n",
    "\n",
    "token = oauth.fetch_token(token_url='https://auth-api.lexisnexis.com/oauth/v2/token', auth=auth)"
   ],
   "id": "34cc040c8f2ce18d",
   "outputs": [],
   "execution_count": 3
  },
  {
   "metadata": {
    "ExecuteTime": {
     "end_time": "2024-09-13T20:29:36.977091Z",
     "start_time": "2024-09-13T20:29:36.973965Z"
    }
   },
   "cell_type": "code",
   "source": [
    "# get the token\n",
    "token"
   ],
   "id": "d003b6b5b3547c89",
   "outputs": [
    {
     "data": {
      "text/plain": [
       "{'access_token': 'NzYzZjk3MDQtMjM3OS00ZmMzLTk1MjktZmMxOWZhMTI4Yjcx',\n",
       " 'token_type': 'Bearer',\n",
       " 'expires_in': 86400,\n",
       " 'expires_at': 1726345775.546706}"
      ]
     },
     "execution_count": 4,
     "metadata": {},
     "output_type": "execute_result"
    }
   ],
   "execution_count": 4
  },
  {
   "metadata": {},
   "cell_type": "markdown",
   "source": "## Searching for documents",
   "id": "afc7af588d421ea"
  },
  {
   "metadata": {
    "ExecuteTime": {
     "end_time": "2024-09-13T20:29:40.583655Z",
     "start_time": "2024-09-13T20:29:40.581346Z"
    }
   },
   "cell_type": "code",
   "source": [
    "# set up a request to the BatchNews endpoint; should only be used anytime you are returning > 450 documents. For smaller queries, use the 'News' endpoint\n",
    "base_url = 'https://services-api.lexisnexis.com/v1/'\n",
    "search_endpoint = \"BatchNews\"\n",
    "# Documentation says you can add these search fields: agg-copyright, body, byline, cite, company, headline, hlead, length, publication, publication-type, pub-copyright, section, show, term, ticker, title, jurisinfo, load-date, xce-date, subject, industry, geography, document-type, country\n",
    "search_string = \"biden w/10 (poll* OR survey) and publication('The Associated Press')\"\n",
    "filter = \"Date ge 2024-01-01\" # comparison operators: gt, ge, lt, le\n",
    "results_per_page = 50 # max is 50 for BatchNews\n",
    "select = \"ResultId,Title,Date,Source\""
   ],
   "id": "ab146ab720701bf8",
   "outputs": [],
   "execution_count": 5
  },
  {
   "metadata": {},
   "cell_type": "markdown",
   "source": [
    "# Rate limits and downloading full text\n",
    "Rate limits for API calls are expressed as calls per 10s/1m/1h/1d. For getting the full text, you have two options. If using the `$expand=Document` parameter, your search results will return the full text of the document. You can make 1,000 of these calls a day (2/5/200/1000) and using the max of 50 documents per search, you can get 50k documents a day. The other method is to search and retrieve just metadata. You can do 12,000 of these searches a day (60/125/1500/12000). From these searches you can get the `ResultId` and individually download 24k documents a day (25/50/1500/24000). All three of these throttling buckets are separate. "
   ],
   "id": "b56c16df4030304f"
  },
  {
   "metadata": {},
   "cell_type": "markdown",
   "source": "## Getting the full text of the documents with your search results",
   "id": "6b24bf664fce5608"
  },
  {
   "metadata": {
    "ExecuteTime": {
     "end_time": "2024-09-13T20:29:43.509145Z",
     "start_time": "2024-09-13T20:29:43.507019Z"
    }
   },
   "cell_type": "code",
   "source": "url_params = {'$search': search_string, '$filter': filter, '$top': results_per_page, '$select': select, '$expand': 'Document'}",
   "id": "c08f99e1fb6a7edb",
   "outputs": [],
   "execution_count": 6
  },
  {
   "metadata": {
    "ExecuteTime": {
     "end_time": "2024-09-13T20:30:08.154918Z",
     "start_time": "2024-09-13T20:29:47.375486Z"
    }
   },
   "cell_type": "code",
   "outputs": [],
   "execution_count": 7,
   "source": [
    "# you need to pass the token in the headers by calling 'get' on the oauth object\n",
    "r = oauth.get(base_url+search_endpoint, params=url_params, timeout=100)"
   ],
   "id": "ff875cc2b2ec047f"
  },
  {
   "metadata": {
    "ExecuteTime": {
     "end_time": "2024-09-13T21:06:21.711244Z",
     "start_time": "2024-09-13T21:06:21.706882Z"
    }
   },
   "cell_type": "code",
   "source": [
    "# see the results. in 'r.json()' the 'value' key contains the search results. For 'value' in r.json(), you will see the 'ResultId', 'Title', 'Date', 'Source', 'Document' fields. The 'Document' field contains the full text of the document. For this notebook, I'm limiting the output of the 'Document' field to the first 1000 characters\n",
    "for key, value in r.json().items():\n",
    "    if key == 'value':\n",
    "        for doc in value[:10]:\n",
    "            print(f\"ResultId: {doc['ResultId']}, Title: {doc['Title']}, Date: {doc['Date']}, Source: {doc['Source']}, 'Content': {doc['Document']['Content'][:1000]}\")\n",
    "    else:\n",
    "        print(f\"Key: {key}, Value: {value}\" )\n"
   ],
   "id": "5e54accf3bc687da",
   "outputs": [
    {
     "name": "stdout",
     "output_type": "stream",
     "text": [
      "Key: @odata.context, Value: https://services-api.lexisnexis.com/v1/$metadata#BatchNews(ResultId,Title,Date,Source,Document)\n",
      "Key: @odata.count, Value: 317\n",
      "ResultId: urn:contentItem:6CH3-PJR1-JC5B-G3Y0-00000-00, Title: Takeaways from AP-NORC poll showing majority of Democrats want Biden to drop out, Date: 2024-07-17T00:00:00Z, Source: {'Id': '', 'Name': 'The Associated Press', 'ContentType': ''}, 'Content': <entry xmlns=\"http://www.w3.org/2005/Atom\"><id>urn:contentItem:6CH3-PJR1-JC5B-G3Y0-00000-00</id><title>Takeaways from AP-NORC poll showing majority of Democrats want Biden to drop out</title><published>2024-07-17T00:00:00Z</published><updated>2024-09-13T20:30:07Z</updated><author><name>LexisNexis</name></author><content type=\"application/xml\"><!--Transformation version 1.25--><articleDoc xmlns=\"\" xmlns:xsi=\"http://www.w3.org/2001/XMLSchema-instance\" xsi:noNamespaceSchemaLocation=\"http://www.lexisnexis.com/xmlschemas/content/public/articledoc/1/\" schemaVersion=\"1.8\" xml:lang=\"en\"><articleDocHead><itemInfo><sourceSectionInfo><positionSection>DOMESTIC NEWS</positionSection></sourceSectionInfo></itemInfo></articleDocHead><nitf:body xmlns:nitf=\"http://iptc.org/std/NITF/2006-10-18/\"><nitf:body.head><nitf:hedline><nitf:hl1>Takeaways from AP-NORC poll showing majority of Democrats want Biden to drop out</nitf:hl1></nitf:hedline><nitf:byline><author><person><nameText>The Associated Press</nameT\n",
      "ResultId: urn:contentItem:6CT6-CTR1-JC5B-G0G4-00000-00, Title: What polling shows about Americans' views of Robert F. Kennedy Jr., Date: 2024-08-23T00:00:00Z, Source: {'Id': '', 'Name': 'The Associated Press', 'ContentType': ''}, 'Content': <entry xmlns=\"http://www.w3.org/2005/Atom\"><id>urn:contentItem:6CT6-CTR1-JC5B-G0G4-00000-00</id><title>What polling shows about Americans' views of Robert F. Kennedy Jr.</title><published>2024-08-23T00:00:00Z</published><updated>2024-09-13T20:30:07Z</updated><author><name>LexisNexis</name></author><content type=\"application/xml\"><!--Transformation version 1.25--><articleDoc xmlns=\"\" xmlns:xsi=\"http://www.w3.org/2001/XMLSchema-instance\" xsi:noNamespaceSchemaLocation=\"http://www.lexisnexis.com/xmlschemas/content/public/articledoc/1/\" schemaVersion=\"1.8\" xml:lang=\"en\"><articleDocHead><itemInfo><sourceSectionInfo><positionSection>WASHINGTON DATELINE</positionSection><positionSubsection>POLITICAL NEWS</positionSubsection></sourceSectionInfo></itemInfo></articleDocHead><nitf:body xmlns:nitf=\"http://iptc.org/std/NITF/2006-10-18/\"><nitf:body.head><nitf:hedline><nitf:hl1>What polling shows about Americans' views of Robert F. Kennedy Jr.</nitf:hl1></nitf:hedline><nitf:byline><author><person><nam\n",
      "ResultId: urn:contentItem:6CH3-6RR1-JC5B-G3JW-00000-00, Title: Nearly two-thirds of Democrats want Biden to withdraw, new AP-NORC poll finds, Date: 2024-07-17T00:00:00Z, Source: {'Id': '', 'Name': 'The Associated Press', 'ContentType': ''}, 'Content': <entry xmlns=\"http://www.w3.org/2005/Atom\"><id>urn:contentItem:6CH3-6RR1-JC5B-G3JW-00000-00</id><title>Nearly two-thirds of Democrats want Biden to withdraw, new AP-NORC poll finds</title><published>2024-07-17T00:00:00Z</published><updated>2024-09-13T20:30:07Z</updated><author><name>LexisNexis</name></author><content type=\"application/xml\"><!--Transformation version 1.25--><articleDoc xmlns=\"\" xmlns:xsi=\"http://www.w3.org/2001/XMLSchema-instance\" xsi:noNamespaceSchemaLocation=\"http://www.lexisnexis.com/xmlschemas/content/public/articledoc/1/\" schemaVersion=\"1.8\" xml:lang=\"en\"><articleDocHead><itemInfo><sourceSectionInfo><positionSection>WASHINGTON DATELINE</positionSection><positionSubsection>POLITICAL NEWS</positionSubsection></sourceSectionInfo></itemInfo></articleDocHead><nitf:body xmlns:nitf=\"http://iptc.org/std/NITF/2006-10-18/\"><nitf:body.head><nitf:hedline><nitf:hl1>Nearly two-thirds of Democrats want Biden to withdraw, new AP-NORC poll finds</nitf:hl1></nitf:hedline><nitf:bylin\n",
      "ResultId: urn:contentItem:6CSS-PB31-JC5B-G2V7-00000-00, Title: What polling shows about Americans' views of Robert F. Kennedy Jr., Date: 2024-08-22T00:00:00Z, Source: {'Id': '', 'Name': 'The Associated Press', 'ContentType': ''}, 'Content': <entry xmlns=\"http://www.w3.org/2005/Atom\"><id>urn:contentItem:6CSS-PB31-JC5B-G2V7-00000-00</id><title>What polling shows about Americans' views of Robert F. Kennedy Jr.</title><published>2024-08-22T00:00:00Z</published><updated>2024-09-13T20:30:07Z</updated><author><name>LexisNexis</name></author><content type=\"application/xml\"><!--Transformation version 1.25--><articleDoc xmlns=\"\" xmlns:xsi=\"http://www.w3.org/2001/XMLSchema-instance\" xsi:noNamespaceSchemaLocation=\"http://www.lexisnexis.com/xmlschemas/content/public/articledoc/1/\" schemaVersion=\"1.8\" xml:lang=\"en\"><articleDocHead><itemInfo><sourceSectionInfo><positionSection>WASHINGTON DATELINE</positionSection><positionSubsection>POLITICAL NEWS</positionSubsection></sourceSectionInfo></itemInfo></articleDocHead><nitf:body xmlns:nitf=\"http://iptc.org/std/NITF/2006-10-18/\"><nitf:body.head><nitf:hedline><nitf:hl1>What polling shows about Americans' views of Robert F. Kennedy Jr.</nitf:hl1></nitf:hedline><nitf:byline><author><person><nam\n",
      "ResultId: urn:contentItem:6CKD-9N21-JC5B-G1NH-00000-00, Title: Joe Biden is out and Kamala Harris is in. Disenchanted voters are taking a new look at their choices, Date: 2024-07-28T00:00:00Z, Source: {'Id': '', 'Name': 'The Associated Press', 'ContentType': ''}, 'Content': <entry xmlns=\"http://www.w3.org/2005/Atom\"><id>urn:contentItem:6CKD-9N21-JC5B-G1NH-00000-00</id><title>Joe Biden is out and Kamala Harris is in. Disenchanted voters are taking a new look at their choices</title><published>2024-07-28T00:00:00Z</published><updated>2024-09-13T20:30:07Z</updated><author><name>LexisNexis</name></author><content type=\"application/xml\"><!--Transformation version 1.25--><articleDoc xmlns=\"\" xmlns:xsi=\"http://www.w3.org/2001/XMLSchema-instance\" xsi:noNamespaceSchemaLocation=\"http://www.lexisnexis.com/xmlschemas/content/public/articledoc/1/\" schemaVersion=\"1.8\" xml:lang=\"en\"><articleDocHead><itemInfo><sourceSectionInfo><positionSection>WASHINGTON DATELINE</positionSection><positionSubsection>POLITICAL NEWS</positionSubsection><positionSubsection>STATE AND REGIONAL</positionSubsection></sourceSectionInfo></itemInfo></articleDocHead><nitf:body xmlns:nitf=\"http://iptc.org/std/NITF/2006-10-18/\"><nitf:body.head><nitf:hedline><nitf:hl1>Joe Biden is out and Kamala Harr\n",
      "ResultId: urn:contentItem:6C7D-8681-DYMD-61FS-00000-00, Title: More global confidence in Biden than Trump even as views of US democracy decline, poll finds, Date: 2024-06-11T00:00:00Z, Source: {'Id': '', 'Name': 'The Associated Press', 'ContentType': ''}, 'Content': <entry xmlns=\"http://www.w3.org/2005/Atom\"><id>urn:contentItem:6C7D-8681-DYMD-61FS-00000-00</id><title>More global confidence in Biden than Trump even as views of US democracy decline, poll finds</title><published>2024-06-11T00:00:00Z</published><updated>2024-09-13T20:30:07Z</updated><author><name>LexisNexis</name></author><content type=\"application/xml\"><!--Transformation version 1.25--><articleDoc xmlns=\"\" xmlns:xsi=\"http://www.w3.org/2001/XMLSchema-instance\" xsi:noNamespaceSchemaLocation=\"http://www.lexisnexis.com/xmlschemas/content/public/articledoc/1/\" schemaVersion=\"1.8\" xml:lang=\"en\"><articleDocHead><itemInfo><sourceSectionInfo><positionSection>DOMESTIC NEWS</positionSection><positionSubsection>POLITICAL NEWS</positionSubsection></sourceSectionInfo></itemInfo></articleDocHead><nitf:body xmlns:nitf=\"http://iptc.org/std/NITF/2006-10-18/\"><nitf:body.head><nitf:hedline><nitf:hl1>More global confidence in Biden than Trump even as views of US democracy decline, poll finds</nitf:hl1></\n",
      "ResultId: urn:contentItem:6C50-W0V1-JC5B-G3MG-00000-00, Title: 'War on coal' rhetoric heats up as Biden seeks to curb pollution with election looming, Date: 2024-05-31T00:00:00Z, Source: {'Id': '', 'Name': 'The Associated Press', 'ContentType': ''}, 'Content': <entry xmlns=\"http://www.w3.org/2005/Atom\"><id>urn:contentItem:6C50-W0V1-JC5B-G3MG-00000-00</id><title>'War on coal' rhetoric heats up as Biden seeks to curb pollution with election looming</title><published>2024-05-31T00:00:00Z</published><updated>2024-09-13T20:30:07Z</updated><author><name>LexisNexis</name></author><content type=\"application/xml\"><!--Transformation version 1.25--><articleDoc xmlns=\"\" xmlns:xsi=\"http://www.w3.org/2001/XMLSchema-instance\" xsi:noNamespaceSchemaLocation=\"http://www.lexisnexis.com/xmlschemas/content/public/articledoc/1/\" schemaVersion=\"1.8\" xml:lang=\"en\"><articleDocHead><itemInfo><sourceSectionInfo><positionSection>DOMESTIC NEWS</positionSection><positionSubsection>POLITICAL NEWS</positionSubsection><positionSubsection>STATE AND REGIONAL</positionSubsection></sourceSectionInfo></itemInfo></articleDocHead><nitf:body xmlns:nitf=\"http://iptc.org/std/NITF/2006-10-18/\"><nitf:body.head><nitf:hedline><nitf:hl1>'War on coal' rhetoric heats up as Biden seeks to cu\n",
      "ResultId: urn:contentItem:6CD3-W6R1-JC5B-G0DX-00000-00, Title: Biden vows to keep running as signs point to rapidly eroding support for him on Capitol Hill, Date: 2024-07-03T00:00:00Z, Source: {'Id': '', 'Name': 'The Associated Press', 'ContentType': ''}, 'Content': <entry xmlns=\"http://www.w3.org/2005/Atom\"><id>urn:contentItem:6CD3-W6R1-JC5B-G0DX-00000-00</id><title>Biden vows to keep running as signs point to rapidly eroding support for him on Capitol Hill</title><published>2024-07-03T00:00:00Z</published><updated>2024-09-13T20:30:07Z</updated><author><name>LexisNexis</name></author><content type=\"application/xml\"><!--Transformation version 1.25--><articleDoc xmlns=\"\" xmlns:xsi=\"http://www.w3.org/2001/XMLSchema-instance\" xsi:noNamespaceSchemaLocation=\"http://www.lexisnexis.com/xmlschemas/content/public/articledoc/1/\" schemaVersion=\"1.8\" xml:lang=\"en\"><articleDocHead><itemInfo><sourceSectionInfo><positionSection>WASHINGTON DATELINE</positionSection><positionSubsection>POLITICAL NEWS</positionSubsection></sourceSectionInfo></itemInfo></articleDocHead><nitf:body xmlns:nitf=\"http://iptc.org/std/NITF/2006-10-18/\"><nitf:body.head><nitf:hedline><nitf:hl1>Biden vows to keep running as signs point to rapidly eroding support for him on Capitol Hill</nitf:\n",
      "ResultId: urn:contentItem:6B8R-K1R1-JC5B-G0TC-00000-00, Title: Biden sets tighter standards for deadly soot pollution from tailpipes, smokestacks, Date: 2024-02-07T00:00:00Z, Source: {'Id': '', 'Name': 'The Associated Press', 'ContentType': ''}, 'Content': <entry xmlns=\"http://www.w3.org/2005/Atom\"><id>urn:contentItem:6B8R-K1R1-JC5B-G0TC-00000-00</id><title>Biden sets tighter standards for deadly soot pollution from tailpipes, smokestacks</title><published>2024-02-07T00:00:00Z</published><updated>2024-09-13T20:30:07Z</updated><author><name>LexisNexis</name></author><content type=\"application/xml\"><!--Transformation version 1.25--><articleDoc xmlns=\"\" xmlns:xsi=\"http://www.w3.org/2001/XMLSchema-instance\" xsi:noNamespaceSchemaLocation=\"http://www.lexisnexis.com/xmlschemas/content/public/articledoc/1/\" schemaVersion=\"1.8\" xml:lang=\"en\"><articleDocHead><itemInfo><sourceSectionInfo><positionSection>BUSINESS NEWS</positionSection><positionSubsection>WASHINGTON DATELINE</positionSubsection><positionSubsection>STATE AND REGIONAL</positionSubsection></sourceSectionInfo></itemInfo></articleDocHead><nitf:body xmlns:nitf=\"http://iptc.org/std/NITF/2006-10-18/\"><nitf:body.head><nitf:hedline><nitf:hl1>Biden sets tighter standards for deadly soot pollut\n",
      "ResultId: urn:contentItem:6CD7-5PH1-JC5B-G180-00000-00, Title: Biden vows to keep running as signs point to rapidly eroding support for him on Capitol Hill, Date: 2024-07-04T00:00:00Z, Source: {'Id': '', 'Name': 'The Associated Press', 'ContentType': ''}, 'Content': <entry xmlns=\"http://www.w3.org/2005/Atom\"><id>urn:contentItem:6CD7-5PH1-JC5B-G180-00000-00</id><title>Biden vows to keep running as signs point to rapidly eroding support for him on Capitol Hill</title><published>2024-07-04T00:00:00Z</published><updated>2024-09-13T20:30:07Z</updated><author><name>LexisNexis</name></author><content type=\"application/xml\"><!--Transformation version 1.25--><articleDoc xmlns=\"\" xmlns:xsi=\"http://www.w3.org/2001/XMLSchema-instance\" xsi:noNamespaceSchemaLocation=\"http://www.lexisnexis.com/xmlschemas/content/public/articledoc/1/\" schemaVersion=\"1.8\" xml:lang=\"en\"><articleDocHead><itemInfo><sourceSectionInfo><positionSection>WASHINGTON DATELINE</positionSection><positionSubsection>POLITICAL NEWS</positionSubsection></sourceSectionInfo></itemInfo></articleDocHead><nitf:body xmlns:nitf=\"http://iptc.org/std/NITF/2006-10-18/\"><nitf:body.head><nitf:hedline><nitf:hl1>Biden vows to keep running as signs point to rapidly eroding support for him on Capitol Hill</nitf:\n",
      "Key: @odata.nextLink, Value: https://services-api.lexisnexis.com/v1/BatchNews?$search=biden%20w/10%20(poll*%20OR%20survey)%20and%20publication('The%20Associated%20Press')&$filter=Date%20ge%202024-01-01&$top=50&$select=ResultId,Title,Date,Source&$expand=Document,Source&$skip=50\n"
     ]
    }
   ],
   "execution_count": 34
  },
  {
   "metadata": {
    "ExecuteTime": {
     "end_time": "2024-09-13T18:14:34.969250Z",
     "start_time": "2024-09-13T18:14:34.965277Z"
    }
   },
   "cell_type": "code",
   "source": [
    "# save the results to a new list\n",
    "results = r.json()['value']"
   ],
   "id": "7b05983c66e03689",
   "outputs": [],
   "execution_count": 16
  },
  {
   "metadata": {
    "ExecuteTime": {
     "end_time": "2024-09-13T18:14:53.213421Z",
     "start_time": "2024-09-13T18:14:37.002358Z"
    }
   },
   "cell_type": "code",
   "source": [
    "# iterate through the pages of results and add the results to the 'results' list. Because of rate limits, you may need to add a sleep statement of 2-3 seconds, depending on the number of results\n",
    "\n",
    "while '@odata.nextLink' in r.json().keys(): #and counter < pages:\n",
    "    r = oauth.get(r.json()['@odata.nextLink'])\n",
    "    results.extend(r.json()['value'])\n",
    "    #time.sleep(2)"
   ],
   "id": "f45d43b8cb552985",
   "outputs": [],
   "execution_count": 17
  },
  {
   "metadata": {
    "ExecuteTime": {
     "end_time": "2024-09-13T18:15:08.070415Z",
     "start_time": "2024-09-13T18:15:08.068084Z"
    }
   },
   "cell_type": "code",
   "source": [
    "# get the headers to check on your rate limits. X-RateLimit-Limit is for 10 second/1 minute/1 hour/1 day thresholds\n",
    "r.headers"
   ],
   "id": "da1c869b8e3ca40c",
   "outputs": [
    {
     "data": {
      "text/plain": [
       "{'Date': 'Fri, 13 Sep 2024 18:14:52 GMT', 'Content-Type': 'application/json; odata.metadata=minimal', 'Transfer-Encoding': 'chunked', 'Connection': 'keep-alive', 'Vary': 'Origin, Access-Control-Request-Method, Access-Control-Request-Headers, Accept-Encoding', 'Cache-Control': 'no-cache', 'Pragma': 'no-cache', 'Expires': '-1', 'Server': 'auth_api.lexisnexis.com  3000', 'X-RateLimit-Limit': '2/5/200/1000', 'X-RateLimit-Remaining': '1/0/193/993', 'X-RateLimit-Reset': '1726251299/1726251316/1726254856/1726337656', 'X-RateLimit-Limit-Time-In-Queue': '3.0227233', 'OData-Version': '4.0', 'X-AspNet-Version': '4.0.30319', 'X-Powered-By': 'ASP.NET', 'X-Content-Type-Options': 'nosniff', 'X-XSS-Protection': '1; mode=block', 'X-Frame-Options': 'DENY', 'X-RE-Ref': '1 1726250852643951', 'P3P': 'CP=\"IDC DSP LAW ADM DEV TAI PSA PSD IVA IVD CON HIS TEL OUR DEL SAM OTR IND OTC\"'}"
      ]
     },
     "execution_count": 18,
     "metadata": {},
     "output_type": "execute_result"
    }
   ],
   "execution_count": 18
  },
  {
   "metadata": {},
   "cell_type": "markdown",
   "source": "#### Save the full text of the documents",
   "id": "1b16cdc8310f75a"
  },
  {
   "metadata": {},
   "cell_type": "code",
   "outputs": [],
   "execution_count": 91,
   "source": [
    "# iterate through the results, get the 'Content' field, and save as an XML file with the document ID as the filename\n",
    "for result in results:\n",
    "    doc_id = result['ResultId']\n",
    "    doc = result['Document']['Content']\n",
    "    with open(f'{doc_id}.xml', 'w') as f:\n",
    "        f.write(doc)"
   ],
   "id": "85fedface0c6b403"
  },
  {
   "metadata": {},
   "cell_type": "markdown",
   "source": "# Downloading just metadata and/or individual documents",
   "id": "806e6a56ecd08da"
  },
  {
   "metadata": {
    "ExecuteTime": {
     "end_time": "2024-09-13T18:07:36.398985Z",
     "start_time": "2024-09-13T18:07:32.551798Z"
    }
   },
   "cell_type": "code",
   "source": [
    "url_params = {'$search': search_string, '$filter': filter, '$top': results_per_page, '$select': select}\n",
    "\n",
    "# you need to pass the token in the headers by calling 'get' on the oauth object\n",
    "r = oauth.get(base_url + search_endpoint, params=url_params, timeout=20)"
   ],
   "id": "d413762ac93570ea",
   "outputs": [],
   "execution_count": 6
  },
  {
   "metadata": {
    "ExecuteTime": {
     "end_time": "2024-09-13T18:07:40.774750Z",
     "start_time": "2024-09-13T18:07:40.768785Z"
    }
   },
   "cell_type": "code",
   "source": [
    "# see the results\n",
    "r.json()"
   ],
   "id": "d467db3206b9f519",
   "outputs": [
    {
     "data": {
      "text/plain": [
       "{'@odata.context': 'https://services-api.lexisnexis.com/v1/$metadata#BatchNews(ResultId,Title,Date,Source)',\n",
       " '@odata.count': 317,\n",
       " 'value': [{'ResultId': 'urn:contentItem:6CH3-PJR1-JC5B-G3Y0-00000-00',\n",
       "   'Title': 'Takeaways from AP-NORC poll showing majority of Democrats want Biden to drop out',\n",
       "   'Date': '2024-07-17T00:00:00Z',\n",
       "   'Source': {'Id': '', 'Name': 'The Associated Press', 'ContentType': ''}},\n",
       "  {'ResultId': 'urn:contentItem:6CT6-CTR1-JC5B-G0G4-00000-00',\n",
       "   'Title': \"What polling shows about Americans' views of Robert F. Kennedy Jr.\",\n",
       "   'Date': '2024-08-23T00:00:00Z',\n",
       "   'Source': {'Id': '', 'Name': 'The Associated Press', 'ContentType': ''}},\n",
       "  {'ResultId': 'urn:contentItem:6CH3-6RR1-JC5B-G3JW-00000-00',\n",
       "   'Title': 'Nearly two-thirds of Democrats want Biden to withdraw, new AP-NORC poll finds',\n",
       "   'Date': '2024-07-17T00:00:00Z',\n",
       "   'Source': {'Id': '', 'Name': 'The Associated Press', 'ContentType': ''}},\n",
       "  {'ResultId': 'urn:contentItem:6CSS-PB31-JC5B-G2V7-00000-00',\n",
       "   'Title': \"What polling shows about Americans' views of Robert F. Kennedy Jr.\",\n",
       "   'Date': '2024-08-22T00:00:00Z',\n",
       "   'Source': {'Id': '', 'Name': 'The Associated Press', 'ContentType': ''}},\n",
       "  {'ResultId': 'urn:contentItem:6CKD-9N21-JC5B-G1NH-00000-00',\n",
       "   'Title': 'Joe Biden is out and Kamala Harris is in. Disenchanted voters are taking a new look at their choices',\n",
       "   'Date': '2024-07-28T00:00:00Z',\n",
       "   'Source': {'Id': '', 'Name': 'The Associated Press', 'ContentType': ''}},\n",
       "  {'ResultId': 'urn:contentItem:6C7D-8681-DYMD-61FS-00000-00',\n",
       "   'Title': 'More global confidence in Biden than Trump even as views of US democracy decline, poll finds',\n",
       "   'Date': '2024-06-11T00:00:00Z',\n",
       "   'Source': {'Id': '', 'Name': 'The Associated Press', 'ContentType': ''}},\n",
       "  {'ResultId': 'urn:contentItem:6C50-W0V1-JC5B-G3MG-00000-00',\n",
       "   'Title': \"'War on coal' rhetoric heats up as Biden seeks to curb pollution with election looming\",\n",
       "   'Date': '2024-05-31T00:00:00Z',\n",
       "   'Source': {'Id': '', 'Name': 'The Associated Press', 'ContentType': ''}},\n",
       "  {'ResultId': 'urn:contentItem:6CD3-W6R1-JC5B-G0DX-00000-00',\n",
       "   'Title': 'Biden vows to keep running as signs point to rapidly eroding support for him on Capitol Hill',\n",
       "   'Date': '2024-07-03T00:00:00Z',\n",
       "   'Source': {'Id': '', 'Name': 'The Associated Press', 'ContentType': ''}},\n",
       "  {'ResultId': 'urn:contentItem:6B8R-K1R1-JC5B-G0TC-00000-00',\n",
       "   'Title': 'Biden sets tighter standards for deadly soot pollution from tailpipes, smokestacks',\n",
       "   'Date': '2024-02-07T00:00:00Z',\n",
       "   'Source': {'Id': '', 'Name': 'The Associated Press', 'ContentType': ''}},\n",
       "  {'ResultId': 'urn:contentItem:6CD7-5PH1-JC5B-G180-00000-00',\n",
       "   'Title': 'Biden vows to keep running as signs point to rapidly eroding support for him on Capitol Hill',\n",
       "   'Date': '2024-07-04T00:00:00Z',\n",
       "   'Source': {'Id': '', 'Name': 'The Associated Press', 'ContentType': ''}},\n",
       "  {'ResultId': 'urn:contentItem:6CSX-JWN1-DYMD-63CD-00000-00',\n",
       "   'Title': \"The 'joyful' Democratic convention is over. The real test for Kamala Harris' campaign now begins\",\n",
       "   'Date': '2024-08-23T00:00:00Z',\n",
       "   'Source': {'Id': '', 'Name': 'The Associated Press', 'ContentType': ''}},\n",
       "  {'ResultId': 'urn:contentItem:6BV8-2B81-DYMD-63FV-00000-00',\n",
       "   'Title': 'Trump picks up more national delegates as the only choice for Wyoming Republicans',\n",
       "   'Date': '2024-04-20T00:00:00Z',\n",
       "   'Source': {'Id': '', 'Name': 'The Associated Press', 'ContentType': ''}},\n",
       "  {'ResultId': 'urn:contentItem:6CM7-00F1-DYMD-62GG-00000-00',\n",
       "   'Title': 'What polling shows about the top VP contenders for Kamala Harris',\n",
       "   'Date': '2024-08-01T00:00:00Z',\n",
       "   'Source': {'Id': '', 'Name': 'The Associated Press', 'ContentType': ''}},\n",
       "  {'ResultId': 'urn:contentItem:6CM1-0SF1-DYMD-64K7-00000-00',\n",
       "   'Title': 'Harris gives Democrats a jolt in a critical part of swing state Wisconsin',\n",
       "   'Date': '2024-07-31T00:00:00Z',\n",
       "   'Source': {'Id': '', 'Name': 'The Associated Press', 'ContentType': ''}},\n",
       "  {'ResultId': 'urn:contentItem:6CM1-0SF1-DYMD-64K8-00000-00',\n",
       "   'Title': 'About 8 in 10 Democrats are satisfied with Harris in stark shift after Biden drops out: AP-NORC poll',\n",
       "   'Date': '2024-07-31T00:00:00Z',\n",
       "   'Source': {'Id': '', 'Name': 'The Associated Press', 'ContentType': ''}},\n",
       "  {'ResultId': 'urn:contentItem:6CHG-FTB1-DYMD-62WC-00000-00',\n",
       "   'Title': 'Republicans emerge from their convention thrilled with Trump and talking about a blowout victory',\n",
       "   'Date': '2024-07-19T00:00:00Z',\n",
       "   'Source': {'Id': '', 'Name': 'The Associated Press', 'ContentType': ''}},\n",
       "  {'ResultId': 'urn:contentItem:6C5V-NBN1-JC5B-G345-00000-00',\n",
       "   'Title': \"Many Americans are still shying away from EVs despite Biden's push, an AP-NORC/EPIC poll finds\",\n",
       "   'Date': '2024-06-04T00:00:00Z',\n",
       "   'Source': {'Id': '', 'Name': 'The Associated Press', 'ContentType': ''}},\n",
       "  {'ResultId': 'urn:contentItem:6C4N-3BB1-DYMD-63MC-00000-00',\n",
       "   'Title': \"Robert F. Kennedy Jr. files complaint over rules for CNN 's presidential debate next month\",\n",
       "   'Date': '2024-05-29T00:00:00Z',\n",
       "   'Source': {'Id': '', 'Name': 'The Associated Press', 'ContentType': ''}},\n",
       "  {'ResultId': 'urn:contentItem:6BJ7-B791-DYMD-61F3-00000-00',\n",
       "   'Title': \"Biden's fraying coalition and Trump's struggle with moderates: AP data shows nominees' challenges\",\n",
       "   'Date': '2024-03-13T00:00:00Z',\n",
       "   'Source': {'Id': '', 'Name': 'The Associated Press', 'ContentType': ''}},\n",
       "  {'ResultId': 'urn:contentItem:6BWB-N131-JC5B-G2D1-00000-00',\n",
       "   'Title': 'Strict new EPA rules would force coal-fired power plants to capture emissions or shut down',\n",
       "   'Date': '2024-04-25T00:00:00Z',\n",
       "   'Source': {'Id': '', 'Name': 'The Associated Press', 'ContentType': ''}},\n",
       "  {'ResultId': 'urn:contentItem:6BGS-0JS1-DYMD-6298-00000-00',\n",
       "   'Title': 'Half of US states join GOP lawsuits challenging new EPA rule on deadly soot pollution',\n",
       "   'Date': '2024-03-06T00:00:00Z',\n",
       "   'Source': {'Id': '', 'Name': 'The Associated Press', 'ContentType': ''}},\n",
       "  {'ResultId': 'urn:contentItem:6BFJ-VT31-JC5B-G4CF-00000-00',\n",
       "   'Title': 'EPA delays rules for existing natural gas power plants until after the November election',\n",
       "   'Date': '2024-03-01T00:00:00Z',\n",
       "   'Source': {'Id': '', 'Name': 'The Associated Press', 'ContentType': ''}},\n",
       "  {'ResultId': 'urn:contentItem:6CT0-MC11-DYMD-6482-00000-00',\n",
       "   'Title': 'Biden promised to clean up heavily polluted communities. Here is how advocates say he did',\n",
       "   'Date': '2024-08-23T00:00:00Z',\n",
       "   'Source': {'Id': '', 'Name': 'The Associated Press', 'ContentType': ''}},\n",
       "  {'ResultId': 'urn:contentItem:6CNP-S9G1-DYMD-64DB-00000-00',\n",
       "   'Title': 'Majority of US adults say democracy is on the ballot but they differ on the threat: AP-NORC poll',\n",
       "   'Date': '2024-08-08T00:00:00Z',\n",
       "   'Source': {'Id': '', 'Name': 'The Associated Press', 'ContentType': ''}},\n",
       "  {'ResultId': 'urn:contentItem:6CW8-11M1-JC5B-G3WR-00000-00',\n",
       "   'Title': 'The presidential campaigns brace for an intense sprint to Election Day',\n",
       "   'Date': '2024-09-03T00:00:00Z',\n",
       "   'Source': {'Id': '', 'Name': 'The Associated Press', 'ContentType': ''}},\n",
       "  {'ResultId': 'urn:contentItem:6BFJ-RDH1-JC5B-G496-00000-00',\n",
       "   'Title': 'EPA to delay rules for some power plants until after November election',\n",
       "   'Date': '2024-02-29T00:00:00Z',\n",
       "   'Source': {'Id': '', 'Name': 'The Associated Press', 'ContentType': ''}},\n",
       "  {'ResultId': 'urn:contentItem:6CHF-CV11-DYMD-62P9-00000-00',\n",
       "   'Title': 'Majority of Democrats think Kamala Harris would make a good president, AP-NORC poll shows',\n",
       "   'Date': '2024-07-19T00:00:00Z',\n",
       "   'Source': {'Id': '', 'Name': 'The Associated Press', 'ContentType': ''}},\n",
       "  {'ResultId': 'urn:contentItem:6C99-YNM1-JC5B-G0FG-00000-00',\n",
       "   'Title': \"Robert F. Kennedy Jr. fails to qualify for CNN 's debate. It'll be a showdown between Biden and Trump\",\n",
       "   'Date': '2024-06-20T00:00:00Z',\n",
       "   'Source': {'Id': '', 'Name': 'The Associated Press', 'ContentType': ''}},\n",
       "  {'ResultId': 'urn:contentItem:6BN4-NT71-JC5B-G053-00000-00',\n",
       "   'Title': 'Trump evokes more anger and fear from Democrats than Biden does from Republicans, AP-NORC poll shows',\n",
       "   'Date': '2024-03-27T00:00:00Z',\n",
       "   'Source': {'Id': '', 'Name': 'The Associated Press', 'ContentType': ''}},\n",
       "  {'ResultId': 'urn:contentItem:6CR0-KC11-DYMD-60WV-00000-00',\n",
       "   'Title': 'Americans give Harris an advantage over Trump on honesty and discipline, an AP-NORC poll finds',\n",
       "   'Date': '2024-08-14T00:00:00Z',\n",
       "   'Source': {'Id': '', 'Name': 'The Associated Press', 'ContentType': ''}},\n",
       "  {'ResultId': 'urn:contentItem:6B54-9SW1-DYMD-62T7-00000-00',\n",
       "   'Title': 'Latest EPA assessment shows almost no improvement in river and stream nitrogen pollution',\n",
       "   'Date': '2024-01-21T00:00:00Z',\n",
       "   'Source': {'Id': '', 'Name': 'The Associated Press', 'ContentType': ''}},\n",
       "  {'ResultId': 'urn:contentItem:6C8V-7Y11-DYMD-62W9-00000-00',\n",
       "   'Title': 'Majority of Americans favor forgiving medical debt, AP-NORC poll finds',\n",
       "   'Date': '2024-06-18T00:00:00Z',\n",
       "   'Source': {'Id': '', 'Name': 'The Associated Press', 'ContentType': ''}},\n",
       "  {'ResultId': 'urn:contentItem:6BSS-6171-JC5B-G34X-00000-00',\n",
       "   'Title': \"Biden wins Wyoming 's caucuses, with Democrats in Alaska still to get their say in the nomination\",\n",
       "   'Date': '2024-04-13T00:00:00Z',\n",
       "   'Source': {'Id': '', 'Name': 'The Associated Press', 'ContentType': ''}},\n",
       "  {'ResultId': 'urn:contentItem:6CK5-48S1-DYMD-628C-00000-00',\n",
       "   'Title': \"'Gen Z feels the Kamalove': Youth-led progressive groups hope Harris will energize young voters\",\n",
       "   'Date': '2024-07-27T00:00:00Z',\n",
       "   'Source': {'Id': '', 'Name': 'The Associated Press', 'ContentType': ''}},\n",
       "  {'ResultId': 'urn:contentItem:6B7M-N6B1-JC5B-G2P8-00000-00',\n",
       "   'Title': 'Half of US adults say Israel has gone too far in war in Gaza, AP-NORC poll shows',\n",
       "   'Date': '2024-02-02T00:00:00Z',\n",
       "   'Source': {'Id': '', 'Name': 'The Associated Press', 'ContentType': ''}},\n",
       "  {'ResultId': 'urn:contentItem:6CCC-FFW1-DYMD-60V8-00000-00',\n",
       "   'Title': \"A private call of top Democrats fuels more insider anger about Biden's debate performance\",\n",
       "   'Date': '2024-06-30T00:00:00Z',\n",
       "   'Source': {'Id': '', 'Name': 'The Associated Press', 'ContentType': ''}},\n",
       "  {'ResultId': 'urn:contentItem:6CVM-3K81-DYMD-64RB-00000-00',\n",
       "   'Title': 'Harris and Trump offer starkly different visions on climate change and energy',\n",
       "   'Date': '2024-08-31T00:00:00Z',\n",
       "   'Source': {'Id': '', 'Name': 'The Associated Press', 'ContentType': ''}},\n",
       "  {'ResultId': 'urn:contentItem:6CJ9-MSB1-JC5B-G213-00000-00',\n",
       "   'Title': 'Harris steps into the limelight. And the coconut trees and memes have followed',\n",
       "   'Date': '2024-07-23T00:00:00Z',\n",
       "   'Source': {'Id': '', 'Name': 'The Associated Press', 'ContentType': ''}},\n",
       "  {'ResultId': 'urn:contentItem:6CSY-WM11-JC5B-G4H9-00000-00',\n",
       "   'Title': 'Biden promised to clean up heavily polluted communities. Here is how advocates say he did',\n",
       "   'Date': '2024-08-23T00:00:00Z',\n",
       "   'Source': {'Id': '', 'Name': 'The Associated Press', 'ContentType': ''}},\n",
       "  {'ResultId': 'urn:contentItem:6BSY-P9B1-JC5B-G4H0-00000-00',\n",
       "   'Title': 'Biden wins more delegates in Wyoming and Alaska as he heads toward Democratic nomination',\n",
       "   'Date': '2024-04-14T00:00:00Z',\n",
       "   'Source': {'Id': '', 'Name': 'The Associated Press', 'ContentType': ''}},\n",
       "  {'ResultId': 'urn:contentItem:6CKV-V9Y1-DYMD-62CC-00000-00',\n",
       "   'Title': 'Biden and Lula urge Venezuelan authorities to release detailed presidential election voting data',\n",
       "   'Date': '2024-07-30T00:00:00Z',\n",
       "   'Source': {'Id': '', 'Name': 'The Associated Press', 'ContentType': ''}},\n",
       "  {'ResultId': 'urn:contentItem:6CR6-JKB1-JC5B-G2GM-00000-00',\n",
       "   'Title': 'Democrats trust Harris slightly more than Biden on climate change, an AP-NORC poll finds',\n",
       "   'Date': '2024-08-15T00:00:00Z',\n",
       "   'Source': {'Id': '', 'Name': 'The Associated Press', 'ContentType': ''}},\n",
       "  {'ResultId': 'urn:contentItem:6CJ6-26R1-DYMD-62Y9-00000-00',\n",
       "   'Title': 'Harris steps into the limelight. And the coconut trees and memes have followed',\n",
       "   'Date': '2024-07-22T00:00:00Z',\n",
       "   'Source': {'Id': '', 'Name': 'The Associated Press', 'ContentType': ''}},\n",
       "  {'ResultId': 'urn:contentItem:6CJ5-F1H1-JC5B-G0XC-00000-00',\n",
       "   'Title': 'Black voters feel excitement, hope and a lot of worry as Harris takes center stage in campaign',\n",
       "   'Date': '2024-07-22T00:00:00Z',\n",
       "   'Source': {'Id': '', 'Name': 'The Associated Press', 'ContentType': ''}},\n",
       "  {'ResultId': 'urn:contentItem:6CH1-D701-JC5B-G31N-00000-00',\n",
       "   'Title': 'AP News in Brief at 6:04 p.m. EDT',\n",
       "   'Date': '2024-07-17T00:00:00Z',\n",
       "   'Source': {'Id': '', 'Name': 'The Associated Press', 'ContentType': ''}},\n",
       "  {'ResultId': 'urn:contentItem:6BSK-MT61-JC5B-G1GS-00000-00',\n",
       "   'Title': 'Biden heads to his hometown of Scranton , Pennsylvania , to talk about taxes',\n",
       "   'Date': '2024-04-12T00:00:00Z',\n",
       "   'Source': {'Id': '', 'Name': 'The Associated Press', 'ContentType': ''}},\n",
       "  {'ResultId': 'urn:contentItem:6BJM-FN11-JC5B-G10J-00000-00',\n",
       "   'Title': 'AP Decision Notes: What to expect in the Tuesday presidential and state primaries',\n",
       "   'Date': '2024-03-15T00:00:00Z',\n",
       "   'Source': {'Id': '', 'Name': 'The Associated Press', 'ContentType': ''}},\n",
       "  {'ResultId': 'urn:contentItem:6BXP-KSX1-DYMD-641W-00000-00',\n",
       "   'Title': 'Democrats advance election bill in Pennsylvania long sought by counties to process ballots faster',\n",
       "   'Date': '2024-05-01T00:00:00Z',\n",
       "   'Source': {'Id': '', 'Name': 'The Associated Press', 'ContentType': ''}},\n",
       "  {'ResultId': 'urn:contentItem:6C62-MNR1-JC5B-G03F-00000-00',\n",
       "   'Title': 'A year of elections in democracies around the world is revealing deep dissatisfaction among voters',\n",
       "   'Date': '2024-06-05T00:00:00Z',\n",
       "   'Source': {'Id': '', 'Name': 'The Associated Press', 'ContentType': ''}},\n",
       "  {'ResultId': 'urn:contentItem:6CXT-6C41-JC5B-G29G-00000-00',\n",
       "   'Title': 'The Latest: Trump and Harris are set to debate in Philadelphia',\n",
       "   'Date': '2024-09-10T00:00:00Z',\n",
       "   'Source': {'Id': '', 'Name': 'The Associated Press', 'ContentType': ''}}],\n",
       " '@odata.nextLink': \"https://services-api.lexisnexis.com/v1/BatchNews?$search=biden%20w/10%20(poll*%20OR%20survey)%20and%20publication('The%20Associated%20Press')&$filter=Date%20ge%202024-01-01&$top=50&$select=ResultId,Title,Date,Source&$expand=Source&$skip=50\"}"
      ]
     },
     "execution_count": 7,
     "metadata": {},
     "output_type": "execute_result"
    }
   ],
   "execution_count": 7
  },
  {
   "metadata": {
    "ExecuteTime": {
     "end_time": "2024-09-13T18:08:09.618889Z",
     "start_time": "2024-09-13T18:08:09.616785Z"
    }
   },
   "cell_type": "code",
   "source": [
    "# get the document IDs\n",
    "doc_ids = [doc['ResultId'] for doc in r.json()['value']]"
   ],
   "id": "c5bca70845878340",
   "outputs": [],
   "execution_count": 8
  },
  {
   "metadata": {
    "ExecuteTime": {
     "end_time": "2024-09-13T18:09:57.626185Z",
     "start_time": "2024-09-13T18:09:56.754087Z"
    }
   },
   "cell_type": "code",
   "source": [
    "# iterate through the pages of results and add the doc_ids to the list. Because of rate limits, you may need to add a sleep statement of 2-3 seconds, depending on the number of results\n",
    "\n",
    "#counter = 0\n",
    "#pages = 5  # number of pages to fetch\n",
    "\n",
    "while '@odata.nextLink' in r.json().keys(): # and counter < pages:\n",
    "    r = oauth.get(r.json()['@odata.nextLink'])\n",
    "    doc_ids.extend([doc['ResultId'] for doc in r.json()['value']])\n",
    "    #counter += 1  # Increment the counter while '@odata.nextLink' in r.json().keys():\n",
    "    #time.sleep(2)"
   ],
   "id": "48b2d5c418fedc24",
   "outputs": [],
   "execution_count": 9
  },
  {
   "metadata": {
    "ExecuteTime": {
     "end_time": "2024-09-13T18:10:01.537035Z",
     "start_time": "2024-09-13T18:10:01.534524Z"
    }
   },
   "cell_type": "code",
   "source": "r.headers",
   "id": "e34924dfc8599002",
   "outputs": [
    {
     "data": {
      "text/plain": [
       "{'Date': 'Fri, 13 Sep 2024 18:09:57 GMT', 'Content-Type': 'application/json; odata.metadata=minimal', 'Content-Length': '4944', 'Connection': 'keep-alive', 'Vary': 'Origin, Access-Control-Request-Method, Access-Control-Request-Headers, Accept-Encoding', 'Cache-Control': 'no-cache', 'Pragma': 'no-cache', 'Expires': '-1', 'Server': 'auth_api.lexisnexis.com  3000', 'X-RateLimit-Limit': '60/125/1500/12000', 'X-RateLimit-Remaining': '54/119/1490/11988', 'X-RateLimit-Reset': '1726251006/1726251056/1726253017/1726331906', 'OData-Version': '4.0', 'X-AspNet-Version': '4.0.30319', 'X-Powered-By': 'ASP.NET', 'X-Content-Type-Options': 'nosniff', 'X-XSS-Protection': '1; mode=block', 'X-Frame-Options': 'DENY', 'X-RE-Ref': '1 1726250852643951', 'P3P': 'CP=\"IDC DSP LAW ADM DEV TAI PSA PSD IVA IVD CON HIS TEL OUR DEL SAM OTR IND OTC\"'}"
      ]
     },
     "execution_count": 10,
     "metadata": {},
     "output_type": "execute_result"
    }
   ],
   "execution_count": 10
  },
  {
   "metadata": {},
   "cell_type": "markdown",
   "source": "#### Download and save the full text of the documents",
   "id": "ec135adfc9040c15"
  },
  {
   "metadata": {
    "ExecuteTime": {
     "end_time": "2024-09-13T18:10:49.829032Z",
     "start_time": "2024-09-13T18:10:42.955287Z"
    }
   },
   "cell_type": "code",
   "source": [
    "# iterate over the doc_ids and fetch the documents and save them to a file. This will take a while, depending on the number of documents\n",
    "counter = 1\n",
    "for doc_id in doc_ids[:10]: # limit to 10 documents for testing purposes\n",
    "    docs_url = f\"{base_url}Documents(DocumentId='/shared/document/news/{doc_id}',DocumentIdType='DocFullPath')/$value\"\n",
    "    doc = oauth.get(docs_url)\n",
    "    print(f\"Fetching document {counter}: {doc_id}\")\n",
    "    with open(f'{doc_id}.xml', 'w') as f:\n",
    "        f.write(doc.text)\n",
    "    counter += 1\n"
   ],
   "id": "3195ac4bca738f71",
   "outputs": [
    {
     "name": "stdout",
     "output_type": "stream",
     "text": [
      "Fetching document 1: urn:contentItem:6CH3-PJR1-JC5B-G3Y0-00000-00\n",
      "Fetching document 2: urn:contentItem:6CT6-CTR1-JC5B-G0G4-00000-00\n",
      "Fetching document 3: urn:contentItem:6CH3-6RR1-JC5B-G3JW-00000-00\n",
      "Fetching document 4: urn:contentItem:6CSS-PB31-JC5B-G2V7-00000-00\n",
      "Fetching document 5: urn:contentItem:6CKD-9N21-JC5B-G1NH-00000-00\n",
      "Fetching document 6: urn:contentItem:6C7D-8681-DYMD-61FS-00000-00\n",
      "Fetching document 7: urn:contentItem:6C50-W0V1-JC5B-G3MG-00000-00\n",
      "Fetching document 8: urn:contentItem:6CD3-W6R1-JC5B-G0DX-00000-00\n",
      "Fetching document 9: urn:contentItem:6B8R-K1R1-JC5B-G0TC-00000-00\n",
      "Fetching document 10: urn:contentItem:6CD7-5PH1-JC5B-G180-00000-00\n"
     ]
    }
   ],
   "execution_count": 11
  },
  {
   "metadata": {
    "ExecuteTime": {
     "end_time": "2024-09-13T18:10:53.427859Z",
     "start_time": "2024-09-13T18:10:53.425427Z"
    }
   },
   "cell_type": "code",
   "source": "doc.headers",
   "id": "d59f3f80a290405a",
   "outputs": [
    {
     "data": {
      "text/plain": [
       "{'Date': 'Fri, 13 Sep 2024 18:10:49 GMT', 'Content-Type': 'application/atom+xml;charset=utf-8', 'Content-Length': '18173', 'Connection': 'keep-alive', 'Vary': 'Origin, Access-Control-Request-Method, Access-Control-Request-Headers', 'Cache-Control': 'no-cache', 'Pragma': 'no-cache', 'Expires': '-1', 'Server': 'auth_api.lexisnexis.com  3000', 'X-RateLimit-Limit': '25/50/1500/24000', 'X-RateLimit-Remaining': '15/40/1490/23987', 'X-RateLimit-Reset': '1726251053/1726251103/1726254643/1726251527', 'X-AspNet-Version': '4.0.30319', 'X-Powered-By': 'ASP.NET', 'X-Content-Type-Options': 'nosniff', 'X-XSS-Protection': '1; mode=block', 'X-Frame-Options': 'DENY', 'X-RE-Ref': '1 1726250852643951', 'P3P': 'CP=\"IDC DSP LAW ADM DEV TAI PSA PSD IVA IVD CON HIS TEL OUR DEL SAM OTR IND OTC\"'}"
      ]
     },
     "execution_count": 12,
     "metadata": {},
     "output_type": "execute_result"
    }
   ],
   "execution_count": 12
  },
  {
   "metadata": {},
   "cell_type": "code",
   "outputs": [],
   "execution_count": null,
   "source": "",
   "id": "b31622eddc57fccd"
  }
 ],
 "metadata": {
  "kernelspec": {
   "display_name": "Python 3",
   "language": "python",
   "name": "python3"
  },
  "language_info": {
   "codemirror_mode": {
    "name": "ipython",
    "version": 2
   },
   "file_extension": ".py",
   "mimetype": "text/x-python",
   "name": "python",
   "nbconvert_exporter": "python",
   "pygments_lexer": "ipython2",
   "version": "2.7.6"
  }
 },
 "nbformat": 4,
 "nbformat_minor": 5
}
