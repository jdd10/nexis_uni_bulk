{
 "cells": [
  {
   "metadata": {
    "ExecuteTime": {
     "end_time": "2024-06-18T19:44:33.345839Z",
     "start_time": "2024-06-18T19:44:33.309521Z"
    }
   },
   "cell_type": "code",
   "source": [
    "# script to download documents from Nexis Uni API in bulk\n",
    "# questions? Jeremy Darrington, jdarring@princeton.edu\n",
    "from oauthlib.oauth2 import BackendApplicationClient\n",
    "from requests_oauthlib import OAuth2Session\n",
    "from requests.auth import HTTPBasicAuth\n",
    "import os\n",
    "import time"
   ],
   "id": "f509b5d77fba4142",
   "outputs": [],
   "execution_count": 1
  },
  {
   "metadata": {
    "ExecuteTime": {
     "end_time": "2024-06-18T19:44:46.563764Z",
     "start_time": "2024-06-18T19:44:46.561332Z"
    }
   },
   "cell_type": "code",
   "source": [
    "# be sure to set up the client_id and client_secret as environment variables in your shell\n",
    "client_id = os.getenv('CLIENT_ID')\n",
    "client_secret = os.getenv('CLIENT_SECRET')\n",
    "scope = 'http://oauth.lexisnexis.com/all'\n",
    "grant_type = 'client_credentials'\n",
    "content_type = 'application/x-www-form-urlencoded'"
   ],
   "id": "ea20b6923b0a1f4a",
   "outputs": [],
   "execution_count": 3
  },
  {
   "metadata": {
    "ExecuteTime": {
     "end_time": "2024-06-18T19:44:54.493929Z",
     "start_time": "2024-06-18T19:44:54.149900Z"
    }
   },
   "cell_type": "code",
   "source": [
    "# for details on authentication, see the docs at https://www.lexisnexis.com/lextalk/developers/ln-webservice-api/p/apidocs.aspx#introduction, section \"Service to Service ID\"\n",
    "# also see https://requests-oauthlib.readthedocs.io/en/latest/oauth2_workflow.html#backend-application-flow \n",
    "auth = HTTPBasicAuth(client_id, client_secret)\n",
    "\n",
    "client = BackendApplicationClient(client_id=client_id, scope=scope, grant_type=grant_type, token_type='Bearer', client_secret=client_secret, content_type=content_type)\n",
    "\n",
    "oauth = OAuth2Session(client=client)\n",
    "\n",
    "token = oauth.fetch_token(token_url='https://auth-api.lexisnexis.com/oauth/v2/token', auth=auth)"
   ],
   "id": "34cc040c8f2ce18d",
   "outputs": [],
   "execution_count": 4
  },
  {
   "metadata": {
    "ExecuteTime": {
     "end_time": "2024-06-18T19:44:59.359179Z",
     "start_time": "2024-06-18T19:44:59.354058Z"
    }
   },
   "cell_type": "code",
   "source": [
    "# get the token\n",
    "token"
   ],
   "id": "d003b6b5b3547c89",
   "outputs": [
    {
     "data": {
      "text/plain": [
       "{'access_token': 'ZjEwNGE4ODQtNzExYi00NjRlLWFmZWItMDEwYmU1ZDM4YjMw',\n",
       " 'token_type': 'Bearer',\n",
       " 'expires_in': 86400,\n",
       " 'expires_at': 1718826294.492864}"
      ]
     },
     "execution_count": 5,
     "metadata": {},
     "output_type": "execute_result"
    }
   ],
   "execution_count": 5
  },
  {
   "metadata": {
    "ExecuteTime": {
     "end_time": "2024-06-18T19:45:09.739037Z",
     "start_time": "2024-06-18T19:45:09.736063Z"
    }
   },
   "cell_type": "code",
   "source": [
    "# set up a request to the BatchNews endpoint; should only be used when returning > 500 documents \n",
    "base_url = 'https://services-api.lexisnexis.com/v1/'\n",
    "search_endpoint = 'BatchNews'\n",
    "search_string = 'biden w/5 (poll* OR survey)'\n",
    "filter = 'Date ge 2024-01-01' # comparison operators: gt, ge, lt, le\n",
    "results_per_page = 50 # max is 50 for BatchNews\n",
    "url_params = {'$search': search_string, '$filter': filter, '$top': results_per_page}"
   ],
   "id": "9129ec5cff14e4c1",
   "outputs": [],
   "execution_count": 6
  },
  {
   "metadata": {
    "ExecuteTime": {
     "end_time": "2024-06-18T19:45:19.702136Z",
     "start_time": "2024-06-18T19:45:14.681397Z"
    }
   },
   "cell_type": "code",
   "source": [
    "# you need to pass the token in the headers by calling 'get' on the oauth object\n",
    "r = oauth.get(base_url+search_endpoint, params=url_params, timeout=10)"
   ],
   "id": "ff875cc2b2ec047f",
   "outputs": [],
   "execution_count": 7
  },
  {
   "metadata": {
    "ExecuteTime": {
     "end_time": "2024-06-18T19:45:21.665337Z",
     "start_time": "2024-06-18T19:45:21.659801Z"
    }
   },
   "cell_type": "code",
   "source": [
    "# see the results\n",
    "r.json()"
   ],
   "id": "5e54accf3bc687da",
   "outputs": [
    {
     "data": {
      "text/plain": [
       "{'@odata.context': 'https://services-api.lexisnexis.com/v1/$metadata#BatchNews(ResultId,Source)',\n",
       " '@odata.count': 19487,\n",
       " 'value': [{'ResultId': 'urn:contentItem:6C8V-YBT1-DYRS-T3TN-00000-00',\n",
       "   'Source': {'Id': '', 'Name': 'Pittsburgh Post-Gazette', 'ContentType': ''}},\n",
       "  {'ResultId': 'urn:contentItem:6BTX-0RJ1-JBR6-9181-00000-00',\n",
       "   'Source': {'Id': '', 'Name': 'Newsweek.com', 'ContentType': ''}},\n",
       "  {'ResultId': 'urn:contentItem:6C70-FVD1-F03R-N377-00000-00',\n",
       "   'Source': {'Id': '', 'Name': 'Axios', 'ContentType': ''}},\n",
       "  {'ResultId': 'urn:contentItem:6C6J-27S1-DY68-12HW-00000-00',\n",
       "   'Source': {'Id': '', 'Name': 'Newsweek.com', 'ContentType': ''}},\n",
       "  {'ResultId': 'urn:contentItem:6C6J-60W1-F03R-N1MS-00000-00',\n",
       "   'Source': {'Id': '', 'Name': 'Mediaite', 'ContentType': ''}},\n",
       "  {'ResultId': 'urn:contentItem:6C8P-D511-F03F-K4JF-00000-00',\n",
       "   'Source': {'Id': '', 'Name': 'TheHill.com', 'ContentType': ''}},\n",
       "  {'ResultId': 'urn:contentItem:6C5W-G7F1-DY68-10KV-00000-00',\n",
       "   'Source': {'Id': '', 'Name': 'Newsweek.com', 'ContentType': ''}},\n",
       "  {'ResultId': 'urn:contentItem:6BYR-YBX1-JCMC-W068-00000-00',\n",
       "   'Source': {'Id': '', 'Name': 'TheHill.com', 'ContentType': ''}},\n",
       "  {'ResultId': 'urn:contentItem:6BW4-SHK1-JBCM-F00M-00000-00',\n",
       "   'Source': {'Id': '',\n",
       "    'Name': 'Forbes.com (Forbes, Incorporated)',\n",
       "    'ContentType': ''}},\n",
       "  {'ResultId': 'urn:contentItem:6C1M-W6N1-JCMC-W05S-00000-00',\n",
       "   'Source': {'Id': '', 'Name': 'TheHill.com', 'ContentType': ''}},\n",
       "  {'ResultId': 'urn:contentItem:6C2H-31F1-JCMC-W2WG-00000-00',\n",
       "   'Source': {'Id': '', 'Name': 'TheHill.com', 'ContentType': ''}},\n",
       "  {'ResultId': 'urn:contentItem:6C63-J7H1-DXVP-500V-00000-00',\n",
       "   'Source': {'Id': '',\n",
       "    'Name': 'Forbes.com (Forbes, Incorporated)',\n",
       "    'ContentType': ''}},\n",
       "  {'ResultId': 'urn:contentItem:6BXD-GT81-DY68-13J8-00000-00',\n",
       "   'Source': {'Id': '', 'Name': 'Newsweek.com', 'ContentType': ''}},\n",
       "  {'ResultId': 'urn:contentItem:6BR4-5WY1-JCMN-Y3T7-00000-00',\n",
       "   'Source': {'Id': '', 'Name': 'Mediaite', 'ContentType': ''}},\n",
       "  {'ResultId': 'urn:contentItem:6C8H-1TR1-F11P-X3JN-00000-00',\n",
       "   'Source': {'Id': '', 'Name': 'BENZINGA Newswire', 'ContentType': ''}},\n",
       "  {'ResultId': 'urn:contentItem:6C81-5MW1-DYY9-008J-00000-00',\n",
       "   'Source': {'Id': '',\n",
       "    'Name': 'CE Noticias Financieras English',\n",
       "    'ContentType': ''}},\n",
       "  {'ResultId': 'urn:contentItem:6C08-W4G1-JDJN-6109-00000-00',\n",
       "   'Source': {'Id': '', 'Name': 'BENZINGA Newswire', 'ContentType': ''}},\n",
       "  {'ResultId': 'urn:contentItem:6C7V-P901-DY68-14WB-00000-00',\n",
       "   'Source': {'Id': '', 'Name': 'Newsweek.com', 'ContentType': ''}},\n",
       "  {'ResultId': 'urn:contentItem:6BYR-00C1-F03F-K0SR-00000-00',\n",
       "   'Source': {'Id': '', 'Name': 'TheHill.com', 'ContentType': ''}},\n",
       "  {'ResultId': 'urn:contentItem:6C4W-K1M1-JCMC-W4VB-00000-00',\n",
       "   'Source': {'Id': '', 'Name': 'TheHill.com', 'ContentType': ''}},\n",
       "  {'ResultId': 'urn:contentItem:6C59-G2V1-JDJN-64WB-00000-00',\n",
       "   'Source': {'Id': '', 'Name': 'BENZINGA Newswire', 'ContentType': ''}},\n",
       "  {'ResultId': 'urn:contentItem:6C1D-2RG1-F03R-N0NN-00000-00',\n",
       "   'Source': {'Id': '', 'Name': 'Axios', 'ContentType': ''}},\n",
       "  {'ResultId': 'urn:contentItem:6C8X-6YM1-JBR6-90M9-00000-00',\n",
       "   'Source': {'Id': '', 'Name': 'Newsweek.com', 'ContentType': ''}},\n",
       "  {'ResultId': 'urn:contentItem:6C82-16H1-DY68-143P-00000-00',\n",
       "   'Source': {'Id': '', 'Name': 'Newsweek.com', 'ContentType': ''}},\n",
       "  {'ResultId': 'urn:contentItem:6C5G-0NB1-DYY9-029S-00000-00',\n",
       "   'Source': {'Id': '',\n",
       "    'Name': 'CE Noticias Financieras English',\n",
       "    'ContentType': ''}},\n",
       "  {'ResultId': 'urn:contentItem:6C65-3371-F03F-K069-00000-00',\n",
       "   'Source': {'Id': '', 'Name': 'TheHill.com', 'ContentType': ''}},\n",
       "  {'ResultId': 'urn:contentItem:6C6P-0TJ1-JDJN-621G-00000-00',\n",
       "   'Source': {'Id': '', 'Name': 'FARS News Agency', 'ContentType': ''}},\n",
       "  {'ResultId': 'urn:contentItem:6C81-P2J1-DY68-13FS-00000-00',\n",
       "   'Source': {'Id': '', 'Name': 'Newsweek.com', 'ContentType': ''}},\n",
       "  {'ResultId': 'urn:contentItem:6BPX-VVN1-DY4H-K18Y-00000-00',\n",
       "   'Source': {'Id': '', 'Name': 'Express Online', 'ContentType': ''}},\n",
       "  {'ResultId': 'urn:contentItem:6C1D-HC51-DY37-F05J-00000-00',\n",
       "   'Source': {'Id': '', 'Name': 'Daily News (New York)', 'ContentType': ''}},\n",
       "  {'ResultId': 'urn:contentItem:6BPX-C481-DY4H-K3K8-00000-00',\n",
       "   'Source': {'Id': '', 'Name': 'MailOnline', 'ContentType': ''}},\n",
       "  {'ResultId': 'urn:contentItem:6BVP-V4T1-DXVP-517W-00000-00',\n",
       "   'Source': {'Id': '',\n",
       "    'Name': 'Forbes.com (Forbes, Incorporated)',\n",
       "    'ContentType': ''}},\n",
       "  {'ResultId': 'urn:contentItem:6BN5-KC11-JBCM-F01N-00000-00',\n",
       "   'Source': {'Id': '',\n",
       "    'Name': 'Forbes.com (Forbes, Incorporated)',\n",
       "    'ContentType': ''}},\n",
       "  {'ResultId': 'urn:contentItem:6C17-2CY1-DXY4-X07D-00000-00',\n",
       "   'Source': {'Id': '', 'Name': 'The New York Times', 'ContentType': ''}},\n",
       "  {'ResultId': 'urn:contentItem:6BSD-58T1-JBNF-W39F-00000-00',\n",
       "   'Source': {'Id': '', 'Name': 'MailOnline', 'ContentType': ''}},\n",
       "  {'ResultId': 'urn:contentItem:6BNK-K561-JCMC-W10W-00000-00',\n",
       "   'Source': {'Id': '', 'Name': 'TheHill.com', 'ContentType': ''}},\n",
       "  {'ResultId': 'urn:contentItem:6BV2-T7C1-DYY9-032F-00000-00',\n",
       "   'Source': {'Id': '',\n",
       "    'Name': 'CE Noticias Financieras English',\n",
       "    'ContentType': ''}},\n",
       "  {'ResultId': 'urn:contentItem:6C79-X4R1-JDJN-60VR-00000-00',\n",
       "   'Source': {'Id': '', 'Name': 'BENZINGA Newswire', 'ContentType': ''}},\n",
       "  {'ResultId': 'urn:contentItem:6C76-Y6W1-F03F-K2KX-00000-00',\n",
       "   'Source': {'Id': '', 'Name': 'TheHill.com', 'ContentType': ''}},\n",
       "  {'ResultId': 'urn:contentItem:6C2R-V0B1-JDJN-64T2-00000-00',\n",
       "   'Source': {'Id': '', 'Name': 'BENZINGA Newswire', 'ContentType': ''}},\n",
       "  {'ResultId': 'urn:contentItem:6C2H-7M91-JCMC-W4SX-00000-00',\n",
       "   'Source': {'Id': '', 'Name': 'TheHill.com', 'ContentType': ''}},\n",
       "  {'ResultId': 'urn:contentItem:6C87-V691-JCMN-Y4S2-00000-00',\n",
       "   'Source': {'Id': '', 'Name': 'Axios', 'ContentType': ''}},\n",
       "  {'ResultId': 'urn:contentItem:6BWC-FFK1-F03F-K2T5-00000-00',\n",
       "   'Source': {'Id': '', 'Name': 'TheHill.com', 'ContentType': ''}},\n",
       "  {'ResultId': 'urn:contentItem:6BY2-X3R1-JBR6-90X8-00000-00',\n",
       "   'Source': {'Id': '', 'Name': 'Newsweek.com', 'ContentType': ''}},\n",
       "  {'ResultId': 'urn:contentItem:6BX7-11K1-F03F-K2YG-00000-00',\n",
       "   'Source': {'Id': '', 'Name': 'TheHill.com', 'ContentType': ''}},\n",
       "  {'ResultId': 'urn:contentItem:6C4N-F6V1-JCMC-W084-00000-00',\n",
       "   'Source': {'Id': '', 'Name': 'TheHill.com', 'ContentType': ''}},\n",
       "  {'ResultId': 'urn:contentItem:6BWC-M1G1-JCMC-W0HR-00000-00',\n",
       "   'Source': {'Id': '', 'Name': 'TheHill.com', 'ContentType': ''}},\n",
       "  {'ResultId': 'urn:contentItem:6BJ0-RRC1-DY68-100C-00000-00',\n",
       "   'Source': {'Id': '', 'Name': 'Newsweek.com', 'ContentType': ''}},\n",
       "  {'ResultId': 'urn:contentItem:6C7M-7GT1-DY68-1155-00000-00',\n",
       "   'Source': {'Id': '', 'Name': 'Newsweek.com', 'ContentType': ''}},\n",
       "  {'ResultId': 'urn:contentItem:6C76-90W1-JBR6-900J-00000-00',\n",
       "   'Source': {'Id': '', 'Name': 'Newsweek.com', 'ContentType': ''}}],\n",
       " '@odata.nextLink': 'https://services-api.lexisnexis.com/v1/BatchNews?$search=biden%20w/5%20(poll*%20OR%20survey)&$filter=Date%20ge%202024-01-01&$top=50&$expand=Source&$select=ResultId&$skip=50'}"
      ]
     },
     "execution_count": 8,
     "metadata": {},
     "output_type": "execute_result"
    }
   ],
   "execution_count": 8
  },
  {
   "metadata": {
    "ExecuteTime": {
     "end_time": "2024-06-18T19:46:13.893876Z",
     "start_time": "2024-06-18T19:46:13.890668Z"
    }
   },
   "cell_type": "code",
   "source": [
    "# get the document IDs\n",
    "doc_ids = [doc['ResultId'] for doc in r.json()['value']]"
   ],
   "id": "10f842a36d097038",
   "outputs": [],
   "execution_count": 9
  },
  {
   "metadata": {
    "ExecuteTime": {
     "end_time": "2024-06-18T19:46:29.375785Z",
     "start_time": "2024-06-18T19:46:26.479225Z"
    }
   },
   "cell_type": "code",
   "source": [
    "# iterate through the pages of results and add the doc_ids to the list. Because of rate limits, you may need to add a sleep statement of 2-3 seconds, depending on the number of results\n",
    "# \n",
    "counter = 0\n",
    "pages = 5  # number of pages to fetch\n",
    "\n",
    "while '@odata.nextLink' in r.json().keys() and counter < pages:\n",
    "    r = oauth.get(r.json()['@odata.nextLink'])\n",
    "    doc_ids.extend([doc['ResultId'] for doc in r.json()['value']])\n",
    "    counter += 1  # Increment the counter while '@odata.nextLink' in r.json().keys():\n",
    "    #time.sleep(2)"
   ],
   "id": "f45d43b8cb552985",
   "outputs": [],
   "execution_count": 10
  },
  {
   "metadata": {
    "ExecuteTime": {
     "end_time": "2024-06-18T19:52:58.060479Z",
     "start_time": "2024-06-18T19:47:06.933964Z"
    }
   },
   "cell_type": "code",
   "source": [
    "# iterate over the doc_ids and fetch the documents and save them to a file. This will take a while, depending on the number of documents\n",
    "counter = 1\n",
    "for doc_id in doc_ids[:100]:\n",
    "    docs_url = f\"{base_url}Documents(DocumentId='{doc_id}',DocumentIdType='PGuid')/$value\"\n",
    "    doc = oauth.get(docs_url)\n",
    "    print(f\"Fetching document {counter}: {doc_id}\")\n",
    "    with open(f'{doc_id}.xml', 'w') as f:\n",
    "        f.write(doc.text)\n",
    "    counter += 1\n"
   ],
   "id": "7e343e8a172e18b6",
   "outputs": [],
   "execution_count": 12
  },
  {
   "metadata": {
    "ExecuteTime": {
     "end_time": "2024-06-18T19:53:13.053220Z",
     "start_time": "2024-06-18T19:53:13.050940Z"
    }
   },
   "cell_type": "code",
   "source": [
    "# get the headers to check on your rate limits\n",
    "r.headers"
   ],
   "id": "da1c869b8e3ca40c",
   "outputs": [
    {
     "data": {
      "text/plain": [
       "{'Cache-Control': 'no-cache', 'Content-Type': 'application/json; odata.metadata=minimal', 'Date': 'Tue, 18 Jun 2024 19:46:29 GMT', 'Expires': '-1', 'OData-Version': '4.0', 'Pragma': 'no-cache', 'Server': 'auth_api.lexisnexis.com  3000', 'Vary': 'Origin, Access-Control-Request-Method, Access-Control-Request-Headers, Accept-Encoding', 'X-AspNet-Version': '4.0.30319', 'X-Content-Type-Options': 'nosniff', 'X-Frame-Options': 'DENY', 'X-Powered-By': 'ASP.NET', 'X-RateLimit-Limit': '60/125/1500/12000', 'X-RateLimit-Remaining': '55/120/1494/11994', 'X-RateLimit-Reset': '1718739996/1718740046/1718743514/1718826314', 'X-XSS-Protection': '1; mode=block', 'Content-Length': '8036', 'Connection': 'keep-alive', 'X-RE-Ref': '1 1718739914788919', 'P3P': 'CP=\"IDC DSP LAW ADM DEV TAI PSA PSD IVA IVD CON HIS TEL OUR DEL SAM OTR IND OTC\"'}"
      ]
     },
     "execution_count": 13,
     "metadata": {},
     "output_type": "execute_result"
    }
   ],
   "execution_count": 13
  }
 ],
 "metadata": {
  "kernelspec": {
   "display_name": "Python 3",
   "language": "python",
   "name": "python3"
  },
  "language_info": {
   "codemirror_mode": {
    "name": "ipython",
    "version": 2
   },
   "file_extension": ".py",
   "mimetype": "text/x-python",
   "name": "python",
   "nbconvert_exporter": "python",
   "pygments_lexer": "ipython2",
   "version": "2.7.6"
  }
 },
 "nbformat": 4,
 "nbformat_minor": 5
}
