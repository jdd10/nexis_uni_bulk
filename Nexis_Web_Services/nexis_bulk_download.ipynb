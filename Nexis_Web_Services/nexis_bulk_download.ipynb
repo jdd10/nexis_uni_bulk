{
 "cells": [
  {
   "metadata": {
    "ExecuteTime": {
     "end_time": "2024-06-17T19:47:16.827692Z",
     "start_time": "2024-06-17T19:47:16.822951Z"
    }
   },
   "cell_type": "code",
   "source": [
    "from oauthlib.oauth2 import BackendApplicationClient\n",
    "from requests_oauthlib import OAuth2Session\n",
    "from requests.auth import HTTPBasicAuth\n",
    "import time"
   ],
   "id": "f509b5d77fba4142",
   "outputs": [],
   "execution_count": 37
  },
  {
   "metadata": {
    "ExecuteTime": {
     "end_time": "2024-06-17T17:09:25.369725Z",
     "start_time": "2024-06-17T17:09:25.366774Z"
    }
   },
   "cell_type": "code",
   "source": [
    "client_id = 'HWJJKBTCHBRPBCMGZC9DZXFHQCCNXP'\n",
    "client_secret = 'JHZWJWDSFQMMMQM4MRQPBNZTVNJPCHJFZCTJTKVZ'\n",
    "scope = 'http://oauth.lexisnexis.com/all'\n",
    "grant_type = 'client_credentials'\n",
    "content_type = 'application/x-www-form-urlencoded'"
   ],
   "id": "ea20b6923b0a1f4a",
   "outputs": [],
   "execution_count": 2
  },
  {
   "metadata": {
    "ExecuteTime": {
     "end_time": "2024-06-17T17:09:47.959884Z",
     "start_time": "2024-06-17T17:09:47.607381Z"
    }
   },
   "cell_type": "code",
   "source": [
    "# for details on authentication, see the docs at https://www.lexisnexis.com/lextalk/developers/ln-webservice-api/p/apidocs.aspx#introduction, section \"Service to Service ID\"\n",
    "# also see https://requests-oauthlib.readthedocs.io/en/latest/oauth2_workflow.html#backend-application-flow \n",
    "auth = HTTPBasicAuth(client_id, client_secret)\n",
    "\n",
    "client = BackendApplicationClient(client_id=client_id, scope=scope, grant_type=grant_type, token_type='Bearer', client_secret=client_secret, content_type=content_type)\n",
    "\n",
    "oauth = OAuth2Session(client=client)\n",
    "\n",
    "token = oauth.fetch_token(token_url='https://auth-api.lexisnexis.com/oauth/v2/token', auth=auth)"
   ],
   "id": "34cc040c8f2ce18d",
   "outputs": [],
   "execution_count": 3
  },
  {
   "metadata": {
    "ExecuteTime": {
     "end_time": "2024-06-17T17:09:54.249465Z",
     "start_time": "2024-06-17T17:09:54.244200Z"
    }
   },
   "cell_type": "code",
   "source": [
    "# get the token\n",
    "token"
   ],
   "id": "d003b6b5b3547c89",
   "outputs": [
    {
     "data": {
      "text/plain": [
       "{'access_token': 'NDI5MDEyNTUtODMzMy00ZjIzLThmYjUtNTU5MzdmNTczZTIw',\n",
       " 'token_type': 'Bearer',\n",
       " 'expires_in': 86400,\n",
       " 'expires_at': 1718730587.957951}"
      ]
     },
     "execution_count": 4,
     "metadata": {},
     "output_type": "execute_result"
    }
   ],
   "execution_count": 4
  },
  {
   "metadata": {
    "ExecuteTime": {
     "end_time": "2024-06-17T19:43:07.623058Z",
     "start_time": "2024-06-17T19:43:07.619835Z"
    }
   },
   "cell_type": "code",
   "source": [
    "# set up a request to the BatchNews endpoint; should only be used when returning > 500 documents \n",
    "base_url = 'https://services-api.lexisnexis.com/v1/'\n",
    "search_endpoint = 'BatchNews'\n",
    "search_string = 'microsoft w/5 (AI OR copilot)'\n",
    "filter = 'Date ge 2024-01-01' # comparison operators: gt, ge, lt, le\n",
    "results_per_page = 50 # max is 50 for BatchNews\n",
    "url_params = {'$search': search_string, '$filter': filter, '$top': results_per_page}"
   ],
   "id": "9129ec5cff14e4c1",
   "outputs": [],
   "execution_count": 34
  },
  {
   "metadata": {
    "ExecuteTime": {
     "end_time": "2024-06-17T19:43:13.947992Z",
     "start_time": "2024-06-17T19:43:09.899898Z"
    }
   },
   "cell_type": "code",
   "source": [
    "# you need to pass the token in the headers by calling 'get' on the oauth object\n",
    "r = oauth.get(base_url+search_endpoint, params=url_params, timeout=10)"
   ],
   "id": "ff875cc2b2ec047f",
   "outputs": [],
   "execution_count": 35
  },
  {
   "metadata": {
    "ExecuteTime": {
     "end_time": "2024-06-17T19:43:16.470485Z",
     "start_time": "2024-06-17T19:43:16.463462Z"
    }
   },
   "cell_type": "code",
   "source": "r.json()",
   "id": "5e54accf3bc687da",
   "outputs": [
    {
     "data": {
      "text/plain": [
       "{'@odata.context': 'https://services-api.lexisnexis.com/v1/$metadata#BatchNews(ResultId,Source)',\n",
       " '@odata.count': 57826,\n",
       " 'value': [{'ResultId': 'urn:contentItem:6C3J-3011-DXMP-K424-00000-00',\n",
       "   'Source': {'Id': '', 'Name': 'TimesTech', 'ContentType': ''}},\n",
       "  {'ResultId': 'urn:contentItem:6C3J-3011-DXMP-K241-00000-00',\n",
       "   'Source': {'Id': '', 'Name': 'CXOtoday.com', 'ContentType': ''}},\n",
       "  {'ResultId': 'urn:contentItem:6C34-TJ11-JB5M-W3FF-00000-00',\n",
       "   'Source': {'Id': '', 'Name': 'DQ Channels India', 'ContentType': ''}},\n",
       "  {'ResultId': 'urn:contentItem:6BKP-MC71-DXMP-K14K-00000-00',\n",
       "   'Source': {'Id': '', 'Name': 'Taiwan Business News', 'ContentType': ''}},\n",
       "  {'ResultId': 'urn:contentItem:6C34-TJ11-JB5M-W3N4-00000-00',\n",
       "   'Source': {'Id': '', 'Name': 'Indian Express', 'ContentType': ''}},\n",
       "  {'ResultId': 'urn:contentItem:6C81-T211-F11P-X4X0-00000-00',\n",
       "   'Source': {'Id': '', 'Name': 'ITWeb', 'ContentType': ''}},\n",
       "  {'ResultId': 'urn:contentItem:6C3H-YGT1-JDG9-Y4SM-00000-00',\n",
       "   'Source': {'Id': '', 'Name': 'Impact Financial News', 'ContentType': ''}},\n",
       "  {'ResultId': 'urn:contentItem:6C34-HRR1-JBN4-B1S3-00000-00',\n",
       "   'Source': {'Id': '', 'Name': 'Indian Technology News', 'ContentType': ''}},\n",
       "  {'ResultId': 'urn:contentItem:6C33-NB21-JDG9-Y00B-00000-00',\n",
       "   'Source': {'Id': '', 'Name': 'Impact Financial News', 'ContentType': ''}},\n",
       "  {'ResultId': 'urn:contentItem:6BWC-7VR1-F11P-X15V-00000-00',\n",
       "   'Source': {'Id': '', 'Name': 'ITWeb', 'ContentType': ''}},\n",
       "  {'ResultId': 'urn:contentItem:6BTW-SHK1-JB5M-W0NV-00000-00',\n",
       "   'Source': {'Id': '', 'Name': 'DNA', 'ContentType': ''}},\n",
       "  {'ResultId': 'urn:contentItem:6B6W-5VR1-DYG5-7003-00000-00',\n",
       "   'Source': {'Id': '', 'Name': 'Market News Publishing', 'ContentType': ''}},\n",
       "  {'ResultId': 'urn:contentItem:6C2X-GN71-JDJN-627N-00000-00',\n",
       "   'Source': {'Id': '', 'Name': 'ICT Monitor Worldwide', 'ContentType': ''}},\n",
       "  {'ResultId': 'urn:contentItem:6BM5-2CB1-JDJN-63XK-00000-00',\n",
       "   'Source': {'Id': '', 'Name': 'bizbahrain', 'ContentType': ''}},\n",
       "  {'ResultId': 'urn:contentItem:6C3B-KNY1-JC11-122M-00000-00',\n",
       "   'Source': {'Id': '', 'Name': 'Targeted News Service', 'ContentType': ''}},\n",
       "  {'ResultId': 'urn:contentItem:6C5X-26K1-DXP3-R52D-00000-00',\n",
       "   'Source': {'Id': '', 'Name': 'PR Newswire', 'ContentType': ''}},\n",
       "  {'ResultId': 'urn:contentItem:6C2R-TJB1-F15W-N2BP-00000-00',\n",
       "   'Source': {'Id': '', 'Name': 'GlobeNewswire - English', 'ContentType': ''}},\n",
       "  {'ResultId': 'urn:contentItem:6BYX-4931-JB72-13NF-00000-00',\n",
       "   'Source': {'Id': '',\n",
       "    'Name': 'PR Newswire Europe - European Stories',\n",
       "    'ContentType': ''}},\n",
       "  {'ResultId': 'urn:contentItem:6C34-5RX1-DXP3-R40K-00000-00',\n",
       "   'Source': {'Id': '', 'Name': 'PR Newswire', 'ContentType': ''}},\n",
       "  {'ResultId': 'urn:contentItem:6BYY-3V21-JB72-1353-00000-00',\n",
       "   'Source': {'Id': '', 'Name': 'PR Newswire', 'ContentType': ''}},\n",
       "  {'ResultId': 'urn:contentItem:6C2R-V9G1-DYTG-N1F8-00000-00',\n",
       "   'Source': {'Id': '',\n",
       "    'Name': 'PA Regional Newswire of English Regions: LONDON',\n",
       "    'ContentType': ''}},\n",
       "  {'ResultId': 'urn:contentItem:6BSN-4BV1-F03R-N0FJ-00000-00',\n",
       "   'Source': {'Id': '', 'Name': 'Android Headlines', 'ContentType': ''}},\n",
       "  {'ResultId': 'urn:contentItem:6BFC-K9D1-F06S-P125-00000-00',\n",
       "   'Source': {'Id': '',\n",
       "    'Name': 'Health & Beauty Close-Up(Close-up Media)',\n",
       "    'ContentType': ''}},\n",
       "  {'ResultId': 'urn:contentItem:6B5R-NR41-JDKC-R1XB-00000-00',\n",
       "   'Source': {'Id': '', 'Name': 'SME Channels', 'ContentType': ''}},\n",
       "  {'ResultId': 'urn:contentItem:6C33-J6P1-DXM4-G4FM-00000-00',\n",
       "   'Source': {'Id': '', 'Name': 'Fierce Network', 'ContentType': ''}},\n",
       "  {'ResultId': 'urn:contentItem:6BYY-5Y91-DY6B-21H8-00000-00',\n",
       "   'Source': {'Id': '',\n",
       "    'Name': 'MENAFN - Press Releases (English)',\n",
       "    'ContentType': ''}},\n",
       "  {'ResultId': 'urn:contentItem:6B5J-7S01-DYG5-7046-00000-00',\n",
       "   'Source': {'Id': '', 'Name': 'Market News Publishing', 'ContentType': ''}},\n",
       "  {'ResultId': 'urn:contentItem:6C2Y-G551-DXY3-00RP-00000-00',\n",
       "   'Source': {'Id': '', 'Name': 'Business Wire', 'ContentType': ''}},\n",
       "  {'ResultId': 'urn:contentItem:6C3J-SPD1-F03R-N31B-00000-00',\n",
       "   'Source': {'Id': '', 'Name': 'Small Business Trends', 'ContentType': ''}},\n",
       "  {'ResultId': 'urn:contentItem:6B5J-CK41-JDJN-60FF-00000-00',\n",
       "   'Source': {'Id': '', 'Name': 'BENZINGA Newswire', 'ContentType': ''}},\n",
       "  {'ResultId': 'urn:contentItem:6BB6-12H1-F06S-P0C9-00000-00',\n",
       "   'Source': {'Id': '',\n",
       "    'Name': 'Wireless News(Close-up Media)',\n",
       "    'ContentType': ''}},\n",
       "  {'ResultId': 'urn:contentItem:6C2X-TK61-DXMP-K3T9-00000-00',\n",
       "   'Source': {'Id': '', 'Name': 'PC Quest', 'ContentType': ''}},\n",
       "  {'ResultId': 'urn:contentItem:6BJV-39D1-JB5M-W21K-00000-00',\n",
       "   'Source': {'Id': '', 'Name': 'Taiwan Business News', 'ContentType': ''}},\n",
       "  {'ResultId': 'urn:contentItem:6B5J-7S01-DYG5-7047-00000-00',\n",
       "   'Source': {'Id': '', 'Name': 'Market News Publishing', 'ContentType': ''}},\n",
       "  {'ResultId': 'urn:contentItem:6C53-HKG1-F03F-K1SP-00000-00',\n",
       "   'Source': {'Id': '', 'Name': 'Under30CEO', 'ContentType': ''}},\n",
       "  {'ResultId': 'urn:contentItem:6BC9-XC41-JCRR-01VT-00000-00',\n",
       "   'Source': {'Id': '', 'Name': 'Manufacturing Close-Up', 'ContentType': ''}},\n",
       "  {'ResultId': 'urn:contentItem:6C6B-54B1-JC13-H03T-00000-00',\n",
       "   'Source': {'Id': '', 'Name': 'Market News Publishing', 'ContentType': ''}},\n",
       "  {'ResultId': 'urn:contentItem:6B9T-SC71-JCRR-007N-00000-00',\n",
       "   'Source': {'Id': '', 'Name': 'Manufacturing Close-Up', 'ContentType': ''}},\n",
       "  {'ResultId': 'urn:contentItem:6C3J-D5X1-JDJN-62YS-00000-00',\n",
       "   'Source': {'Id': '', 'Name': 'ICT Monitor Worldwide', 'ContentType': ''}},\n",
       "  {'ResultId': 'urn:contentItem:6BBD-03H1-JCRR-001Y-00000-00',\n",
       "   'Source': {'Id': '',\n",
       "    'Name': 'Entertainment Close-Up (Close-up Media)',\n",
       "    'ContentType': ''}},\n",
       "  {'ResultId': 'urn:contentItem:6C1K-T4H1-DY6B-226D-00000-00',\n",
       "   'Source': {'Id': '',\n",
       "    'Name': 'MENAFN - Press Releases (English)',\n",
       "    'ContentType': ''}},\n",
       "  {'ResultId': 'urn:contentItem:6B5Y-RR51-JB5M-W0T4-00000-00',\n",
       "   'Source': {'Id': '', 'Name': 'CXOtoday.com', 'ContentType': ''}},\n",
       "  {'ResultId': 'urn:contentItem:6C69-RPC1-JB72-1376-00000-00',\n",
       "   'Source': {'Id': '', 'Name': 'PR Newswire', 'ContentType': ''}},\n",
       "  {'ResultId': 'urn:contentItem:6B9B-40J1-JCRR-0065-00000-00',\n",
       "   'Source': {'Id': '',\n",
       "    'Name': 'Professional Services Close-Up',\n",
       "    'ContentType': ''}},\n",
       "  {'ResultId': 'urn:contentItem:6C6B-9C61-DY6B-214Y-00000-00',\n",
       "   'Source': {'Id': '',\n",
       "    'Name': 'MENAFN - Press Releases (English)',\n",
       "    'ContentType': ''}},\n",
       "  {'ResultId': 'urn:contentItem:6BSK-YCK1-JDKC-R21Y-00000-00',\n",
       "   'Source': {'Id': '', 'Name': 'Data Quest', 'ContentType': ''}},\n",
       "  {'ResultId': 'urn:contentItem:6C4K-N001-JCG7-854C-00000-00',\n",
       "   'Source': {'Id': '',\n",
       "    'Name': 'CE Noticias Financieras English',\n",
       "    'ContentType': ''}},\n",
       "  {'ResultId': 'urn:contentItem:6C2X-YJ01-DYG5-70RY-00000-00',\n",
       "   'Source': {'Id': '', 'Name': 'Market News Publishing', 'ContentType': ''}},\n",
       "  {'ResultId': 'urn:contentItem:6C69-PB81-DYRK-D00W-00000-00',\n",
       "   'Source': {'Id': '', 'Name': 'Canada NewsWire', 'ContentType': ''}},\n",
       "  {'ResultId': 'urn:contentItem:6B5R-6CJ1-F11P-X134-00000-00',\n",
       "   'Source': {'Id': '', 'Name': 'ICT Monitor Worldwide', 'ContentType': ''}}],\n",
       " '@odata.nextLink': 'https://services-api.lexisnexis.com/v1/BatchNews?$search=microsoft%20w/5%20(AI%20OR%20copilot)&$filter=Date%20ge%202024-01-01&$top=50&$expand=Source&$select=ResultId&$skip=50'}"
      ]
     },
     "execution_count": 36,
     "metadata": {},
     "output_type": "execute_result"
    }
   ],
   "execution_count": 36
  },
  {
   "metadata": {
    "ExecuteTime": {
     "end_time": "2024-06-17T19:41:08.530565Z",
     "start_time": "2024-06-17T19:41:08.527336Z"
    }
   },
   "cell_type": "code",
   "source": [
    "# get the document IDs\n",
    "doc_ids = [doc['ResultId'] for doc in r.json()['value']]"
   ],
   "id": "10f842a36d097038",
   "outputs": [],
   "execution_count": 33
  },
  {
   "metadata": {
    "ExecuteTime": {
     "end_time": "2024-06-17T19:50:38.505590Z",
     "start_time": "2024-06-17T19:50:32.932249Z"
    }
   },
   "cell_type": "code",
   "source": [
    "# iterate through the pages of results and add the doc_ids to the list. Because of rate limits, you may need to add a sleep statement of 2-3 seconds, depending on the number of results\n",
    "counter = 0\n",
    "limit = 10  # Set your limit\n",
    "\n",
    "while '@odata.nextLink' in r.json().keys() and counter < limit:\n",
    "    r = oauth.get(r.json()['@odata.nextLink'])\n",
    "    doc_ids.extend([doc['ResultId'] for doc in r.json()['value']])\n",
    "    counter += 1  # Increment the counter while '@odata.nextLink' in r.json().keys():\n",
    "    #time.sleep(2)"
   ],
   "id": "f45d43b8cb552985",
   "outputs": [],
   "execution_count": 38
  },
  {
   "metadata": {
    "ExecuteTime": {
     "end_time": "2024-06-17T19:58:36.827859Z",
     "start_time": "2024-06-17T19:51:58.210881Z"
    }
   },
   "cell_type": "code",
   "source": [
    "# iterate over the doc_ids and fetch the documents and save them to a file\n",
    "for doc_id in doc_ids:\n",
    "    docs_url = f\"{base_url}Documents(DocumentId='{doc_id}',DocumentIdType='PGuid')/$value\"\n",
    "    doc = oauth.get(docs_url)\n",
    "    with open(f'{doc_id}.xml', 'w') as f:\n",
    "        f.write(doc.text)\n"
   ],
   "id": "7e343e8a172e18b6",
   "outputs": [
    {
     "ename": "KeyboardInterrupt",
     "evalue": "",
     "output_type": "error",
     "traceback": [
      "\u001B[0;31m---------------------------------------------------------------------------\u001B[0m",
      "\u001B[0;31mKeyboardInterrupt\u001B[0m                         Traceback (most recent call last)",
      "Cell \u001B[0;32mIn[40], line 4\u001B[0m\n\u001B[1;32m      2\u001B[0m \u001B[38;5;28;01mfor\u001B[39;00m doc_id \u001B[38;5;129;01min\u001B[39;00m doc_ids:\n\u001B[1;32m      3\u001B[0m     docs_url \u001B[38;5;241m=\u001B[39m \u001B[38;5;124mf\u001B[39m\u001B[38;5;124m\"\u001B[39m\u001B[38;5;132;01m{\u001B[39;00mbase_url\u001B[38;5;132;01m}\u001B[39;00m\u001B[38;5;124mDocuments(DocumentId=\u001B[39m\u001B[38;5;124m'\u001B[39m\u001B[38;5;132;01m{\u001B[39;00mdoc_id\u001B[38;5;132;01m}\u001B[39;00m\u001B[38;5;124m'\u001B[39m\u001B[38;5;124m,DocumentIdType=\u001B[39m\u001B[38;5;124m'\u001B[39m\u001B[38;5;124mPGuid\u001B[39m\u001B[38;5;124m'\u001B[39m\u001B[38;5;124m)/$value\u001B[39m\u001B[38;5;124m\"\u001B[39m\n\u001B[0;32m----> 4\u001B[0m     doc \u001B[38;5;241m=\u001B[39m \u001B[43moauth\u001B[49m\u001B[38;5;241;43m.\u001B[39;49m\u001B[43mget\u001B[49m\u001B[43m(\u001B[49m\u001B[43mdocs_url\u001B[49m\u001B[43m)\u001B[49m\n\u001B[1;32m      5\u001B[0m     \u001B[38;5;28;01mwith\u001B[39;00m \u001B[38;5;28mopen\u001B[39m(\u001B[38;5;124mf\u001B[39m\u001B[38;5;124m'\u001B[39m\u001B[38;5;132;01m{\u001B[39;00mdoc_id\u001B[38;5;132;01m}\u001B[39;00m\u001B[38;5;124m.xml\u001B[39m\u001B[38;5;124m'\u001B[39m, \u001B[38;5;124m'\u001B[39m\u001B[38;5;124mw\u001B[39m\u001B[38;5;124m'\u001B[39m) \u001B[38;5;28;01mas\u001B[39;00m f:\n\u001B[1;32m      6\u001B[0m         f\u001B[38;5;241m.\u001B[39mwrite(doc\u001B[38;5;241m.\u001B[39mtext)\n",
      "File \u001B[0;32m~/Dropbox (Princeton)/princeton/venvs/.datasci_venv/lib/python3.12/site-packages/requests/sessions.py:602\u001B[0m, in \u001B[0;36mSession.get\u001B[0;34m(self, url, **kwargs)\u001B[0m\n\u001B[1;32m    594\u001B[0m \u001B[38;5;250m\u001B[39m\u001B[38;5;124mr\u001B[39m\u001B[38;5;124;03m\"\"\"Sends a GET request. Returns :class:`Response` object.\u001B[39;00m\n\u001B[1;32m    595\u001B[0m \n\u001B[1;32m    596\u001B[0m \u001B[38;5;124;03m:param url: URL for the new :class:`Request` object.\u001B[39;00m\n\u001B[1;32m    597\u001B[0m \u001B[38;5;124;03m:param \\*\\*kwargs: Optional arguments that ``request`` takes.\u001B[39;00m\n\u001B[1;32m    598\u001B[0m \u001B[38;5;124;03m:rtype: requests.Response\u001B[39;00m\n\u001B[1;32m    599\u001B[0m \u001B[38;5;124;03m\"\"\"\u001B[39;00m\n\u001B[1;32m    601\u001B[0m kwargs\u001B[38;5;241m.\u001B[39msetdefault(\u001B[38;5;124m\"\u001B[39m\u001B[38;5;124mallow_redirects\u001B[39m\u001B[38;5;124m\"\u001B[39m, \u001B[38;5;28;01mTrue\u001B[39;00m)\n\u001B[0;32m--> 602\u001B[0m \u001B[38;5;28;01mreturn\u001B[39;00m \u001B[38;5;28;43mself\u001B[39;49m\u001B[38;5;241;43m.\u001B[39;49m\u001B[43mrequest\u001B[49m\u001B[43m(\u001B[49m\u001B[38;5;124;43m\"\u001B[39;49m\u001B[38;5;124;43mGET\u001B[39;49m\u001B[38;5;124;43m\"\u001B[39;49m\u001B[43m,\u001B[49m\u001B[43m \u001B[49m\u001B[43murl\u001B[49m\u001B[43m,\u001B[49m\u001B[43m \u001B[49m\u001B[38;5;241;43m*\u001B[39;49m\u001B[38;5;241;43m*\u001B[39;49m\u001B[43mkwargs\u001B[49m\u001B[43m)\u001B[49m\n",
      "File \u001B[0;32m~/Dropbox (Princeton)/princeton/venvs/.datasci_venv/lib/python3.12/site-packages/requests_oauthlib/oauth2_session.py:566\u001B[0m, in \u001B[0;36mOAuth2Session.request\u001B[0;34m(self, method, url, data, headers, withhold_token, client_id, client_secret, files, **kwargs)\u001B[0m\n\u001B[1;32m    564\u001B[0m log\u001B[38;5;241m.\u001B[39mdebug(\u001B[38;5;124m\"\u001B[39m\u001B[38;5;124mSupplying headers \u001B[39m\u001B[38;5;132;01m%s\u001B[39;00m\u001B[38;5;124m and data \u001B[39m\u001B[38;5;132;01m%s\u001B[39;00m\u001B[38;5;124m\"\u001B[39m, headers, data)\n\u001B[1;32m    565\u001B[0m log\u001B[38;5;241m.\u001B[39mdebug(\u001B[38;5;124m\"\u001B[39m\u001B[38;5;124mPassing through key word arguments \u001B[39m\u001B[38;5;132;01m%s\u001B[39;00m\u001B[38;5;124m.\u001B[39m\u001B[38;5;124m\"\u001B[39m, kwargs)\n\u001B[0;32m--> 566\u001B[0m \u001B[38;5;28;01mreturn\u001B[39;00m \u001B[38;5;28;43msuper\u001B[39;49m\u001B[43m(\u001B[49m\u001B[43mOAuth2Session\u001B[49m\u001B[43m,\u001B[49m\u001B[43m \u001B[49m\u001B[38;5;28;43mself\u001B[39;49m\u001B[43m)\u001B[49m\u001B[38;5;241;43m.\u001B[39;49m\u001B[43mrequest\u001B[49m\u001B[43m(\u001B[49m\n\u001B[1;32m    567\u001B[0m \u001B[43m    \u001B[49m\u001B[43mmethod\u001B[49m\u001B[43m,\u001B[49m\u001B[43m \u001B[49m\u001B[43murl\u001B[49m\u001B[43m,\u001B[49m\u001B[43m \u001B[49m\u001B[43mheaders\u001B[49m\u001B[38;5;241;43m=\u001B[39;49m\u001B[43mheaders\u001B[49m\u001B[43m,\u001B[49m\u001B[43m \u001B[49m\u001B[43mdata\u001B[49m\u001B[38;5;241;43m=\u001B[39;49m\u001B[43mdata\u001B[49m\u001B[43m,\u001B[49m\u001B[43m \u001B[49m\u001B[43mfiles\u001B[49m\u001B[38;5;241;43m=\u001B[39;49m\u001B[43mfiles\u001B[49m\u001B[43m,\u001B[49m\u001B[43m \u001B[49m\u001B[38;5;241;43m*\u001B[39;49m\u001B[38;5;241;43m*\u001B[39;49m\u001B[43mkwargs\u001B[49m\n\u001B[1;32m    568\u001B[0m \u001B[43m\u001B[49m\u001B[43m)\u001B[49m\n",
      "File \u001B[0;32m~/Dropbox (Princeton)/princeton/venvs/.datasci_venv/lib/python3.12/site-packages/requests/sessions.py:589\u001B[0m, in \u001B[0;36mSession.request\u001B[0;34m(self, method, url, params, data, headers, cookies, files, auth, timeout, allow_redirects, proxies, hooks, stream, verify, cert, json)\u001B[0m\n\u001B[1;32m    584\u001B[0m send_kwargs \u001B[38;5;241m=\u001B[39m {\n\u001B[1;32m    585\u001B[0m     \u001B[38;5;124m\"\u001B[39m\u001B[38;5;124mtimeout\u001B[39m\u001B[38;5;124m\"\u001B[39m: timeout,\n\u001B[1;32m    586\u001B[0m     \u001B[38;5;124m\"\u001B[39m\u001B[38;5;124mallow_redirects\u001B[39m\u001B[38;5;124m\"\u001B[39m: allow_redirects,\n\u001B[1;32m    587\u001B[0m }\n\u001B[1;32m    588\u001B[0m send_kwargs\u001B[38;5;241m.\u001B[39mupdate(settings)\n\u001B[0;32m--> 589\u001B[0m resp \u001B[38;5;241m=\u001B[39m \u001B[38;5;28;43mself\u001B[39;49m\u001B[38;5;241;43m.\u001B[39;49m\u001B[43msend\u001B[49m\u001B[43m(\u001B[49m\u001B[43mprep\u001B[49m\u001B[43m,\u001B[49m\u001B[43m \u001B[49m\u001B[38;5;241;43m*\u001B[39;49m\u001B[38;5;241;43m*\u001B[39;49m\u001B[43msend_kwargs\u001B[49m\u001B[43m)\u001B[49m\n\u001B[1;32m    591\u001B[0m \u001B[38;5;28;01mreturn\u001B[39;00m resp\n",
      "File \u001B[0;32m~/Dropbox (Princeton)/princeton/venvs/.datasci_venv/lib/python3.12/site-packages/requests/sessions.py:703\u001B[0m, in \u001B[0;36mSession.send\u001B[0;34m(self, request, **kwargs)\u001B[0m\n\u001B[1;32m    700\u001B[0m start \u001B[38;5;241m=\u001B[39m preferred_clock()\n\u001B[1;32m    702\u001B[0m \u001B[38;5;66;03m# Send the request\u001B[39;00m\n\u001B[0;32m--> 703\u001B[0m r \u001B[38;5;241m=\u001B[39m \u001B[43madapter\u001B[49m\u001B[38;5;241;43m.\u001B[39;49m\u001B[43msend\u001B[49m\u001B[43m(\u001B[49m\u001B[43mrequest\u001B[49m\u001B[43m,\u001B[49m\u001B[43m \u001B[49m\u001B[38;5;241;43m*\u001B[39;49m\u001B[38;5;241;43m*\u001B[39;49m\u001B[43mkwargs\u001B[49m\u001B[43m)\u001B[49m\n\u001B[1;32m    705\u001B[0m \u001B[38;5;66;03m# Total elapsed time of the request (approximately)\u001B[39;00m\n\u001B[1;32m    706\u001B[0m elapsed \u001B[38;5;241m=\u001B[39m preferred_clock() \u001B[38;5;241m-\u001B[39m start\n",
      "File \u001B[0;32m~/Dropbox (Princeton)/princeton/venvs/.datasci_venv/lib/python3.12/site-packages/requests/adapters.py:486\u001B[0m, in \u001B[0;36mHTTPAdapter.send\u001B[0;34m(self, request, stream, timeout, verify, cert, proxies)\u001B[0m\n\u001B[1;32m    483\u001B[0m     timeout \u001B[38;5;241m=\u001B[39m TimeoutSauce(connect\u001B[38;5;241m=\u001B[39mtimeout, read\u001B[38;5;241m=\u001B[39mtimeout)\n\u001B[1;32m    485\u001B[0m \u001B[38;5;28;01mtry\u001B[39;00m:\n\u001B[0;32m--> 486\u001B[0m     resp \u001B[38;5;241m=\u001B[39m \u001B[43mconn\u001B[49m\u001B[38;5;241;43m.\u001B[39;49m\u001B[43murlopen\u001B[49m\u001B[43m(\u001B[49m\n\u001B[1;32m    487\u001B[0m \u001B[43m        \u001B[49m\u001B[43mmethod\u001B[49m\u001B[38;5;241;43m=\u001B[39;49m\u001B[43mrequest\u001B[49m\u001B[38;5;241;43m.\u001B[39;49m\u001B[43mmethod\u001B[49m\u001B[43m,\u001B[49m\n\u001B[1;32m    488\u001B[0m \u001B[43m        \u001B[49m\u001B[43murl\u001B[49m\u001B[38;5;241;43m=\u001B[39;49m\u001B[43murl\u001B[49m\u001B[43m,\u001B[49m\n\u001B[1;32m    489\u001B[0m \u001B[43m        \u001B[49m\u001B[43mbody\u001B[49m\u001B[38;5;241;43m=\u001B[39;49m\u001B[43mrequest\u001B[49m\u001B[38;5;241;43m.\u001B[39;49m\u001B[43mbody\u001B[49m\u001B[43m,\u001B[49m\n\u001B[1;32m    490\u001B[0m \u001B[43m        \u001B[49m\u001B[43mheaders\u001B[49m\u001B[38;5;241;43m=\u001B[39;49m\u001B[43mrequest\u001B[49m\u001B[38;5;241;43m.\u001B[39;49m\u001B[43mheaders\u001B[49m\u001B[43m,\u001B[49m\n\u001B[1;32m    491\u001B[0m \u001B[43m        \u001B[49m\u001B[43mredirect\u001B[49m\u001B[38;5;241;43m=\u001B[39;49m\u001B[38;5;28;43;01mFalse\u001B[39;49;00m\u001B[43m,\u001B[49m\n\u001B[1;32m    492\u001B[0m \u001B[43m        \u001B[49m\u001B[43massert_same_host\u001B[49m\u001B[38;5;241;43m=\u001B[39;49m\u001B[38;5;28;43;01mFalse\u001B[39;49;00m\u001B[43m,\u001B[49m\n\u001B[1;32m    493\u001B[0m \u001B[43m        \u001B[49m\u001B[43mpreload_content\u001B[49m\u001B[38;5;241;43m=\u001B[39;49m\u001B[38;5;28;43;01mFalse\u001B[39;49;00m\u001B[43m,\u001B[49m\n\u001B[1;32m    494\u001B[0m \u001B[43m        \u001B[49m\u001B[43mdecode_content\u001B[49m\u001B[38;5;241;43m=\u001B[39;49m\u001B[38;5;28;43;01mFalse\u001B[39;49;00m\u001B[43m,\u001B[49m\n\u001B[1;32m    495\u001B[0m \u001B[43m        \u001B[49m\u001B[43mretries\u001B[49m\u001B[38;5;241;43m=\u001B[39;49m\u001B[38;5;28;43mself\u001B[39;49m\u001B[38;5;241;43m.\u001B[39;49m\u001B[43mmax_retries\u001B[49m\u001B[43m,\u001B[49m\n\u001B[1;32m    496\u001B[0m \u001B[43m        \u001B[49m\u001B[43mtimeout\u001B[49m\u001B[38;5;241;43m=\u001B[39;49m\u001B[43mtimeout\u001B[49m\u001B[43m,\u001B[49m\n\u001B[1;32m    497\u001B[0m \u001B[43m        \u001B[49m\u001B[43mchunked\u001B[49m\u001B[38;5;241;43m=\u001B[39;49m\u001B[43mchunked\u001B[49m\u001B[43m,\u001B[49m\n\u001B[1;32m    498\u001B[0m \u001B[43m    \u001B[49m\u001B[43m)\u001B[49m\n\u001B[1;32m    500\u001B[0m \u001B[38;5;28;01mexcept\u001B[39;00m (ProtocolError, \u001B[38;5;167;01mOSError\u001B[39;00m) \u001B[38;5;28;01mas\u001B[39;00m err:\n\u001B[1;32m    501\u001B[0m     \u001B[38;5;28;01mraise\u001B[39;00m \u001B[38;5;167;01mConnectionError\u001B[39;00m(err, request\u001B[38;5;241m=\u001B[39mrequest)\n",
      "File \u001B[0;32m~/Dropbox (Princeton)/princeton/venvs/.datasci_venv/lib/python3.12/site-packages/urllib3/connectionpool.py:793\u001B[0m, in \u001B[0;36mHTTPConnectionPool.urlopen\u001B[0;34m(self, method, url, body, headers, retries, redirect, assert_same_host, timeout, pool_timeout, release_conn, chunked, body_pos, preload_content, decode_content, **response_kw)\u001B[0m\n\u001B[1;32m    790\u001B[0m response_conn \u001B[38;5;241m=\u001B[39m conn \u001B[38;5;28;01mif\u001B[39;00m \u001B[38;5;129;01mnot\u001B[39;00m release_conn \u001B[38;5;28;01melse\u001B[39;00m \u001B[38;5;28;01mNone\u001B[39;00m\n\u001B[1;32m    792\u001B[0m \u001B[38;5;66;03m# Make the request on the HTTPConnection object\u001B[39;00m\n\u001B[0;32m--> 793\u001B[0m response \u001B[38;5;241m=\u001B[39m \u001B[38;5;28;43mself\u001B[39;49m\u001B[38;5;241;43m.\u001B[39;49m\u001B[43m_make_request\u001B[49m\u001B[43m(\u001B[49m\n\u001B[1;32m    794\u001B[0m \u001B[43m    \u001B[49m\u001B[43mconn\u001B[49m\u001B[43m,\u001B[49m\n\u001B[1;32m    795\u001B[0m \u001B[43m    \u001B[49m\u001B[43mmethod\u001B[49m\u001B[43m,\u001B[49m\n\u001B[1;32m    796\u001B[0m \u001B[43m    \u001B[49m\u001B[43murl\u001B[49m\u001B[43m,\u001B[49m\n\u001B[1;32m    797\u001B[0m \u001B[43m    \u001B[49m\u001B[43mtimeout\u001B[49m\u001B[38;5;241;43m=\u001B[39;49m\u001B[43mtimeout_obj\u001B[49m\u001B[43m,\u001B[49m\n\u001B[1;32m    798\u001B[0m \u001B[43m    \u001B[49m\u001B[43mbody\u001B[49m\u001B[38;5;241;43m=\u001B[39;49m\u001B[43mbody\u001B[49m\u001B[43m,\u001B[49m\n\u001B[1;32m    799\u001B[0m \u001B[43m    \u001B[49m\u001B[43mheaders\u001B[49m\u001B[38;5;241;43m=\u001B[39;49m\u001B[43mheaders\u001B[49m\u001B[43m,\u001B[49m\n\u001B[1;32m    800\u001B[0m \u001B[43m    \u001B[49m\u001B[43mchunked\u001B[49m\u001B[38;5;241;43m=\u001B[39;49m\u001B[43mchunked\u001B[49m\u001B[43m,\u001B[49m\n\u001B[1;32m    801\u001B[0m \u001B[43m    \u001B[49m\u001B[43mretries\u001B[49m\u001B[38;5;241;43m=\u001B[39;49m\u001B[43mretries\u001B[49m\u001B[43m,\u001B[49m\n\u001B[1;32m    802\u001B[0m \u001B[43m    \u001B[49m\u001B[43mresponse_conn\u001B[49m\u001B[38;5;241;43m=\u001B[39;49m\u001B[43mresponse_conn\u001B[49m\u001B[43m,\u001B[49m\n\u001B[1;32m    803\u001B[0m \u001B[43m    \u001B[49m\u001B[43mpreload_content\u001B[49m\u001B[38;5;241;43m=\u001B[39;49m\u001B[43mpreload_content\u001B[49m\u001B[43m,\u001B[49m\n\u001B[1;32m    804\u001B[0m \u001B[43m    \u001B[49m\u001B[43mdecode_content\u001B[49m\u001B[38;5;241;43m=\u001B[39;49m\u001B[43mdecode_content\u001B[49m\u001B[43m,\u001B[49m\n\u001B[1;32m    805\u001B[0m \u001B[43m    \u001B[49m\u001B[38;5;241;43m*\u001B[39;49m\u001B[38;5;241;43m*\u001B[39;49m\u001B[43mresponse_kw\u001B[49m\u001B[43m,\u001B[49m\n\u001B[1;32m    806\u001B[0m \u001B[43m\u001B[49m\u001B[43m)\u001B[49m\n\u001B[1;32m    808\u001B[0m \u001B[38;5;66;03m# Everything went great!\u001B[39;00m\n\u001B[1;32m    809\u001B[0m clean_exit \u001B[38;5;241m=\u001B[39m \u001B[38;5;28;01mTrue\u001B[39;00m\n",
      "File \u001B[0;32m~/Dropbox (Princeton)/princeton/venvs/.datasci_venv/lib/python3.12/site-packages/urllib3/connectionpool.py:537\u001B[0m, in \u001B[0;36mHTTPConnectionPool._make_request\u001B[0;34m(self, conn, method, url, body, headers, retries, timeout, chunked, response_conn, preload_content, decode_content, enforce_content_length)\u001B[0m\n\u001B[1;32m    535\u001B[0m \u001B[38;5;66;03m# Receive the response from the server\u001B[39;00m\n\u001B[1;32m    536\u001B[0m \u001B[38;5;28;01mtry\u001B[39;00m:\n\u001B[0;32m--> 537\u001B[0m     response \u001B[38;5;241m=\u001B[39m \u001B[43mconn\u001B[49m\u001B[38;5;241;43m.\u001B[39;49m\u001B[43mgetresponse\u001B[49m\u001B[43m(\u001B[49m\u001B[43m)\u001B[49m\n\u001B[1;32m    538\u001B[0m \u001B[38;5;28;01mexcept\u001B[39;00m (BaseSSLError, \u001B[38;5;167;01mOSError\u001B[39;00m) \u001B[38;5;28;01mas\u001B[39;00m e:\n\u001B[1;32m    539\u001B[0m     \u001B[38;5;28mself\u001B[39m\u001B[38;5;241m.\u001B[39m_raise_timeout(err\u001B[38;5;241m=\u001B[39me, url\u001B[38;5;241m=\u001B[39murl, timeout_value\u001B[38;5;241m=\u001B[39mread_timeout)\n",
      "File \u001B[0;32m~/Dropbox (Princeton)/princeton/venvs/.datasci_venv/lib/python3.12/site-packages/urllib3/connection.py:466\u001B[0m, in \u001B[0;36mHTTPConnection.getresponse\u001B[0;34m(self)\u001B[0m\n\u001B[1;32m    463\u001B[0m \u001B[38;5;28;01mfrom\u001B[39;00m \u001B[38;5;21;01m.\u001B[39;00m\u001B[38;5;21;01mresponse\u001B[39;00m \u001B[38;5;28;01mimport\u001B[39;00m HTTPResponse\n\u001B[1;32m    465\u001B[0m \u001B[38;5;66;03m# Get the response from http.client.HTTPConnection\u001B[39;00m\n\u001B[0;32m--> 466\u001B[0m httplib_response \u001B[38;5;241m=\u001B[39m \u001B[38;5;28;43msuper\u001B[39;49m\u001B[43m(\u001B[49m\u001B[43m)\u001B[49m\u001B[38;5;241;43m.\u001B[39;49m\u001B[43mgetresponse\u001B[49m\u001B[43m(\u001B[49m\u001B[43m)\u001B[49m\n\u001B[1;32m    468\u001B[0m \u001B[38;5;28;01mtry\u001B[39;00m:\n\u001B[1;32m    469\u001B[0m     assert_header_parsing(httplib_response\u001B[38;5;241m.\u001B[39mmsg)\n",
      "File \u001B[0;32m/opt/homebrew/Cellar/python@3.12/3.12.3/Frameworks/Python.framework/Versions/3.12/lib/python3.12/http/client.py:1428\u001B[0m, in \u001B[0;36mHTTPConnection.getresponse\u001B[0;34m(self)\u001B[0m\n\u001B[1;32m   1426\u001B[0m \u001B[38;5;28;01mtry\u001B[39;00m:\n\u001B[1;32m   1427\u001B[0m     \u001B[38;5;28;01mtry\u001B[39;00m:\n\u001B[0;32m-> 1428\u001B[0m         \u001B[43mresponse\u001B[49m\u001B[38;5;241;43m.\u001B[39;49m\u001B[43mbegin\u001B[49m\u001B[43m(\u001B[49m\u001B[43m)\u001B[49m\n\u001B[1;32m   1429\u001B[0m     \u001B[38;5;28;01mexcept\u001B[39;00m \u001B[38;5;167;01mConnectionError\u001B[39;00m:\n\u001B[1;32m   1430\u001B[0m         \u001B[38;5;28mself\u001B[39m\u001B[38;5;241m.\u001B[39mclose()\n",
      "File \u001B[0;32m/opt/homebrew/Cellar/python@3.12/3.12.3/Frameworks/Python.framework/Versions/3.12/lib/python3.12/http/client.py:331\u001B[0m, in \u001B[0;36mHTTPResponse.begin\u001B[0;34m(self)\u001B[0m\n\u001B[1;32m    329\u001B[0m \u001B[38;5;66;03m# read until we get a non-100 response\u001B[39;00m\n\u001B[1;32m    330\u001B[0m \u001B[38;5;28;01mwhile\u001B[39;00m \u001B[38;5;28;01mTrue\u001B[39;00m:\n\u001B[0;32m--> 331\u001B[0m     version, status, reason \u001B[38;5;241m=\u001B[39m \u001B[38;5;28;43mself\u001B[39;49m\u001B[38;5;241;43m.\u001B[39;49m\u001B[43m_read_status\u001B[49m\u001B[43m(\u001B[49m\u001B[43m)\u001B[49m\n\u001B[1;32m    332\u001B[0m     \u001B[38;5;28;01mif\u001B[39;00m status \u001B[38;5;241m!=\u001B[39m CONTINUE:\n\u001B[1;32m    333\u001B[0m         \u001B[38;5;28;01mbreak\u001B[39;00m\n",
      "File \u001B[0;32m/opt/homebrew/Cellar/python@3.12/3.12.3/Frameworks/Python.framework/Versions/3.12/lib/python3.12/http/client.py:292\u001B[0m, in \u001B[0;36mHTTPResponse._read_status\u001B[0;34m(self)\u001B[0m\n\u001B[1;32m    291\u001B[0m \u001B[38;5;28;01mdef\u001B[39;00m \u001B[38;5;21m_read_status\u001B[39m(\u001B[38;5;28mself\u001B[39m):\n\u001B[0;32m--> 292\u001B[0m     line \u001B[38;5;241m=\u001B[39m \u001B[38;5;28mstr\u001B[39m(\u001B[38;5;28;43mself\u001B[39;49m\u001B[38;5;241;43m.\u001B[39;49m\u001B[43mfp\u001B[49m\u001B[38;5;241;43m.\u001B[39;49m\u001B[43mreadline\u001B[49m\u001B[43m(\u001B[49m\u001B[43m_MAXLINE\u001B[49m\u001B[43m \u001B[49m\u001B[38;5;241;43m+\u001B[39;49m\u001B[43m \u001B[49m\u001B[38;5;241;43m1\u001B[39;49m\u001B[43m)\u001B[49m, \u001B[38;5;124m\"\u001B[39m\u001B[38;5;124miso-8859-1\u001B[39m\u001B[38;5;124m\"\u001B[39m)\n\u001B[1;32m    293\u001B[0m     \u001B[38;5;28;01mif\u001B[39;00m \u001B[38;5;28mlen\u001B[39m(line) \u001B[38;5;241m>\u001B[39m _MAXLINE:\n\u001B[1;32m    294\u001B[0m         \u001B[38;5;28;01mraise\u001B[39;00m LineTooLong(\u001B[38;5;124m\"\u001B[39m\u001B[38;5;124mstatus line\u001B[39m\u001B[38;5;124m\"\u001B[39m)\n",
      "File \u001B[0;32m/opt/homebrew/Cellar/python@3.12/3.12.3/Frameworks/Python.framework/Versions/3.12/lib/python3.12/socket.py:707\u001B[0m, in \u001B[0;36mSocketIO.readinto\u001B[0;34m(self, b)\u001B[0m\n\u001B[1;32m    705\u001B[0m \u001B[38;5;28;01mwhile\u001B[39;00m \u001B[38;5;28;01mTrue\u001B[39;00m:\n\u001B[1;32m    706\u001B[0m     \u001B[38;5;28;01mtry\u001B[39;00m:\n\u001B[0;32m--> 707\u001B[0m         \u001B[38;5;28;01mreturn\u001B[39;00m \u001B[38;5;28;43mself\u001B[39;49m\u001B[38;5;241;43m.\u001B[39;49m\u001B[43m_sock\u001B[49m\u001B[38;5;241;43m.\u001B[39;49m\u001B[43mrecv_into\u001B[49m\u001B[43m(\u001B[49m\u001B[43mb\u001B[49m\u001B[43m)\u001B[49m\n\u001B[1;32m    708\u001B[0m     \u001B[38;5;28;01mexcept\u001B[39;00m timeout:\n\u001B[1;32m    709\u001B[0m         \u001B[38;5;28mself\u001B[39m\u001B[38;5;241m.\u001B[39m_timeout_occurred \u001B[38;5;241m=\u001B[39m \u001B[38;5;28;01mTrue\u001B[39;00m\n",
      "File \u001B[0;32m/opt/homebrew/Cellar/python@3.12/3.12.3/Frameworks/Python.framework/Versions/3.12/lib/python3.12/ssl.py:1252\u001B[0m, in \u001B[0;36mSSLSocket.recv_into\u001B[0;34m(self, buffer, nbytes, flags)\u001B[0m\n\u001B[1;32m   1248\u001B[0m     \u001B[38;5;28;01mif\u001B[39;00m flags \u001B[38;5;241m!=\u001B[39m \u001B[38;5;241m0\u001B[39m:\n\u001B[1;32m   1249\u001B[0m         \u001B[38;5;28;01mraise\u001B[39;00m \u001B[38;5;167;01mValueError\u001B[39;00m(\n\u001B[1;32m   1250\u001B[0m           \u001B[38;5;124m\"\u001B[39m\u001B[38;5;124mnon-zero flags not allowed in calls to recv_into() on \u001B[39m\u001B[38;5;132;01m%s\u001B[39;00m\u001B[38;5;124m\"\u001B[39m \u001B[38;5;241m%\u001B[39m\n\u001B[1;32m   1251\u001B[0m           \u001B[38;5;28mself\u001B[39m\u001B[38;5;241m.\u001B[39m\u001B[38;5;18m__class__\u001B[39m)\n\u001B[0;32m-> 1252\u001B[0m     \u001B[38;5;28;01mreturn\u001B[39;00m \u001B[38;5;28;43mself\u001B[39;49m\u001B[38;5;241;43m.\u001B[39;49m\u001B[43mread\u001B[49m\u001B[43m(\u001B[49m\u001B[43mnbytes\u001B[49m\u001B[43m,\u001B[49m\u001B[43m \u001B[49m\u001B[43mbuffer\u001B[49m\u001B[43m)\u001B[49m\n\u001B[1;32m   1253\u001B[0m \u001B[38;5;28;01melse\u001B[39;00m:\n\u001B[1;32m   1254\u001B[0m     \u001B[38;5;28;01mreturn\u001B[39;00m \u001B[38;5;28msuper\u001B[39m()\u001B[38;5;241m.\u001B[39mrecv_into(buffer, nbytes, flags)\n",
      "File \u001B[0;32m/opt/homebrew/Cellar/python@3.12/3.12.3/Frameworks/Python.framework/Versions/3.12/lib/python3.12/ssl.py:1104\u001B[0m, in \u001B[0;36mSSLSocket.read\u001B[0;34m(self, len, buffer)\u001B[0m\n\u001B[1;32m   1102\u001B[0m \u001B[38;5;28;01mtry\u001B[39;00m:\n\u001B[1;32m   1103\u001B[0m     \u001B[38;5;28;01mif\u001B[39;00m buffer \u001B[38;5;129;01mis\u001B[39;00m \u001B[38;5;129;01mnot\u001B[39;00m \u001B[38;5;28;01mNone\u001B[39;00m:\n\u001B[0;32m-> 1104\u001B[0m         \u001B[38;5;28;01mreturn\u001B[39;00m \u001B[38;5;28;43mself\u001B[39;49m\u001B[38;5;241;43m.\u001B[39;49m\u001B[43m_sslobj\u001B[49m\u001B[38;5;241;43m.\u001B[39;49m\u001B[43mread\u001B[49m\u001B[43m(\u001B[49m\u001B[38;5;28;43mlen\u001B[39;49m\u001B[43m,\u001B[49m\u001B[43m \u001B[49m\u001B[43mbuffer\u001B[49m\u001B[43m)\u001B[49m\n\u001B[1;32m   1105\u001B[0m     \u001B[38;5;28;01melse\u001B[39;00m:\n\u001B[1;32m   1106\u001B[0m         \u001B[38;5;28;01mreturn\u001B[39;00m \u001B[38;5;28mself\u001B[39m\u001B[38;5;241m.\u001B[39m_sslobj\u001B[38;5;241m.\u001B[39mread(\u001B[38;5;28mlen\u001B[39m)\n",
      "\u001B[0;31mKeyboardInterrupt\u001B[0m: "
     ]
    }
   ],
   "execution_count": 40
  },
  {
   "metadata": {
    "ExecuteTime": {
     "end_time": "2024-06-17T19:58:54.509635Z",
     "start_time": "2024-06-17T19:58:54.506609Z"
    }
   },
   "cell_type": "code",
   "source": "r.headers",
   "id": "da1c869b8e3ca40c",
   "outputs": [
    {
     "data": {
      "text/plain": [
       "{'Cache-Control': 'no-cache', 'Content-Type': 'application/json; odata.metadata=minimal', 'Date': 'Mon, 17 Jun 2024 19:50:38 GMT', 'Expires': '-1', 'OData-Version': '4.0', 'Pragma': 'no-cache', 'Server': 'auth_api.lexisnexis.com  3000', 'Vary': 'Origin, Access-Control-Request-Method, Access-Control-Request-Headers, Accept-Encoding', 'X-AspNet-Version': '4.0.30319', 'X-Content-Type-Options': 'nosniff', 'X-Frame-Options': 'DENY', 'X-Powered-By': 'ASP.NET', 'X-RateLimit-Limit': '60/125/1500/12000', 'X-RateLimit-Remaining': '50/115/1485/11972', 'X-RateLimit-Reset': '1718653843/1718653893/1718655308/1718724658', 'X-XSS-Protection': '1; mode=block', 'Content-Length': '8097', 'Connection': 'keep-alive', 'X-RE-Ref': '1 1718653833019795', 'P3P': 'CP=\"IDC DSP LAW ADM DEV TAI PSA PSD IVA IVD CON HIS TEL OUR DEL SAM OTR IND OTC\"'}"
      ]
     },
     "execution_count": 42,
     "metadata": {},
     "output_type": "execute_result"
    }
   ],
   "execution_count": 42
  },
  {
   "metadata": {},
   "cell_type": "code",
   "outputs": [],
   "execution_count": null,
   "source": " ",
   "id": "556806ad412036aa"
  }
 ],
 "metadata": {
  "kernelspec": {
   "display_name": "Python 3",
   "language": "python",
   "name": "python3"
  },
  "language_info": {
   "codemirror_mode": {
    "name": "ipython",
    "version": 2
   },
   "file_extension": ".py",
   "mimetype": "text/x-python",
   "name": "python",
   "nbconvert_exporter": "python",
   "pygments_lexer": "ipython2",
   "version": "2.7.6"
  }
 },
 "nbformat": 4,
 "nbformat_minor": 5
}
