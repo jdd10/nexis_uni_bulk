{
 "cells": [
  {
   "metadata": {
    "ExecuteTime": {
     "end_time": "2024-08-08T15:40:34.500042Z",
     "start_time": "2024-08-08T15:40:34.454128Z"
    }
   },
   "cell_type": "code",
   "source": [
    "# script to download documents from Nexis Uni API in bulk\n",
    "# questions? Jeremy Darrington, jdarring@princeton.edu\n",
    "from oauthlib.oauth2 import BackendApplicationClient\n",
    "from requests_oauthlib import OAuth2Session\n",
    "from requests.auth import HTTPBasicAuth\n",
    "import os\n",
    "import time"
   ],
   "id": "f509b5d77fba4142",
   "outputs": [],
   "execution_count": 1
  },
  {
   "metadata": {
    "ExecuteTime": {
     "end_time": "2024-08-08T15:40:38.697281Z",
     "start_time": "2024-08-08T15:40:38.694074Z"
    }
   },
   "cell_type": "code",
   "source": [
    "# be sure to set up the client_id and client_secret as environment variables in your shell\n",
    "client_id = os.getenv('CLIENT_ID')\n",
    "client_secret = os.getenv('CLIENT_SECRET')\n",
    "scope = 'http://oauth.lexisnexis.com/all'\n",
    "grant_type = 'client_credentials'\n",
    "content_type = 'application/x-www-form-urlencoded'"
   ],
   "id": "ea20b6923b0a1f4a",
   "outputs": [],
   "execution_count": 2
  },
  {
   "metadata": {
    "ExecuteTime": {
     "end_time": "2024-08-08T15:40:42.122409Z",
     "start_time": "2024-08-08T15:40:41.784942Z"
    }
   },
   "cell_type": "code",
   "source": [
    "# for details on authentication, see the docs at https://www.lexisnexis.com/lextalk/developers/ln-webservice-api/p/apidocs.aspx#introduction, section \"Service to Service ID\"\n",
    "# also see https://requests-oauthlib.readthedocs.io/en/latest/oauth2_workflow.html#backend-application-flow \n",
    "auth = HTTPBasicAuth(client_id, client_secret)\n",
    "\n",
    "client = BackendApplicationClient(client_id=client_id, scope=scope, grant_type=grant_type, token_type='Bearer', client_secret=client_secret, content_type=content_type)\n",
    "\n",
    "oauth = OAuth2Session(client=client)\n",
    "\n",
    "token = oauth.fetch_token(token_url='https://auth-api.lexisnexis.com/oauth/v2/token', auth=auth)"
   ],
   "id": "34cc040c8f2ce18d",
   "outputs": [],
   "execution_count": 3
  },
  {
   "metadata": {
    "ExecuteTime": {
     "end_time": "2024-08-08T15:40:44.941160Z",
     "start_time": "2024-08-08T15:40:44.935923Z"
    }
   },
   "cell_type": "code",
   "source": [
    "# get the token\n",
    "token"
   ],
   "id": "d003b6b5b3547c89",
   "outputs": [
    {
     "data": {
      "text/plain": [
       "{'access_token': 'NWQ2Mzc5ZWEtNmY1Zi00ZWEwLTliNWMtMWI5MDAzZjM0ODcx',\n",
       " 'token_type': 'Bearer',\n",
       " 'expires_in': 86400,\n",
       " 'expires_at': 1723218042.117908}"
      ]
     },
     "execution_count": 4,
     "metadata": {},
     "output_type": "execute_result"
    }
   ],
   "execution_count": 4
  },
  {
   "metadata": {
    "ExecuteTime": {
     "end_time": "2024-08-08T15:57:02.462930Z",
     "start_time": "2024-08-08T15:57:02.440878Z"
    }
   },
   "cell_type": "code",
   "source": [
    "# set up a request to the BatchNews endpoint; should only be used when returning > 500 documents \n",
    "base_url = 'https://services-api.lexisnexis.com/v1/'\n",
    "search_endpoint = \"BatchNews\"\n",
    "# Documentation says you add these search fields: agg-copyright, body, byline, cite, company, headline, hlead, length, publication, publication-type, pub-copyright, section, show, term, ticker, title, jurisinfo, load-date, xce-date, subject, industry, geography, document-type, country\n",
    "search_string = \"biden w/5 (poll* OR survey) and publication('New York Times')\"\n",
    "filter = \"Date ge 2024-01-01\" # comparison operators: gt, ge, lt, le\n",
    "results_per_page = 50 # max is 50 for BatchNews\n",
    "url_params = {'$search': search_string, '$filter': filter, '$top': results_per_page}"
   ],
   "id": "9129ec5cff14e4c1",
   "outputs": [],
   "execution_count": 24
  },
  {
   "metadata": {
    "ExecuteTime": {
     "end_time": "2024-08-08T15:57:04.238276Z",
     "start_time": "2024-08-08T15:57:03.948014Z"
    }
   },
   "cell_type": "code",
   "source": [
    "# you need to pass the token in the headers by calling 'get' on the oauth object\n",
    "r = oauth.get(base_url+search_endpoint, params=url_params, timeout=10)"
   ],
   "id": "ff875cc2b2ec047f",
   "outputs": [],
   "execution_count": 25
  },
  {
   "metadata": {
    "ExecuteTime": {
     "end_time": "2024-08-08T15:57:05.533190Z",
     "start_time": "2024-08-08T15:57:05.526495Z"
    }
   },
   "cell_type": "code",
   "source": [
    "# see the results\n",
    "r.json()"
   ],
   "id": "5e54accf3bc687da",
   "outputs": [
    {
     "data": {
      "text/plain": [
       "{'@odata.context': 'https://services-api.lexisnexis.com/v1/$metadata#BatchNews(ResultId,Source)',\n",
       " '@odata.count': 761,\n",
       " 'value': [{'ResultId': 'urn:contentItem:6CGT-XPF1-JBG3-6033-00000-00',\n",
       "   'Source': {'Id': '', 'Name': 'The New York Times', 'ContentType': ''}},\n",
       "  {'ResultId': 'urn:contentItem:6CHY-TR91-JBG3-60D6-00000-00',\n",
       "   'Source': {'Id': '', 'Name': 'The New York Times', 'ContentType': ''}},\n",
       "  {'ResultId': 'urn:contentItem:6CG0-BWY1-JBG3-6021-00000-00',\n",
       "   'Source': {'Id': '', 'Name': 'The New York Times', 'ContentType': ''}},\n",
       "  {'ResultId': 'urn:contentItem:6C17-2CY1-DXY4-X07D-00000-00',\n",
       "   'Source': {'Id': '', 'Name': 'The New York Times', 'ContentType': ''}},\n",
       "  {'ResultId': 'urn:contentItem:6CGN-B9B1-JBG3-60SJ-00000-00',\n",
       "   'Source': {'Id': '', 'Name': 'The New York Times', 'ContentType': ''}},\n",
       "  {'ResultId': 'urn:contentItem:6CG5-YTV1-JBG3-60P9-00000-00',\n",
       "   'Source': {'Id': '', 'Name': 'The New York Times', 'ContentType': ''}},\n",
       "  {'ResultId': 'urn:contentItem:6CCP-B0M1-DXY4-X00C-00000-00',\n",
       "   'Source': {'Id': '', 'Name': 'The New York Times', 'ContentType': ''}},\n",
       "  {'ResultId': 'urn:contentItem:6CMF-RWH1-JBG3-600X-00000-00',\n",
       "   'Source': {'Id': '', 'Name': 'The New York Times', 'ContentType': ''}},\n",
       "  {'ResultId': 'urn:contentItem:6CDP-BMR1-DXY4-X15W-00000-00',\n",
       "   'Source': {'Id': '', 'Name': 'The New York Times', 'ContentType': ''}},\n",
       "  {'ResultId': 'urn:contentItem:6CD2-MC61-DXY4-X016-00000-00',\n",
       "   'Source': {'Id': '', 'Name': 'The New York Times', 'ContentType': ''}},\n",
       "  {'ResultId': 'urn:contentItem:6CD8-KFV1-JBG3-6014-00000-00',\n",
       "   'Source': {'Id': '', 'Name': 'The New York Times', 'ContentType': ''}},\n",
       "  {'ResultId': 'urn:contentItem:6CDG-6N01-JBG3-60NY-00000-00',\n",
       "   'Source': {'Id': '', 'Name': 'The New York Times', 'ContentType': ''}},\n",
       "  {'ResultId': 'urn:contentItem:6CJ4-2X71-JBG3-61VS-00000-00',\n",
       "   'Source': {'Id': '', 'Name': 'The New York Times', 'ContentType': ''}},\n",
       "  {'ResultId': 'urn:contentItem:6CBB-VX61-JBG3-6014-00000-00',\n",
       "   'Source': {'Id': '', 'Name': 'The New York Times', 'ContentType': ''}},\n",
       "  {'ResultId': 'urn:contentItem:6C4K-MYJ1-JBG3-60NJ-00000-00',\n",
       "   'Source': {'Id': '', 'Name': 'The New York Times', 'ContentType': ''}},\n",
       "  {'ResultId': 'urn:contentItem:6CGV-7PD1-JBG3-601B-00000-00',\n",
       "   'Source': {'Id': '', 'Name': 'The New York Times', 'ContentType': ''}},\n",
       "  {'ResultId': 'urn:contentItem:6CJM-4XC1-JBG3-64GR-00000-00',\n",
       "   'Source': {'Id': '', 'Name': 'The New York Times', 'ContentType': ''}},\n",
       "  {'ResultId': 'urn:contentItem:6C1F-NJW1-DYR7-C00R-00000-00',\n",
       "   'Source': {'Id': '',\n",
       "    'Name': 'The New York Times - International Edition',\n",
       "    'ContentType': ''}},\n",
       "  {'ResultId': 'urn:contentItem:6C18-30R1-DXY4-X0DD-00000-00',\n",
       "   'Source': {'Id': '', 'Name': 'The New York Times', 'ContentType': ''}},\n",
       "  {'ResultId': 'urn:contentItem:6CB9-CFM1-JBG3-606H-00000-00',\n",
       "   'Source': {'Id': '', 'Name': 'The New York Times', 'ContentType': ''}},\n",
       "  {'ResultId': 'urn:contentItem:6CJY-K5T1-DXY4-X1S3-00000-00',\n",
       "   'Source': {'Id': '', 'Name': 'The New York Times', 'ContentType': ''}},\n",
       "  {'ResultId': 'urn:contentItem:6C1C-PR61-DXY4-X0N5-00000-00',\n",
       "   'Source': {'Id': '', 'Name': 'The New York Times', 'ContentType': ''}},\n",
       "  {'ResultId': 'urn:contentItem:6C4W-6JG1-JC85-N3TV-00000-00',\n",
       "   'Source': {'Id': '',\n",
       "    'Name': 'The New York Times - International Edition',\n",
       "    'ContentType': ''}},\n",
       "  {'ResultId': 'urn:contentItem:6BPR-1X41-JBG3-606J-00000-00',\n",
       "   'Source': {'Id': '', 'Name': 'The New York Times', 'ContentType': ''}},\n",
       "  {'ResultId': 'urn:contentItem:6CJJ-1461-DXY4-X05W-00000-00',\n",
       "   'Source': {'Id': '', 'Name': 'The New York Times', 'ContentType': ''}},\n",
       "  {'ResultId': 'urn:contentItem:6CMY-8RH1-DYR7-C00H-00000-00',\n",
       "   'Source': {'Id': '',\n",
       "    'Name': 'The New York Times - International Edition',\n",
       "    'ContentType': ''}},\n",
       "  {'ResultId': 'urn:contentItem:6CF4-3R11-JBG3-60M5-00000-00',\n",
       "   'Source': {'Id': '', 'Name': 'The New York Times', 'ContentType': ''}},\n",
       "  {'ResultId': 'urn:contentItem:6CFC-WNX1-JBG3-604V-00000-00',\n",
       "   'Source': {'Id': '', 'Name': 'The New York Times', 'ContentType': ''}},\n",
       "  {'ResultId': 'urn:contentItem:6CH3-Y181-JBG3-608J-00000-00',\n",
       "   'Source': {'Id': '', 'Name': 'The New York Times', 'ContentType': ''}},\n",
       "  {'ResultId': 'urn:contentItem:6CJT-HW41-DXY4-X1GS-00000-00',\n",
       "   'Source': {'Id': '', 'Name': 'The New York Times', 'ContentType': ''}},\n",
       "  {'ResultId': 'urn:contentItem:6CFJ-DRP1-DXY4-X08V-00000-00',\n",
       "   'Source': {'Id': '', 'Name': 'The New York Times', 'ContentType': ''}},\n",
       "  {'ResultId': 'urn:contentItem:6CJT-HW41-DXY4-X1GV-00000-00',\n",
       "   'Source': {'Id': '', 'Name': 'The New York Times', 'ContentType': ''}},\n",
       "  {'ResultId': 'urn:contentItem:6C16-3YR1-DXY4-X03R-00000-00',\n",
       "   'Source': {'Id': '', 'Name': 'The New York Times', 'ContentType': ''}},\n",
       "  {'ResultId': 'urn:contentItem:6CBM-PXG1-DXY4-X050-00000-00',\n",
       "   'Source': {'Id': '', 'Name': 'The New York Times', 'ContentType': ''}},\n",
       "  {'ResultId': 'urn:contentItem:6CGT-XPF1-JBG3-602V-00000-00',\n",
       "   'Source': {'Id': '', 'Name': 'The New York Times', 'ContentType': ''}},\n",
       "  {'ResultId': 'urn:contentItem:6CD4-1BC1-DXY4-X01D-00000-00',\n",
       "   'Source': {'Id': '', 'Name': 'The New York Times', 'ContentType': ''}},\n",
       "  {'ResultId': 'urn:contentItem:6CD4-4SS1-JBG3-6067-00000-00',\n",
       "   'Source': {'Id': '', 'Name': 'The New York Times', 'ContentType': ''}},\n",
       "  {'ResultId': 'urn:contentItem:6CGN-84S1-JBG3-60RW-00000-00',\n",
       "   'Source': {'Id': '', 'Name': 'The New York Times', 'ContentType': ''}},\n",
       "  {'ResultId': 'urn:contentItem:6CK1-J011-DYR7-C3V3-00000-00',\n",
       "   'Source': {'Id': '',\n",
       "    'Name': 'The New York Times - International Edition',\n",
       "    'ContentType': ''}},\n",
       "  {'ResultId': 'urn:contentItem:6BST-0FT1-JBG3-60N9-00000-00',\n",
       "   'Source': {'Id': '', 'Name': 'The New York Times', 'ContentType': ''}},\n",
       "  {'ResultId': 'urn:contentItem:6CHB-2SC1-DXY4-X4RJ-00000-00',\n",
       "   'Source': {'Id': '', 'Name': 'The New York Times', 'ContentType': ''}},\n",
       "  {'ResultId': 'urn:contentItem:6CD8-72F1-JBG3-604S-00000-00',\n",
       "   'Source': {'Id': '', 'Name': 'The New York Times', 'ContentType': ''}},\n",
       "  {'ResultId': 'urn:contentItem:6CJY-K5T1-DXY4-X1RV-00000-00',\n",
       "   'Source': {'Id': '', 'Name': 'The New York Times', 'ContentType': ''}},\n",
       "  {'ResultId': 'urn:contentItem:6C4T-M101-DXY4-X1NV-00000-00',\n",
       "   'Source': {'Id': '', 'Name': 'The New York Times', 'ContentType': ''}},\n",
       "  {'ResultId': 'urn:contentItem:6C9G-KSP1-DXY4-X018-00000-00',\n",
       "   'Source': {'Id': '', 'Name': 'The New York Times', 'ContentType': ''}},\n",
       "  {'ResultId': 'urn:contentItem:6BN5-GBS1-DXY4-X2J0-00000-00',\n",
       "   'Source': {'Id': '', 'Name': 'The New York Times', 'ContentType': ''}},\n",
       "  {'ResultId': 'urn:contentItem:6CD8-72F1-JBG3-604K-00000-00',\n",
       "   'Source': {'Id': '', 'Name': 'The New York Times', 'ContentType': ''}},\n",
       "  {'ResultId': 'urn:contentItem:6CDS-71X1-JBG3-62G1-00000-00',\n",
       "   'Source': {'Id': '', 'Name': 'The New York Times', 'ContentType': ''}},\n",
       "  {'ResultId': 'urn:contentItem:6C99-10G1-DXY4-X013-00000-00',\n",
       "   'Source': {'Id': '', 'Name': 'The New York Times', 'ContentType': ''}},\n",
       "  {'ResultId': 'urn:contentItem:6BX6-HCY1-DXY4-X1RX-00000-00',\n",
       "   'Source': {'Id': '', 'Name': 'The New York Times', 'ContentType': ''}}],\n",
       " '@odata.nextLink': \"https://services-api.lexisnexis.com/v1/BatchNews?$search=biden%20w/5%20(poll*%20OR%20survey)%20and%20publication('New%20York%20Times')&$filter=Date%20ge%202024-01-01&$top=50&$expand=Source&$select=ResultId&$skip=50\"}"
      ]
     },
     "execution_count": 26,
     "metadata": {},
     "output_type": "execute_result"
    }
   ],
   "execution_count": 26
  },
  {
   "metadata": {
    "ExecuteTime": {
     "end_time": "2024-08-08T15:57:22.838398Z",
     "start_time": "2024-08-08T15:57:22.835231Z"
    }
   },
   "cell_type": "code",
   "source": [
    "# get the document IDs\n",
    "doc_ids = [doc['ResultId'] for doc in r.json()['value']]"
   ],
   "id": "10f842a36d097038",
   "outputs": [],
   "execution_count": 28
  },
  {
   "metadata": {
    "ExecuteTime": {
     "end_time": "2024-08-08T15:57:24.729290Z",
     "start_time": "2024-08-08T15:57:23.558125Z"
    }
   },
   "cell_type": "code",
   "source": [
    "# iterate through the pages of results and add the doc_ids to the list. Because of rate limits, you may need to add a sleep statement of 2-3 seconds, depending on the number of results\n",
    "# \n",
    "counter = 0\n",
    "pages = 5  # number of pages to fetch\n",
    "\n",
    "while '@odata.nextLink' in r.json().keys() and counter < pages:\n",
    "    r = oauth.get(r.json()['@odata.nextLink'])\n",
    "    doc_ids.extend([doc['ResultId'] for doc in r.json()['value']])\n",
    "    counter += 1  # Increment the counter while '@odata.nextLink' in r.json().keys():\n",
    "    #time.sleep(2)"
   ],
   "id": "f45d43b8cb552985",
   "outputs": [],
   "execution_count": 29
  },
  {
   "metadata": {
    "ExecuteTime": {
     "end_time": "2024-08-08T15:58:17.598604Z",
     "start_time": "2024-08-08T15:57:27.668796Z"
    }
   },
   "cell_type": "code",
   "source": [
    "# iterate over the doc_ids and fetch the documents and save them to a file. This will take a while, depending on the number of documents\n",
    "counter = 1\n",
    "for doc_id in doc_ids[:100]:\n",
    "    docs_url = f\"{base_url}Documents(DocumentId='{doc_id}',DocumentIdType='PGuid')/$value\"\n",
    "    doc = oauth.get(docs_url)\n",
    "    print(f\"Fetching document {counter}: {doc_id}\")\n",
    "    with open(f'{doc_id}.xml', 'w') as f:\n",
    "        f.write(doc.text)\n",
    "    counter += 1\n"
   ],
   "id": "7e343e8a172e18b6",
   "outputs": [
    {
     "name": "stdout",
     "output_type": "stream",
     "text": [
      "Fetching document 1: urn:contentItem:6C65-FKM1-DXY4-X003-00000-00\n",
      "Fetching document 2: urn:contentItem:6B7M-WSG1-JBG3-60M4-00000-00\n",
      "Fetching document 3: urn:contentItem:6C2G-3HR1-DXY4-X0DB-00000-00\n",
      "Fetching document 4: urn:contentItem:6CBV-CNS1-JC85-N00R-00000-00\n",
      "Fetching document 5: urn:contentItem:6C1K-P3S1-DXY4-X0P1-00000-00\n",
      "Fetching document 6: urn:contentItem:6BDS-HFJ1-JBG3-61K5-00000-00\n",
      "Fetching document 7: urn:contentItem:6CJY-YGF1-JBG3-616G-00000-00\n",
      "Fetching document 8: urn:contentItem:6BDV-P421-DXY4-X076-00000-00\n",
      "Fetching document 9: urn:contentItem:6C3H-SXX1-JBG3-60KH-00000-00\n",
      "Fetching document 10: urn:contentItem:6CD4-1BC1-DXY4-X01K-00000-00\n",
      "Fetching document 11: urn:contentItem:6CJB-1WY1-DXY4-X476-00000-00\n",
      "Fetching document 12: urn:contentItem:6CD8-72F1-JBG3-6041-00000-00\n",
      "Fetching document 13: urn:contentItem:6B83-NYR1-DXY4-X043-00000-00\n",
      "Fetching document 14: urn:contentItem:6BYY-W831-DYR7-C00G-00000-00\n",
      "Fetching document 15: urn:contentItem:6C6R-0F51-DXY4-X1TS-00000-00\n"
     ]
    },
    {
     "ename": "KeyboardInterrupt",
     "evalue": "",
     "output_type": "error",
     "traceback": [
      "\u001B[0;31m---------------------------------------------------------------------------\u001B[0m",
      "\u001B[0;31mKeyboardInterrupt\u001B[0m                         Traceback (most recent call last)",
      "Cell \u001B[0;32mIn[30], line 5\u001B[0m\n\u001B[1;32m      3\u001B[0m \u001B[38;5;28;01mfor\u001B[39;00m doc_id \u001B[38;5;129;01min\u001B[39;00m doc_ids[:\u001B[38;5;241m100\u001B[39m]:\n\u001B[1;32m      4\u001B[0m     docs_url \u001B[38;5;241m=\u001B[39m \u001B[38;5;124mf\u001B[39m\u001B[38;5;124m\"\u001B[39m\u001B[38;5;132;01m{\u001B[39;00mbase_url\u001B[38;5;132;01m}\u001B[39;00m\u001B[38;5;124mDocuments(DocumentId=\u001B[39m\u001B[38;5;124m'\u001B[39m\u001B[38;5;132;01m{\u001B[39;00mdoc_id\u001B[38;5;132;01m}\u001B[39;00m\u001B[38;5;124m'\u001B[39m\u001B[38;5;124m,DocumentIdType=\u001B[39m\u001B[38;5;124m'\u001B[39m\u001B[38;5;124mPGuid\u001B[39m\u001B[38;5;124m'\u001B[39m\u001B[38;5;124m)/$value\u001B[39m\u001B[38;5;124m\"\u001B[39m\n\u001B[0;32m----> 5\u001B[0m     doc \u001B[38;5;241m=\u001B[39m \u001B[43moauth\u001B[49m\u001B[38;5;241;43m.\u001B[39;49m\u001B[43mget\u001B[49m\u001B[43m(\u001B[49m\u001B[43mdocs_url\u001B[49m\u001B[43m)\u001B[49m\n\u001B[1;32m      6\u001B[0m     \u001B[38;5;28mprint\u001B[39m(\u001B[38;5;124mf\u001B[39m\u001B[38;5;124m\"\u001B[39m\u001B[38;5;124mFetching document \u001B[39m\u001B[38;5;132;01m{\u001B[39;00mcounter\u001B[38;5;132;01m}\u001B[39;00m\u001B[38;5;124m: \u001B[39m\u001B[38;5;132;01m{\u001B[39;00mdoc_id\u001B[38;5;132;01m}\u001B[39;00m\u001B[38;5;124m\"\u001B[39m)\n\u001B[1;32m      7\u001B[0m     \u001B[38;5;28;01mwith\u001B[39;00m \u001B[38;5;28mopen\u001B[39m(\u001B[38;5;124mf\u001B[39m\u001B[38;5;124m'\u001B[39m\u001B[38;5;132;01m{\u001B[39;00mdoc_id\u001B[38;5;132;01m}\u001B[39;00m\u001B[38;5;124m.xml\u001B[39m\u001B[38;5;124m'\u001B[39m, \u001B[38;5;124m'\u001B[39m\u001B[38;5;124mw\u001B[39m\u001B[38;5;124m'\u001B[39m) \u001B[38;5;28;01mas\u001B[39;00m f:\n",
      "File \u001B[0;32m~/Princeton Dropbox/Jeremy Darrington/princeton/venvs/.datasci_venv/lib/python3.12/site-packages/requests/sessions.py:602\u001B[0m, in \u001B[0;36mSession.get\u001B[0;34m(self, url, **kwargs)\u001B[0m\n\u001B[1;32m    594\u001B[0m \u001B[38;5;250m\u001B[39m\u001B[38;5;124mr\u001B[39m\u001B[38;5;124;03m\"\"\"Sends a GET request. Returns :class:`Response` object.\u001B[39;00m\n\u001B[1;32m    595\u001B[0m \n\u001B[1;32m    596\u001B[0m \u001B[38;5;124;03m:param url: URL for the new :class:`Request` object.\u001B[39;00m\n\u001B[1;32m    597\u001B[0m \u001B[38;5;124;03m:param \\*\\*kwargs: Optional arguments that ``request`` takes.\u001B[39;00m\n\u001B[1;32m    598\u001B[0m \u001B[38;5;124;03m:rtype: requests.Response\u001B[39;00m\n\u001B[1;32m    599\u001B[0m \u001B[38;5;124;03m\"\"\"\u001B[39;00m\n\u001B[1;32m    601\u001B[0m kwargs\u001B[38;5;241m.\u001B[39msetdefault(\u001B[38;5;124m\"\u001B[39m\u001B[38;5;124mallow_redirects\u001B[39m\u001B[38;5;124m\"\u001B[39m, \u001B[38;5;28;01mTrue\u001B[39;00m)\n\u001B[0;32m--> 602\u001B[0m \u001B[38;5;28;01mreturn\u001B[39;00m \u001B[38;5;28;43mself\u001B[39;49m\u001B[38;5;241;43m.\u001B[39;49m\u001B[43mrequest\u001B[49m\u001B[43m(\u001B[49m\u001B[38;5;124;43m\"\u001B[39;49m\u001B[38;5;124;43mGET\u001B[39;49m\u001B[38;5;124;43m\"\u001B[39;49m\u001B[43m,\u001B[49m\u001B[43m \u001B[49m\u001B[43murl\u001B[49m\u001B[43m,\u001B[49m\u001B[43m \u001B[49m\u001B[38;5;241;43m*\u001B[39;49m\u001B[38;5;241;43m*\u001B[39;49m\u001B[43mkwargs\u001B[49m\u001B[43m)\u001B[49m\n",
      "File \u001B[0;32m~/Princeton Dropbox/Jeremy Darrington/princeton/venvs/.datasci_venv/lib/python3.12/site-packages/requests_oauthlib/oauth2_session.py:566\u001B[0m, in \u001B[0;36mOAuth2Session.request\u001B[0;34m(self, method, url, data, headers, withhold_token, client_id, client_secret, files, **kwargs)\u001B[0m\n\u001B[1;32m    564\u001B[0m log\u001B[38;5;241m.\u001B[39mdebug(\u001B[38;5;124m\"\u001B[39m\u001B[38;5;124mSupplying headers \u001B[39m\u001B[38;5;132;01m%s\u001B[39;00m\u001B[38;5;124m and data \u001B[39m\u001B[38;5;132;01m%s\u001B[39;00m\u001B[38;5;124m\"\u001B[39m, headers, data)\n\u001B[1;32m    565\u001B[0m log\u001B[38;5;241m.\u001B[39mdebug(\u001B[38;5;124m\"\u001B[39m\u001B[38;5;124mPassing through key word arguments \u001B[39m\u001B[38;5;132;01m%s\u001B[39;00m\u001B[38;5;124m.\u001B[39m\u001B[38;5;124m\"\u001B[39m, kwargs)\n\u001B[0;32m--> 566\u001B[0m \u001B[38;5;28;01mreturn\u001B[39;00m \u001B[38;5;28;43msuper\u001B[39;49m\u001B[43m(\u001B[49m\u001B[43mOAuth2Session\u001B[49m\u001B[43m,\u001B[49m\u001B[43m \u001B[49m\u001B[38;5;28;43mself\u001B[39;49m\u001B[43m)\u001B[49m\u001B[38;5;241;43m.\u001B[39;49m\u001B[43mrequest\u001B[49m\u001B[43m(\u001B[49m\n\u001B[1;32m    567\u001B[0m \u001B[43m    \u001B[49m\u001B[43mmethod\u001B[49m\u001B[43m,\u001B[49m\u001B[43m \u001B[49m\u001B[43murl\u001B[49m\u001B[43m,\u001B[49m\u001B[43m \u001B[49m\u001B[43mheaders\u001B[49m\u001B[38;5;241;43m=\u001B[39;49m\u001B[43mheaders\u001B[49m\u001B[43m,\u001B[49m\u001B[43m \u001B[49m\u001B[43mdata\u001B[49m\u001B[38;5;241;43m=\u001B[39;49m\u001B[43mdata\u001B[49m\u001B[43m,\u001B[49m\u001B[43m \u001B[49m\u001B[43mfiles\u001B[49m\u001B[38;5;241;43m=\u001B[39;49m\u001B[43mfiles\u001B[49m\u001B[43m,\u001B[49m\u001B[43m \u001B[49m\u001B[38;5;241;43m*\u001B[39;49m\u001B[38;5;241;43m*\u001B[39;49m\u001B[43mkwargs\u001B[49m\n\u001B[1;32m    568\u001B[0m \u001B[43m\u001B[49m\u001B[43m)\u001B[49m\n",
      "File \u001B[0;32m~/Princeton Dropbox/Jeremy Darrington/princeton/venvs/.datasci_venv/lib/python3.12/site-packages/requests/sessions.py:589\u001B[0m, in \u001B[0;36mSession.request\u001B[0;34m(self, method, url, params, data, headers, cookies, files, auth, timeout, allow_redirects, proxies, hooks, stream, verify, cert, json)\u001B[0m\n\u001B[1;32m    584\u001B[0m send_kwargs \u001B[38;5;241m=\u001B[39m {\n\u001B[1;32m    585\u001B[0m     \u001B[38;5;124m\"\u001B[39m\u001B[38;5;124mtimeout\u001B[39m\u001B[38;5;124m\"\u001B[39m: timeout,\n\u001B[1;32m    586\u001B[0m     \u001B[38;5;124m\"\u001B[39m\u001B[38;5;124mallow_redirects\u001B[39m\u001B[38;5;124m\"\u001B[39m: allow_redirects,\n\u001B[1;32m    587\u001B[0m }\n\u001B[1;32m    588\u001B[0m send_kwargs\u001B[38;5;241m.\u001B[39mupdate(settings)\n\u001B[0;32m--> 589\u001B[0m resp \u001B[38;5;241m=\u001B[39m \u001B[38;5;28;43mself\u001B[39;49m\u001B[38;5;241;43m.\u001B[39;49m\u001B[43msend\u001B[49m\u001B[43m(\u001B[49m\u001B[43mprep\u001B[49m\u001B[43m,\u001B[49m\u001B[43m \u001B[49m\u001B[38;5;241;43m*\u001B[39;49m\u001B[38;5;241;43m*\u001B[39;49m\u001B[43msend_kwargs\u001B[49m\u001B[43m)\u001B[49m\n\u001B[1;32m    591\u001B[0m \u001B[38;5;28;01mreturn\u001B[39;00m resp\n",
      "File \u001B[0;32m~/Princeton Dropbox/Jeremy Darrington/princeton/venvs/.datasci_venv/lib/python3.12/site-packages/requests/sessions.py:703\u001B[0m, in \u001B[0;36mSession.send\u001B[0;34m(self, request, **kwargs)\u001B[0m\n\u001B[1;32m    700\u001B[0m start \u001B[38;5;241m=\u001B[39m preferred_clock()\n\u001B[1;32m    702\u001B[0m \u001B[38;5;66;03m# Send the request\u001B[39;00m\n\u001B[0;32m--> 703\u001B[0m r \u001B[38;5;241m=\u001B[39m \u001B[43madapter\u001B[49m\u001B[38;5;241;43m.\u001B[39;49m\u001B[43msend\u001B[49m\u001B[43m(\u001B[49m\u001B[43mrequest\u001B[49m\u001B[43m,\u001B[49m\u001B[43m \u001B[49m\u001B[38;5;241;43m*\u001B[39;49m\u001B[38;5;241;43m*\u001B[39;49m\u001B[43mkwargs\u001B[49m\u001B[43m)\u001B[49m\n\u001B[1;32m    705\u001B[0m \u001B[38;5;66;03m# Total elapsed time of the request (approximately)\u001B[39;00m\n\u001B[1;32m    706\u001B[0m elapsed \u001B[38;5;241m=\u001B[39m preferred_clock() \u001B[38;5;241m-\u001B[39m start\n",
      "File \u001B[0;32m~/Princeton Dropbox/Jeremy Darrington/princeton/venvs/.datasci_venv/lib/python3.12/site-packages/requests/adapters.py:486\u001B[0m, in \u001B[0;36mHTTPAdapter.send\u001B[0;34m(self, request, stream, timeout, verify, cert, proxies)\u001B[0m\n\u001B[1;32m    483\u001B[0m     timeout \u001B[38;5;241m=\u001B[39m TimeoutSauce(connect\u001B[38;5;241m=\u001B[39mtimeout, read\u001B[38;5;241m=\u001B[39mtimeout)\n\u001B[1;32m    485\u001B[0m \u001B[38;5;28;01mtry\u001B[39;00m:\n\u001B[0;32m--> 486\u001B[0m     resp \u001B[38;5;241m=\u001B[39m \u001B[43mconn\u001B[49m\u001B[38;5;241;43m.\u001B[39;49m\u001B[43murlopen\u001B[49m\u001B[43m(\u001B[49m\n\u001B[1;32m    487\u001B[0m \u001B[43m        \u001B[49m\u001B[43mmethod\u001B[49m\u001B[38;5;241;43m=\u001B[39;49m\u001B[43mrequest\u001B[49m\u001B[38;5;241;43m.\u001B[39;49m\u001B[43mmethod\u001B[49m\u001B[43m,\u001B[49m\n\u001B[1;32m    488\u001B[0m \u001B[43m        \u001B[49m\u001B[43murl\u001B[49m\u001B[38;5;241;43m=\u001B[39;49m\u001B[43murl\u001B[49m\u001B[43m,\u001B[49m\n\u001B[1;32m    489\u001B[0m \u001B[43m        \u001B[49m\u001B[43mbody\u001B[49m\u001B[38;5;241;43m=\u001B[39;49m\u001B[43mrequest\u001B[49m\u001B[38;5;241;43m.\u001B[39;49m\u001B[43mbody\u001B[49m\u001B[43m,\u001B[49m\n\u001B[1;32m    490\u001B[0m \u001B[43m        \u001B[49m\u001B[43mheaders\u001B[49m\u001B[38;5;241;43m=\u001B[39;49m\u001B[43mrequest\u001B[49m\u001B[38;5;241;43m.\u001B[39;49m\u001B[43mheaders\u001B[49m\u001B[43m,\u001B[49m\n\u001B[1;32m    491\u001B[0m \u001B[43m        \u001B[49m\u001B[43mredirect\u001B[49m\u001B[38;5;241;43m=\u001B[39;49m\u001B[38;5;28;43;01mFalse\u001B[39;49;00m\u001B[43m,\u001B[49m\n\u001B[1;32m    492\u001B[0m \u001B[43m        \u001B[49m\u001B[43massert_same_host\u001B[49m\u001B[38;5;241;43m=\u001B[39;49m\u001B[38;5;28;43;01mFalse\u001B[39;49;00m\u001B[43m,\u001B[49m\n\u001B[1;32m    493\u001B[0m \u001B[43m        \u001B[49m\u001B[43mpreload_content\u001B[49m\u001B[38;5;241;43m=\u001B[39;49m\u001B[38;5;28;43;01mFalse\u001B[39;49;00m\u001B[43m,\u001B[49m\n\u001B[1;32m    494\u001B[0m \u001B[43m        \u001B[49m\u001B[43mdecode_content\u001B[49m\u001B[38;5;241;43m=\u001B[39;49m\u001B[38;5;28;43;01mFalse\u001B[39;49;00m\u001B[43m,\u001B[49m\n\u001B[1;32m    495\u001B[0m \u001B[43m        \u001B[49m\u001B[43mretries\u001B[49m\u001B[38;5;241;43m=\u001B[39;49m\u001B[38;5;28;43mself\u001B[39;49m\u001B[38;5;241;43m.\u001B[39;49m\u001B[43mmax_retries\u001B[49m\u001B[43m,\u001B[49m\n\u001B[1;32m    496\u001B[0m \u001B[43m        \u001B[49m\u001B[43mtimeout\u001B[49m\u001B[38;5;241;43m=\u001B[39;49m\u001B[43mtimeout\u001B[49m\u001B[43m,\u001B[49m\n\u001B[1;32m    497\u001B[0m \u001B[43m        \u001B[49m\u001B[43mchunked\u001B[49m\u001B[38;5;241;43m=\u001B[39;49m\u001B[43mchunked\u001B[49m\u001B[43m,\u001B[49m\n\u001B[1;32m    498\u001B[0m \u001B[43m    \u001B[49m\u001B[43m)\u001B[49m\n\u001B[1;32m    500\u001B[0m \u001B[38;5;28;01mexcept\u001B[39;00m (ProtocolError, \u001B[38;5;167;01mOSError\u001B[39;00m) \u001B[38;5;28;01mas\u001B[39;00m err:\n\u001B[1;32m    501\u001B[0m     \u001B[38;5;28;01mraise\u001B[39;00m \u001B[38;5;167;01mConnectionError\u001B[39;00m(err, request\u001B[38;5;241m=\u001B[39mrequest)\n",
      "File \u001B[0;32m~/Princeton Dropbox/Jeremy Darrington/princeton/venvs/.datasci_venv/lib/python3.12/site-packages/urllib3/connectionpool.py:793\u001B[0m, in \u001B[0;36mHTTPConnectionPool.urlopen\u001B[0;34m(self, method, url, body, headers, retries, redirect, assert_same_host, timeout, pool_timeout, release_conn, chunked, body_pos, preload_content, decode_content, **response_kw)\u001B[0m\n\u001B[1;32m    790\u001B[0m response_conn \u001B[38;5;241m=\u001B[39m conn \u001B[38;5;28;01mif\u001B[39;00m \u001B[38;5;129;01mnot\u001B[39;00m release_conn \u001B[38;5;28;01melse\u001B[39;00m \u001B[38;5;28;01mNone\u001B[39;00m\n\u001B[1;32m    792\u001B[0m \u001B[38;5;66;03m# Make the request on the HTTPConnection object\u001B[39;00m\n\u001B[0;32m--> 793\u001B[0m response \u001B[38;5;241m=\u001B[39m \u001B[38;5;28;43mself\u001B[39;49m\u001B[38;5;241;43m.\u001B[39;49m\u001B[43m_make_request\u001B[49m\u001B[43m(\u001B[49m\n\u001B[1;32m    794\u001B[0m \u001B[43m    \u001B[49m\u001B[43mconn\u001B[49m\u001B[43m,\u001B[49m\n\u001B[1;32m    795\u001B[0m \u001B[43m    \u001B[49m\u001B[43mmethod\u001B[49m\u001B[43m,\u001B[49m\n\u001B[1;32m    796\u001B[0m \u001B[43m    \u001B[49m\u001B[43murl\u001B[49m\u001B[43m,\u001B[49m\n\u001B[1;32m    797\u001B[0m \u001B[43m    \u001B[49m\u001B[43mtimeout\u001B[49m\u001B[38;5;241;43m=\u001B[39;49m\u001B[43mtimeout_obj\u001B[49m\u001B[43m,\u001B[49m\n\u001B[1;32m    798\u001B[0m \u001B[43m    \u001B[49m\u001B[43mbody\u001B[49m\u001B[38;5;241;43m=\u001B[39;49m\u001B[43mbody\u001B[49m\u001B[43m,\u001B[49m\n\u001B[1;32m    799\u001B[0m \u001B[43m    \u001B[49m\u001B[43mheaders\u001B[49m\u001B[38;5;241;43m=\u001B[39;49m\u001B[43mheaders\u001B[49m\u001B[43m,\u001B[49m\n\u001B[1;32m    800\u001B[0m \u001B[43m    \u001B[49m\u001B[43mchunked\u001B[49m\u001B[38;5;241;43m=\u001B[39;49m\u001B[43mchunked\u001B[49m\u001B[43m,\u001B[49m\n\u001B[1;32m    801\u001B[0m \u001B[43m    \u001B[49m\u001B[43mretries\u001B[49m\u001B[38;5;241;43m=\u001B[39;49m\u001B[43mretries\u001B[49m\u001B[43m,\u001B[49m\n\u001B[1;32m    802\u001B[0m \u001B[43m    \u001B[49m\u001B[43mresponse_conn\u001B[49m\u001B[38;5;241;43m=\u001B[39;49m\u001B[43mresponse_conn\u001B[49m\u001B[43m,\u001B[49m\n\u001B[1;32m    803\u001B[0m \u001B[43m    \u001B[49m\u001B[43mpreload_content\u001B[49m\u001B[38;5;241;43m=\u001B[39;49m\u001B[43mpreload_content\u001B[49m\u001B[43m,\u001B[49m\n\u001B[1;32m    804\u001B[0m \u001B[43m    \u001B[49m\u001B[43mdecode_content\u001B[49m\u001B[38;5;241;43m=\u001B[39;49m\u001B[43mdecode_content\u001B[49m\u001B[43m,\u001B[49m\n\u001B[1;32m    805\u001B[0m \u001B[43m    \u001B[49m\u001B[38;5;241;43m*\u001B[39;49m\u001B[38;5;241;43m*\u001B[39;49m\u001B[43mresponse_kw\u001B[49m\u001B[43m,\u001B[49m\n\u001B[1;32m    806\u001B[0m \u001B[43m\u001B[49m\u001B[43m)\u001B[49m\n\u001B[1;32m    808\u001B[0m \u001B[38;5;66;03m# Everything went great!\u001B[39;00m\n\u001B[1;32m    809\u001B[0m clean_exit \u001B[38;5;241m=\u001B[39m \u001B[38;5;28;01mTrue\u001B[39;00m\n",
      "File \u001B[0;32m~/Princeton Dropbox/Jeremy Darrington/princeton/venvs/.datasci_venv/lib/python3.12/site-packages/urllib3/connectionpool.py:537\u001B[0m, in \u001B[0;36mHTTPConnectionPool._make_request\u001B[0;34m(self, conn, method, url, body, headers, retries, timeout, chunked, response_conn, preload_content, decode_content, enforce_content_length)\u001B[0m\n\u001B[1;32m    535\u001B[0m \u001B[38;5;66;03m# Receive the response from the server\u001B[39;00m\n\u001B[1;32m    536\u001B[0m \u001B[38;5;28;01mtry\u001B[39;00m:\n\u001B[0;32m--> 537\u001B[0m     response \u001B[38;5;241m=\u001B[39m \u001B[43mconn\u001B[49m\u001B[38;5;241;43m.\u001B[39;49m\u001B[43mgetresponse\u001B[49m\u001B[43m(\u001B[49m\u001B[43m)\u001B[49m\n\u001B[1;32m    538\u001B[0m \u001B[38;5;28;01mexcept\u001B[39;00m (BaseSSLError, \u001B[38;5;167;01mOSError\u001B[39;00m) \u001B[38;5;28;01mas\u001B[39;00m e:\n\u001B[1;32m    539\u001B[0m     \u001B[38;5;28mself\u001B[39m\u001B[38;5;241m.\u001B[39m_raise_timeout(err\u001B[38;5;241m=\u001B[39me, url\u001B[38;5;241m=\u001B[39murl, timeout_value\u001B[38;5;241m=\u001B[39mread_timeout)\n",
      "File \u001B[0;32m~/Princeton Dropbox/Jeremy Darrington/princeton/venvs/.datasci_venv/lib/python3.12/site-packages/urllib3/connection.py:466\u001B[0m, in \u001B[0;36mHTTPConnection.getresponse\u001B[0;34m(self)\u001B[0m\n\u001B[1;32m    463\u001B[0m \u001B[38;5;28;01mfrom\u001B[39;00m \u001B[38;5;21;01m.\u001B[39;00m\u001B[38;5;21;01mresponse\u001B[39;00m \u001B[38;5;28;01mimport\u001B[39;00m HTTPResponse\n\u001B[1;32m    465\u001B[0m \u001B[38;5;66;03m# Get the response from http.client.HTTPConnection\u001B[39;00m\n\u001B[0;32m--> 466\u001B[0m httplib_response \u001B[38;5;241m=\u001B[39m \u001B[38;5;28;43msuper\u001B[39;49m\u001B[43m(\u001B[49m\u001B[43m)\u001B[49m\u001B[38;5;241;43m.\u001B[39;49m\u001B[43mgetresponse\u001B[49m\u001B[43m(\u001B[49m\u001B[43m)\u001B[49m\n\u001B[1;32m    468\u001B[0m \u001B[38;5;28;01mtry\u001B[39;00m:\n\u001B[1;32m    469\u001B[0m     assert_header_parsing(httplib_response\u001B[38;5;241m.\u001B[39mmsg)\n",
      "File \u001B[0;32m/opt/homebrew/Cellar/python@3.12/3.12.4/Frameworks/Python.framework/Versions/3.12/lib/python3.12/http/client.py:1428\u001B[0m, in \u001B[0;36mHTTPConnection.getresponse\u001B[0;34m(self)\u001B[0m\n\u001B[1;32m   1426\u001B[0m \u001B[38;5;28;01mtry\u001B[39;00m:\n\u001B[1;32m   1427\u001B[0m     \u001B[38;5;28;01mtry\u001B[39;00m:\n\u001B[0;32m-> 1428\u001B[0m         \u001B[43mresponse\u001B[49m\u001B[38;5;241;43m.\u001B[39;49m\u001B[43mbegin\u001B[49m\u001B[43m(\u001B[49m\u001B[43m)\u001B[49m\n\u001B[1;32m   1429\u001B[0m     \u001B[38;5;28;01mexcept\u001B[39;00m \u001B[38;5;167;01mConnectionError\u001B[39;00m:\n\u001B[1;32m   1430\u001B[0m         \u001B[38;5;28mself\u001B[39m\u001B[38;5;241m.\u001B[39mclose()\n",
      "File \u001B[0;32m/opt/homebrew/Cellar/python@3.12/3.12.4/Frameworks/Python.framework/Versions/3.12/lib/python3.12/http/client.py:331\u001B[0m, in \u001B[0;36mHTTPResponse.begin\u001B[0;34m(self)\u001B[0m\n\u001B[1;32m    329\u001B[0m \u001B[38;5;66;03m# read until we get a non-100 response\u001B[39;00m\n\u001B[1;32m    330\u001B[0m \u001B[38;5;28;01mwhile\u001B[39;00m \u001B[38;5;28;01mTrue\u001B[39;00m:\n\u001B[0;32m--> 331\u001B[0m     version, status, reason \u001B[38;5;241m=\u001B[39m \u001B[38;5;28;43mself\u001B[39;49m\u001B[38;5;241;43m.\u001B[39;49m\u001B[43m_read_status\u001B[49m\u001B[43m(\u001B[49m\u001B[43m)\u001B[49m\n\u001B[1;32m    332\u001B[0m     \u001B[38;5;28;01mif\u001B[39;00m status \u001B[38;5;241m!=\u001B[39m CONTINUE:\n\u001B[1;32m    333\u001B[0m         \u001B[38;5;28;01mbreak\u001B[39;00m\n",
      "File \u001B[0;32m/opt/homebrew/Cellar/python@3.12/3.12.4/Frameworks/Python.framework/Versions/3.12/lib/python3.12/http/client.py:292\u001B[0m, in \u001B[0;36mHTTPResponse._read_status\u001B[0;34m(self)\u001B[0m\n\u001B[1;32m    291\u001B[0m \u001B[38;5;28;01mdef\u001B[39;00m \u001B[38;5;21m_read_status\u001B[39m(\u001B[38;5;28mself\u001B[39m):\n\u001B[0;32m--> 292\u001B[0m     line \u001B[38;5;241m=\u001B[39m \u001B[38;5;28mstr\u001B[39m(\u001B[38;5;28;43mself\u001B[39;49m\u001B[38;5;241;43m.\u001B[39;49m\u001B[43mfp\u001B[49m\u001B[38;5;241;43m.\u001B[39;49m\u001B[43mreadline\u001B[49m\u001B[43m(\u001B[49m\u001B[43m_MAXLINE\u001B[49m\u001B[43m \u001B[49m\u001B[38;5;241;43m+\u001B[39;49m\u001B[43m \u001B[49m\u001B[38;5;241;43m1\u001B[39;49m\u001B[43m)\u001B[49m, \u001B[38;5;124m\"\u001B[39m\u001B[38;5;124miso-8859-1\u001B[39m\u001B[38;5;124m\"\u001B[39m)\n\u001B[1;32m    293\u001B[0m     \u001B[38;5;28;01mif\u001B[39;00m \u001B[38;5;28mlen\u001B[39m(line) \u001B[38;5;241m>\u001B[39m _MAXLINE:\n\u001B[1;32m    294\u001B[0m         \u001B[38;5;28;01mraise\u001B[39;00m LineTooLong(\u001B[38;5;124m\"\u001B[39m\u001B[38;5;124mstatus line\u001B[39m\u001B[38;5;124m\"\u001B[39m)\n",
      "File \u001B[0;32m/opt/homebrew/Cellar/python@3.12/3.12.4/Frameworks/Python.framework/Versions/3.12/lib/python3.12/socket.py:708\u001B[0m, in \u001B[0;36mSocketIO.readinto\u001B[0;34m(self, b)\u001B[0m\n\u001B[1;32m    706\u001B[0m \u001B[38;5;28;01mwhile\u001B[39;00m \u001B[38;5;28;01mTrue\u001B[39;00m:\n\u001B[1;32m    707\u001B[0m     \u001B[38;5;28;01mtry\u001B[39;00m:\n\u001B[0;32m--> 708\u001B[0m         \u001B[38;5;28;01mreturn\u001B[39;00m \u001B[38;5;28;43mself\u001B[39;49m\u001B[38;5;241;43m.\u001B[39;49m\u001B[43m_sock\u001B[49m\u001B[38;5;241;43m.\u001B[39;49m\u001B[43mrecv_into\u001B[49m\u001B[43m(\u001B[49m\u001B[43mb\u001B[49m\u001B[43m)\u001B[49m\n\u001B[1;32m    709\u001B[0m     \u001B[38;5;28;01mexcept\u001B[39;00m timeout:\n\u001B[1;32m    710\u001B[0m         \u001B[38;5;28mself\u001B[39m\u001B[38;5;241m.\u001B[39m_timeout_occurred \u001B[38;5;241m=\u001B[39m \u001B[38;5;28;01mTrue\u001B[39;00m\n",
      "File \u001B[0;32m/opt/homebrew/Cellar/python@3.12/3.12.4/Frameworks/Python.framework/Versions/3.12/lib/python3.12/ssl.py:1252\u001B[0m, in \u001B[0;36mSSLSocket.recv_into\u001B[0;34m(self, buffer, nbytes, flags)\u001B[0m\n\u001B[1;32m   1248\u001B[0m     \u001B[38;5;28;01mif\u001B[39;00m flags \u001B[38;5;241m!=\u001B[39m \u001B[38;5;241m0\u001B[39m:\n\u001B[1;32m   1249\u001B[0m         \u001B[38;5;28;01mraise\u001B[39;00m \u001B[38;5;167;01mValueError\u001B[39;00m(\n\u001B[1;32m   1250\u001B[0m           \u001B[38;5;124m\"\u001B[39m\u001B[38;5;124mnon-zero flags not allowed in calls to recv_into() on \u001B[39m\u001B[38;5;132;01m%s\u001B[39;00m\u001B[38;5;124m\"\u001B[39m \u001B[38;5;241m%\u001B[39m\n\u001B[1;32m   1251\u001B[0m           \u001B[38;5;28mself\u001B[39m\u001B[38;5;241m.\u001B[39m\u001B[38;5;18m__class__\u001B[39m)\n\u001B[0;32m-> 1252\u001B[0m     \u001B[38;5;28;01mreturn\u001B[39;00m \u001B[38;5;28;43mself\u001B[39;49m\u001B[38;5;241;43m.\u001B[39;49m\u001B[43mread\u001B[49m\u001B[43m(\u001B[49m\u001B[43mnbytes\u001B[49m\u001B[43m,\u001B[49m\u001B[43m \u001B[49m\u001B[43mbuffer\u001B[49m\u001B[43m)\u001B[49m\n\u001B[1;32m   1253\u001B[0m \u001B[38;5;28;01melse\u001B[39;00m:\n\u001B[1;32m   1254\u001B[0m     \u001B[38;5;28;01mreturn\u001B[39;00m \u001B[38;5;28msuper\u001B[39m()\u001B[38;5;241m.\u001B[39mrecv_into(buffer, nbytes, flags)\n",
      "File \u001B[0;32m/opt/homebrew/Cellar/python@3.12/3.12.4/Frameworks/Python.framework/Versions/3.12/lib/python3.12/ssl.py:1104\u001B[0m, in \u001B[0;36mSSLSocket.read\u001B[0;34m(self, len, buffer)\u001B[0m\n\u001B[1;32m   1102\u001B[0m \u001B[38;5;28;01mtry\u001B[39;00m:\n\u001B[1;32m   1103\u001B[0m     \u001B[38;5;28;01mif\u001B[39;00m buffer \u001B[38;5;129;01mis\u001B[39;00m \u001B[38;5;129;01mnot\u001B[39;00m \u001B[38;5;28;01mNone\u001B[39;00m:\n\u001B[0;32m-> 1104\u001B[0m         \u001B[38;5;28;01mreturn\u001B[39;00m \u001B[38;5;28;43mself\u001B[39;49m\u001B[38;5;241;43m.\u001B[39;49m\u001B[43m_sslobj\u001B[49m\u001B[38;5;241;43m.\u001B[39;49m\u001B[43mread\u001B[49m\u001B[43m(\u001B[49m\u001B[38;5;28;43mlen\u001B[39;49m\u001B[43m,\u001B[49m\u001B[43m \u001B[49m\u001B[43mbuffer\u001B[49m\u001B[43m)\u001B[49m\n\u001B[1;32m   1105\u001B[0m     \u001B[38;5;28;01melse\u001B[39;00m:\n\u001B[1;32m   1106\u001B[0m         \u001B[38;5;28;01mreturn\u001B[39;00m \u001B[38;5;28mself\u001B[39m\u001B[38;5;241m.\u001B[39m_sslobj\u001B[38;5;241m.\u001B[39mread(\u001B[38;5;28mlen\u001B[39m)\n",
      "\u001B[0;31mKeyboardInterrupt\u001B[0m: "
     ]
    }
   ],
   "execution_count": 30
  },
  {
   "metadata": {
    "ExecuteTime": {
     "end_time": "2024-08-08T15:58:23.216447Z",
     "start_time": "2024-08-08T15:58:23.213067Z"
    }
   },
   "cell_type": "code",
   "source": [
    "# get the headers to check on your rate limits. X-RateLimit-Limit is for 10 second/1 minute/1 hour/1 day thresholds\n",
    "r.headers"
   ],
   "id": "da1c869b8e3ca40c",
   "outputs": [
    {
     "data": {
      "text/plain": [
       "{'Date': 'Thu, 08 Aug 2024 15:57:24 GMT', 'Content-Type': 'application/json; odata.metadata=minimal', 'Content-Length': '8383', 'Connection': 'keep-alive', 'Vary': 'Origin, Access-Control-Request-Method, Access-Control-Request-Headers, Accept-Encoding', 'Cache-Control': 'no-cache', 'Pragma': 'no-cache', 'Expires': '-1', 'Server': 'auth_api.lexisnexis.com  3000', 'X-RateLimit-Limit': '60/125/1500/12000', 'X-RateLimit-Remaining': '54/118/1487/11987', 'X-RateLimit-Reset': '1723132648/1723132683/1723135253/1723218053', 'OData-Version': '4.0', 'X-AspNet-Version': '4.0.30319', 'X-Powered-By': 'ASP.NET', 'X-Content-Type-Options': 'nosniff', 'X-XSS-Protection': '1; mode=block', 'X-Frame-Options': 'DENY', 'X-RE-Ref': '1 1723131652968472', 'P3P': 'CP=\"IDC DSP LAW ADM DEV TAI PSA PSD IVA IVD CON HIS TEL OUR DEL SAM OTR IND OTC\"'}"
      ]
     },
     "execution_count": 31,
     "metadata": {},
     "output_type": "execute_result"
    }
   ],
   "execution_count": 31
  },
  {
   "metadata": {},
   "cell_type": "code",
   "outputs": [],
   "execution_count": null,
   "source": "",
   "id": "273c3301d5b6d3cc"
  }
 ],
 "metadata": {
  "kernelspec": {
   "display_name": "Python 3",
   "language": "python",
   "name": "python3"
  },
  "language_info": {
   "codemirror_mode": {
    "name": "ipython",
    "version": 2
   },
   "file_extension": ".py",
   "mimetype": "text/x-python",
   "name": "python",
   "nbconvert_exporter": "python",
   "pygments_lexer": "ipython2",
   "version": "2.7.6"
  }
 },
 "nbformat": 4,
 "nbformat_minor": 5
}
