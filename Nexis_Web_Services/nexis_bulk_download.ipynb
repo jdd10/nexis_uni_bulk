{
 "cells": [
  {
   "metadata": {
    "ExecuteTime": {
     "end_time": "2024-09-03T17:03:44.633593Z",
     "start_time": "2024-09-03T17:03:44.598633Z"
    }
   },
   "cell_type": "code",
   "source": [
    "# script to download documents from Nexis Uni API in bulk\n",
    "# questions? Jeremy Darrington, jdarring@princeton.edu\n",
    "from oauthlib.oauth2 import BackendApplicationClient\n",
    "from requests_oauthlib import OAuth2Session\n",
    "from requests.auth import HTTPBasicAuth\n",
    "import os\n",
    "import time"
   ],
   "id": "f509b5d77fba4142",
   "outputs": [],
   "execution_count": 1
  },
  {
   "metadata": {
    "ExecuteTime": {
     "end_time": "2024-09-03T17:05:23.578407Z",
     "start_time": "2024-09-03T17:05:23.575858Z"
    }
   },
   "cell_type": "code",
   "source": [
    "# be sure to set up the client_id and client_secret as environment variables in your shell\n",
    "client_id = os.getenv('CLIENT_ID')\n",
    "client_secret = os.getenv('CLIENT_SECRET')\n",
    "scope = 'http://oauth.lexisnexis.com/all'\n",
    "grant_type = 'client_credentials'\n",
    "content_type = 'application/x-www-form-urlencoded'"
   ],
   "id": "ea20b6923b0a1f4a",
   "outputs": [],
   "execution_count": 2
  },
  {
   "metadata": {
    "ExecuteTime": {
     "end_time": "2024-09-03T17:05:25.706898Z",
     "start_time": "2024-09-03T17:05:25.302627Z"
    }
   },
   "cell_type": "code",
   "source": [
    "# for details on authentication, see the docs at https://www.lexisnexis.com/lextalk/developers/ln-webservice-api/p/apidocs.aspx#introduction, section \"Service to Service ID\"\n",
    "# also see https://requests-oauthlib.readthedocs.io/en/latest/oauth2_workflow.html#backend-application-flow \n",
    "auth = HTTPBasicAuth(client_id, client_secret)\n",
    "\n",
    "client = BackendApplicationClient(client_id=client_id, scope=scope, grant_type=grant_type, token_type='Bearer', client_secret=client_secret, content_type=content_type)\n",
    "\n",
    "oauth = OAuth2Session(client=client)\n",
    "\n",
    "token = oauth.fetch_token(token_url='https://auth-api.lexisnexis.com/oauth/v2/token', auth=auth)"
   ],
   "id": "34cc040c8f2ce18d",
   "outputs": [],
   "execution_count": 3
  },
  {
   "metadata": {
    "ExecuteTime": {
     "end_time": "2024-09-03T17:05:27.840360Z",
     "start_time": "2024-09-03T17:05:27.835611Z"
    }
   },
   "cell_type": "code",
   "source": [
    "# get the token\n",
    "token"
   ],
   "id": "d003b6b5b3547c89",
   "outputs": [
    {
     "data": {
      "text/plain": [
       "{'access_token': 'NjVkZjk0NTktMDJhOS00NTAyLWJjYTAtOTI1ZDg2MGE1ZWRl',\n",
       " 'token_type': 'Bearer',\n",
       " 'expires_in': 86400,\n",
       " 'expires_at': 1725469525.705436}"
      ]
     },
     "execution_count": 4,
     "metadata": {},
     "output_type": "execute_result"
    }
   ],
   "execution_count": 4
  },
  {
   "metadata": {
    "ExecuteTime": {
     "end_time": "2024-09-03T17:18:09.106063Z",
     "start_time": "2024-09-03T17:18:09.103247Z"
    }
   },
   "cell_type": "code",
   "source": [
    "# set up a request to the BatchNews endpoint; should only be used when returning > 500 documents \n",
    "base_url = 'https://services-api.lexisnexis.com/v1/'\n",
    "search_endpoint = \"BatchNews\"\n",
    "# Documentation says you can add these search fields: agg-copyright, body, byline, cite, company, headline, hlead, length, publication, publication-type, pub-copyright, section, show, term, ticker, title, jurisinfo, load-date, xce-date, subject, industry, geography, document-type, country\n",
    "search_string = \"biden w/5 (poll* OR survey) and publication('The Associated Press')\"\n",
    "filter = \"Date ge 2024-01-01\" # comparison operators: gt, ge, lt, le\n",
    "results_per_page = 50 # max is 50 for BatchNews\n",
    "select = \"ResultId,Title,Date,Source\"\n",
    "url_params = {'$search': search_string, '$filter': filter, '$top': results_per_page, '$select': select}"
   ],
   "id": "9129ec5cff14e4c1",
   "outputs": [],
   "execution_count": 28
  },
  {
   "metadata": {
    "ExecuteTime": {
     "end_time": "2024-09-03T17:18:12.741710Z",
     "start_time": "2024-09-03T17:18:09.868860Z"
    }
   },
   "cell_type": "code",
   "source": [
    "# you need to pass the token in the headers by calling 'get' on the oauth object\n",
    "r = oauth.get(base_url+search_endpoint, params=url_params, timeout=10)"
   ],
   "id": "ff875cc2b2ec047f",
   "outputs": [],
   "execution_count": 29
  },
  {
   "metadata": {
    "ExecuteTime": {
     "end_time": "2024-09-03T17:18:13.844168Z",
     "start_time": "2024-09-03T17:18:13.835965Z"
    }
   },
   "cell_type": "code",
   "source": [
    "# see the results\n",
    "r.json()"
   ],
   "id": "5e54accf3bc687da",
   "outputs": [
    {
     "data": {
      "text/plain": [
       "{'@odata.context': 'https://services-api.lexisnexis.com/v1/$metadata#BatchNews(ResultId,Title,Date,Source)',\n",
       " '@odata.count': 146,\n",
       " 'value': [{'ResultId': 'urn:contentItem:6CT6-CTR1-JC5B-G0G4-00000-00',\n",
       "   'Title': \"What polling shows about Americans' views of Robert F. Kennedy Jr.\",\n",
       "   'Date': '2024-08-23T00:00:00Z',\n",
       "   'Source': {'Id': '', 'Name': 'The Associated Press', 'ContentType': ''}},\n",
       "  {'ResultId': 'urn:contentItem:6CH3-PJR1-JC5B-G3Y0-00000-00',\n",
       "   'Title': 'Takeaways from AP-NORC poll showing majority of Democrats want Biden to drop out',\n",
       "   'Date': '2024-07-17T00:00:00Z',\n",
       "   'Source': {'Id': '', 'Name': 'The Associated Press', 'ContentType': ''}},\n",
       "  {'ResultId': 'urn:contentItem:6CSS-PB31-JC5B-G2V7-00000-00',\n",
       "   'Title': \"What polling shows about Americans' views of Robert F. Kennedy Jr.\",\n",
       "   'Date': '2024-08-22T00:00:00Z',\n",
       "   'Source': {'Id': '', 'Name': 'The Associated Press', 'ContentType': ''}},\n",
       "  {'ResultId': 'urn:contentItem:6CKD-9N21-JC5B-G1NH-00000-00',\n",
       "   'Title': 'Joe Biden is out and Kamala Harris is in. Disenchanted voters are taking a new look at their choices',\n",
       "   'Date': '2024-07-28T00:00:00Z',\n",
       "   'Source': {'Id': '', 'Name': 'The Associated Press', 'ContentType': ''}},\n",
       "  {'ResultId': 'urn:contentItem:6C50-W0V1-JC5B-G3MG-00000-00',\n",
       "   'Title': \"'War on coal' rhetoric heats up as Biden seeks to curb pollution with election looming\",\n",
       "   'Date': '2024-05-31T00:00:00Z',\n",
       "   'Source': {'Id': '', 'Name': 'The Associated Press', 'ContentType': ''}},\n",
       "  {'ResultId': 'urn:contentItem:6CH3-6RR1-JC5B-G3JW-00000-00',\n",
       "   'Title': 'Nearly two-thirds of Democrats want Biden to withdraw, new AP-NORC poll finds',\n",
       "   'Date': '2024-07-17T00:00:00Z',\n",
       "   'Source': {'Id': '', 'Name': 'The Associated Press', 'ContentType': ''}},\n",
       "  {'ResultId': 'urn:contentItem:6CM1-0SF1-DYMD-64K7-00000-00',\n",
       "   'Title': 'Harris gives Democrats a jolt in a critical part of swing state Wisconsin',\n",
       "   'Date': '2024-07-31T00:00:00Z',\n",
       "   'Source': {'Id': '', 'Name': 'The Associated Press', 'ContentType': ''}},\n",
       "  {'ResultId': 'urn:contentItem:6CD3-W6R1-JC5B-G0DX-00000-00',\n",
       "   'Title': 'Biden vows to keep running as signs point to rapidly eroding support for him on Capitol Hill',\n",
       "   'Date': '2024-07-03T00:00:00Z',\n",
       "   'Source': {'Id': '', 'Name': 'The Associated Press', 'ContentType': ''}},\n",
       "  {'ResultId': 'urn:contentItem:6CD7-5PH1-JC5B-G180-00000-00',\n",
       "   'Title': 'Biden vows to keep running as signs point to rapidly eroding support for him on Capitol Hill',\n",
       "   'Date': '2024-07-04T00:00:00Z',\n",
       "   'Source': {'Id': '', 'Name': 'The Associated Press', 'ContentType': ''}},\n",
       "  {'ResultId': 'urn:contentItem:6C7D-8681-DYMD-61FS-00000-00',\n",
       "   'Title': 'More global confidence in Biden than Trump even as views of US democracy decline, poll finds',\n",
       "   'Date': '2024-06-11T00:00:00Z',\n",
       "   'Source': {'Id': '', 'Name': 'The Associated Press', 'ContentType': ''}},\n",
       "  {'ResultId': 'urn:contentItem:6CM1-0SF1-DYMD-64K8-00000-00',\n",
       "   'Title': 'About 8 in 10 Democrats are satisfied with Harris in stark shift after Biden drops out: AP-NORC poll',\n",
       "   'Date': '2024-07-31T00:00:00Z',\n",
       "   'Source': {'Id': '', 'Name': 'The Associated Press', 'ContentType': ''}},\n",
       "  {'ResultId': 'urn:contentItem:6BWB-N131-JC5B-G2D1-00000-00',\n",
       "   'Title': 'Strict new EPA rules would force coal-fired power plants to capture emissions or shut down',\n",
       "   'Date': '2024-04-25T00:00:00Z',\n",
       "   'Source': {'Id': '', 'Name': 'The Associated Press', 'ContentType': ''}},\n",
       "  {'ResultId': 'urn:contentItem:6C4N-3BB1-DYMD-63MC-00000-00',\n",
       "   'Title': \"Robert F. Kennedy Jr. files complaint over rules for CNN 's presidential debate next month\",\n",
       "   'Date': '2024-05-29T00:00:00Z',\n",
       "   'Source': {'Id': '', 'Name': 'The Associated Press', 'ContentType': ''}},\n",
       "  {'ResultId': 'urn:contentItem:6C8V-7Y11-DYMD-62W9-00000-00',\n",
       "   'Title': 'Majority of Americans favor forgiving medical debt, AP-NORC poll finds',\n",
       "   'Date': '2024-06-18T00:00:00Z',\n",
       "   'Source': {'Id': '', 'Name': 'The Associated Press', 'ContentType': ''}},\n",
       "  {'ResultId': 'urn:contentItem:6CW8-11M1-JC5B-G3WR-00000-00',\n",
       "   'Title': 'The presidential campaigns brace for an intense sprint to Election Day',\n",
       "   'Date': '2024-09-03T00:00:00Z',\n",
       "   'Source': {'Id': '', 'Name': 'The Associated Press', 'ContentType': ''}},\n",
       "  {'ResultId': 'urn:contentItem:6BJ7-B791-DYMD-61F3-00000-00',\n",
       "   'Title': \"Biden's fraying coalition and Trump's struggle with moderates: AP data shows nominees' challenges\",\n",
       "   'Date': '2024-03-13T00:00:00Z',\n",
       "   'Source': {'Id': '', 'Name': 'The Associated Press', 'ContentType': ''}},\n",
       "  {'ResultId': 'urn:contentItem:6CCC-FFW1-DYMD-60V8-00000-00',\n",
       "   'Title': \"A private call of top Democrats fuels more insider anger about Biden's debate performance\",\n",
       "   'Date': '2024-06-30T00:00:00Z',\n",
       "   'Source': {'Id': '', 'Name': 'The Associated Press', 'ContentType': ''}},\n",
       "  {'ResultId': 'urn:contentItem:6CK5-48S1-DYMD-628C-00000-00',\n",
       "   'Title': \"'Gen Z feels the Kamalove': Youth-led progressive groups hope Harris will energize young voters\",\n",
       "   'Date': '2024-07-27T00:00:00Z',\n",
       "   'Source': {'Id': '', 'Name': 'The Associated Press', 'ContentType': ''}},\n",
       "  {'ResultId': 'urn:contentItem:6BSS-6171-JC5B-G34X-00000-00',\n",
       "   'Title': \"Biden wins Wyoming 's caucuses, with Democrats in Alaska still to get their say in the nomination\",\n",
       "   'Date': '2024-04-13T00:00:00Z',\n",
       "   'Source': {'Id': '', 'Name': 'The Associated Press', 'ContentType': ''}},\n",
       "  {'ResultId': 'urn:contentItem:6BN4-NT71-JC5B-G053-00000-00',\n",
       "   'Title': 'Trump evokes more anger and fear from Democrats than Biden does from Republicans, AP-NORC poll shows',\n",
       "   'Date': '2024-03-27T00:00:00Z',\n",
       "   'Source': {'Id': '', 'Name': 'The Associated Press', 'ContentType': ''}},\n",
       "  {'ResultId': 'urn:contentItem:6BSY-P9B1-JC5B-G4H0-00000-00',\n",
       "   'Title': 'Biden wins more delegates in Wyoming and Alaska as he heads toward Democratic nomination',\n",
       "   'Date': '2024-04-14T00:00:00Z',\n",
       "   'Source': {'Id': '', 'Name': 'The Associated Press', 'ContentType': ''}},\n",
       "  {'ResultId': 'urn:contentItem:6CKV-V9Y1-DYMD-62CC-00000-00',\n",
       "   'Title': 'Biden and Lula urge Venezuelan authorities to release detailed presidential election voting data',\n",
       "   'Date': '2024-07-30T00:00:00Z',\n",
       "   'Source': {'Id': '', 'Name': 'The Associated Press', 'ContentType': ''}},\n",
       "  {'ResultId': 'urn:contentItem:6CJ5-F1H1-JC5B-G0XC-00000-00',\n",
       "   'Title': 'Black voters feel excitement, hope and a lot of worry as Harris takes center stage in campaign',\n",
       "   'Date': '2024-07-22T00:00:00Z',\n",
       "   'Source': {'Id': '', 'Name': 'The Associated Press', 'ContentType': ''}},\n",
       "  {'ResultId': 'urn:contentItem:6BSK-MT61-JC5B-G1GS-00000-00',\n",
       "   'Title': 'Biden heads to his hometown of Scranton , Pennsylvania , to talk about taxes',\n",
       "   'Date': '2024-04-12T00:00:00Z',\n",
       "   'Source': {'Id': '', 'Name': 'The Associated Press', 'ContentType': ''}},\n",
       "  {'ResultId': 'urn:contentItem:6BXP-KSX1-DYMD-641W-00000-00',\n",
       "   'Title': 'Democrats advance election bill in Pennsylvania long sought by counties to process ballots faster',\n",
       "   'Date': '2024-05-01T00:00:00Z',\n",
       "   'Source': {'Id': '', 'Name': 'The Associated Press', 'ContentType': ''}},\n",
       "  {'ResultId': 'urn:contentItem:6C62-MNR1-JC5B-G03F-00000-00',\n",
       "   'Title': 'A year of elections in democracies around the world is revealing deep dissatisfaction among voters',\n",
       "   'Date': '2024-06-05T00:00:00Z',\n",
       "   'Source': {'Id': '', 'Name': 'The Associated Press', 'ContentType': ''}},\n",
       "  {'ResultId': 'urn:contentItem:6CR6-JKB1-JC5B-G2GM-00000-00',\n",
       "   'Title': 'Democrats trust Harris slightly more than Biden on climate change, an AP-NORC poll finds',\n",
       "   'Date': '2024-08-15T00:00:00Z',\n",
       "   'Source': {'Id': '', 'Name': 'The Associated Press', 'ContentType': ''}},\n",
       "  {'ResultId': 'urn:contentItem:6CJ9-MSB1-JC5B-G213-00000-00',\n",
       "   'Title': 'Harris steps into the limelight. And the coconut trees and memes have followed',\n",
       "   'Date': '2024-07-23T00:00:00Z',\n",
       "   'Source': {'Id': '', 'Name': 'The Associated Press', 'ContentType': ''}},\n",
       "  {'ResultId': 'urn:contentItem:6C6K-RCR1-JC5B-G0J8-00000-00',\n",
       "   'Title': \"Kennedy says he has secured ballot access in enough states to win. That's not yet true\",\n",
       "   'Date': '2024-06-07T00:00:00Z',\n",
       "   'Source': {'Id': '', 'Name': 'The Associated Press', 'ContentType': ''}},\n",
       "  {'ResultId': 'urn:contentItem:6CJ6-26R1-DYMD-62Y9-00000-00',\n",
       "   'Title': 'Harris steps into the limelight. And the coconut trees and memes have followed',\n",
       "   'Date': '2024-07-22T00:00:00Z',\n",
       "   'Source': {'Id': '', 'Name': 'The Associated Press', 'ContentType': ''}},\n",
       "  {'ResultId': 'urn:contentItem:6CJ8-M4S1-DYMD-637F-00000-00',\n",
       "   'Title': 'Black voters feel excitement, hope and a lot of worry as Harris takes center stage in campaign',\n",
       "   'Date': '2024-07-23T00:00:00Z',\n",
       "   'Source': {'Id': '', 'Name': 'The Associated Press', 'ContentType': ''}},\n",
       "  {'ResultId': 'urn:contentItem:6CJ2-MX01-DYMD-61FY-00000-00',\n",
       "   'Title': \"Trump 's campaign quickly pivots to Harris after Biden announces decision to leave the race\",\n",
       "   'Date': '2024-07-22T00:00:00Z',\n",
       "   'Source': {'Id': '', 'Name': 'The Associated Press', 'ContentType': ''}},\n",
       "  {'ResultId': 'urn:contentItem:6C62-NPB1-JC5B-G05H-00000-00',\n",
       "   'Title': \"Will Biden's new border measures be enough to change voters' minds?\",\n",
       "   'Date': '2024-06-05T00:00:00Z',\n",
       "   'Source': {'Id': '', 'Name': 'The Associated Press', 'ContentType': ''}},\n",
       "  {'ResultId': 'urn:contentItem:6B60-VWS1-DYMD-61TS-00000-00',\n",
       "   'Title': 'Yellen visits Midwest to showcase improving consumer sentiment, take aim at Trump tax cuts',\n",
       "   'Date': '2024-01-25T00:00:00Z',\n",
       "   'Source': {'Id': '', 'Name': 'The Associated Press', 'ContentType': ''}},\n",
       "  {'ResultId': 'urn:contentItem:6CH1-D701-JC5B-G31N-00000-00',\n",
       "   'Title': 'AP News in Brief at 6:04 p.m. EDT',\n",
       "   'Date': '2024-07-17T00:00:00Z',\n",
       "   'Source': {'Id': '', 'Name': 'The Associated Press', 'ContentType': ''}},\n",
       "  {'ResultId': 'urn:contentItem:6CH6-S6C1-DYMD-60B8-00000-00',\n",
       "   'Title': 'Prominent Democrat Schiff calls for Biden to withdraw, but party aims to nominate before convention',\n",
       "   'Date': '2024-07-18T00:00:00Z',\n",
       "   'Source': {'Id': '', 'Name': 'The Associated Press', 'ContentType': ''}},\n",
       "  {'ResultId': 'urn:contentItem:6BG7-H0T1-JC5B-G0BD-00000-00',\n",
       "   'Title': '6 in 10 US adults doubt mental capability of Biden and Trump, AP-NORC poll finds',\n",
       "   'Date': '2024-03-04T00:00:00Z',\n",
       "   'Source': {'Id': '', 'Name': 'The Associated Press', 'ContentType': ''}},\n",
       "  {'ResultId': 'urn:contentItem:6CH3-4F31-DYMD-64FN-00000-00',\n",
       "   'Title': 'Prominent Democrat Schiff calls for Biden to withdraw: Democrats aim to nominate before convention',\n",
       "   'Date': '2024-07-17T00:00:00Z',\n",
       "   'Source': {'Id': '', 'Name': 'The Associated Press', 'ContentType': ''}},\n",
       "  {'ResultId': 'urn:contentItem:6CDW-M331-DYMD-60PF-00000-00',\n",
       "   'Title': 'To a defiant Biden, the 2024 race is up to the voters, not to Democrats on Capitol Hill',\n",
       "   'Date': '2024-07-07T00:00:00Z',\n",
       "   'Source': {'Id': '', 'Name': 'The Associated Press', 'ContentType': ''}},\n",
       "  {'ResultId': 'urn:contentItem:6BWR-SBD1-JC5B-G481-00000-00',\n",
       "   'Title': 'Trump promised big plans to flip Black and Latino voters. Many Republicans are waiting to see them',\n",
       "   'Date': '2024-04-27T00:00:00Z',\n",
       "   'Source': {'Id': '', 'Name': 'The Associated Press', 'ContentType': ''}},\n",
       "  {'ResultId': 'urn:contentItem:6CDN-F5D1-JC5B-G4R3-00000-00',\n",
       "   'Title': \"Biden faced a low bar in his first post-debate interview. It's not certain he cleared it\",\n",
       "   'Date': '2024-07-06T00:00:00Z',\n",
       "   'Source': {'Id': '', 'Name': 'The Associated Press', 'ContentType': ''}},\n",
       "  {'ResultId': 'urn:contentItem:6CFX-WXX1-JC5B-G04H-00000-00',\n",
       "   'Title': \"Biden says during news conference he's going to 'complete the job' despite calls to bow out\",\n",
       "   'Date': '2024-07-12T00:00:00Z',\n",
       "   'Source': {'Id': '', 'Name': 'The Associated Press', 'ContentType': ''}},\n",
       "  {'ResultId': 'urn:contentItem:6CFR-K4P1-JC5B-G3M7-00000-00',\n",
       "   'Title': 'Biden says pressure on him is driven by elites. Voters paint a more complicated picture',\n",
       "   'Date': '2024-07-11T00:00:00Z',\n",
       "   'Source': {'Id': '', 'Name': 'The Associated Press', 'ContentType': ''}},\n",
       "  {'ResultId': 'urn:contentItem:6CD4-JRN1-JC5B-G0YV-00000-00',\n",
       "   'Title': \"Clyburn's discussion of a 'mini-primary' fuels more talk of whether Biden should end his campaign\",\n",
       "   'Date': '2024-07-03T00:00:00Z',\n",
       "   'Source': {'Id': '', 'Name': 'The Associated Press', 'ContentType': ''}},\n",
       "  {'ResultId': 'urn:contentItem:6B7D-F5R1-DYMD-650B-00000-00',\n",
       "   'Title': 'AP-NORC poll finds an uptick in positive ratings of the US economy, but it’s not boosting Biden',\n",
       "   'Date': '2024-02-01T00:00:00Z',\n",
       "   'Source': {'Id': '', 'Name': 'The Associated Press', 'ContentType': ''}},\n",
       "  {'ResultId': 'urn:contentItem:6CDR-M161-JC5B-G029-00000-00',\n",
       "   'Title': 'To a defiant Biden, the 2024 race is up to the voters, not to Democrats on Capitol Hill',\n",
       "   'Date': '2024-07-06T00:00:00Z',\n",
       "   'Source': {'Id': '', 'Name': 'The Associated Press', 'ContentType': ''}},\n",
       "  {'ResultId': 'urn:contentItem:6BYW-69K1-JC5B-G21C-00000-00',\n",
       "   'Title': 'Denial and uncertainty are looming over a Biden-Trump rematch 6 months out from Election Day',\n",
       "   'Date': '2024-05-07T00:00:00Z',\n",
       "   'Source': {'Id': '', 'Name': 'The Associated Press', 'ContentType': ''}},\n",
       "  {'ResultId': 'urn:contentItem:6BSJ-6M51-JC5B-G12B-00000-00',\n",
       "   'Title': 'A near-total ban on abortion has supercharged the political dynamics of Arizona , a key swing state',\n",
       "   'Date': '2024-04-12T00:00:00Z',\n",
       "   'Source': {'Id': '', 'Name': 'The Associated Press', 'ContentType': ''}},\n",
       "  {'ResultId': 'urn:contentItem:6CH6-WMP1-DYMD-60C6-00000-00',\n",
       "   'Title': 'AP News in Brief at 11:04 p.m. EDT',\n",
       "   'Date': '2024-07-18T00:00:00Z',\n",
       "   'Source': {'Id': '', 'Name': 'The Associated Press', 'ContentType': ''}},\n",
       "  {'ResultId': 'urn:contentItem:6C65-00D1-JC5B-G19D-00000-00',\n",
       "   'Title': \"Trump's conviction prompts election-year debate among Democrats: How much to focus on the verdict?\",\n",
       "   'Date': '2024-06-05T00:00:00Z',\n",
       "   'Source': {'Id': '', 'Name': 'The Associated Press', 'ContentType': ''}}],\n",
       " '@odata.nextLink': \"https://services-api.lexisnexis.com/v1/BatchNews?$search=biden%20w/5%20(poll*%20OR%20survey)%20and%20publication('The%20Associated%20Press')&$filter=Date%20ge%202024-01-01&$top=50&$select=ResultId,Title,Date,Source&$expand=Source&$skip=50\"}"
      ]
     },
     "execution_count": 30,
     "metadata": {},
     "output_type": "execute_result"
    }
   ],
   "execution_count": 30
  },
  {
   "metadata": {
    "ExecuteTime": {
     "end_time": "2024-09-03T17:19:11.516237Z",
     "start_time": "2024-09-03T17:19:11.514006Z"
    }
   },
   "cell_type": "code",
   "source": [
    "# get the document IDs\n",
    "doc_ids = [doc['ResultId'] for doc in r.json()['value']]"
   ],
   "id": "10f842a36d097038",
   "outputs": [],
   "execution_count": 31
  },
  {
   "metadata": {
    "ExecuteTime": {
     "end_time": "2024-09-03T17:19:24.212767Z",
     "start_time": "2024-09-03T17:19:23.752480Z"
    }
   },
   "cell_type": "code",
   "source": [
    "# iterate through the pages of results and add the doc_ids to the list. Because of rate limits, you may need to add a sleep statement of 2-3 seconds, depending on the number of results\n",
    "# \n",
    "counter = 0\n",
    "pages = 5  # number of pages to fetch\n",
    "\n",
    "while '@odata.nextLink' in r.json().keys() and counter < pages:\n",
    "    r = oauth.get(r.json()['@odata.nextLink'])\n",
    "    doc_ids.extend([doc['ResultId'] for doc in r.json()['value']])\n",
    "    counter += 1  # Increment the counter while '@odata.nextLink' in r.json().keys():\n",
    "    #time.sleep(2)"
   ],
   "id": "f45d43b8cb552985",
   "outputs": [],
   "execution_count": 32
  },
  {
   "metadata": {
    "ExecuteTime": {
     "end_time": "2024-09-03T17:19:55.844626Z",
     "start_time": "2024-09-03T17:19:34.207674Z"
    }
   },
   "cell_type": "code",
   "source": [
    "# iterate over the doc_ids and fetch the documents and save them to a file. This will take a while, depending on the number of documents\n",
    "counter = 1\n",
    "for doc_id in doc_ids[:10]:\n",
    "    docs_url = f\"{base_url}Documents(DocumentId='{doc_id}',DocumentIdType='PGuid')/$value\"\n",
    "    doc = oauth.get(docs_url)\n",
    "    print(f\"Fetching document {counter}: {doc_id}\")\n",
    "    with open(f'{doc_id}.xml', 'w') as f:\n",
    "        f.write(doc.text)\n",
    "    counter += 1\n"
   ],
   "id": "7e343e8a172e18b6",
   "outputs": [
    {
     "name": "stdout",
     "output_type": "stream",
     "text": [
      "Fetching document 1: urn:contentItem:6CT6-CTR1-JC5B-G0G4-00000-00\n",
      "Fetching document 2: urn:contentItem:6CH3-PJR1-JC5B-G3Y0-00000-00\n",
      "Fetching document 3: urn:contentItem:6CSS-PB31-JC5B-G2V7-00000-00\n",
      "Fetching document 4: urn:contentItem:6CKD-9N21-JC5B-G1NH-00000-00\n",
      "Fetching document 5: urn:contentItem:6C50-W0V1-JC5B-G3MG-00000-00\n",
      "Fetching document 6: urn:contentItem:6CH3-6RR1-JC5B-G3JW-00000-00\n",
      "Fetching document 7: urn:contentItem:6CM1-0SF1-DYMD-64K7-00000-00\n",
      "Fetching document 8: urn:contentItem:6CD3-W6R1-JC5B-G0DX-00000-00\n",
      "Fetching document 9: urn:contentItem:6CD7-5PH1-JC5B-G180-00000-00\n",
      "Fetching document 10: urn:contentItem:6C7D-8681-DYMD-61FS-00000-00\n"
     ]
    }
   ],
   "execution_count": 33
  },
  {
   "metadata": {
    "ExecuteTime": {
     "end_time": "2024-09-03T17:19:58.514979Z",
     "start_time": "2024-09-03T17:19:58.511431Z"
    }
   },
   "cell_type": "code",
   "source": [
    "# get the headers to check on your rate limits. X-RateLimit-Limit is for 10 second/1 minute/1 hour/1 day thresholds\n",
    "r.headers"
   ],
   "id": "da1c869b8e3ca40c",
   "outputs": [
    {
     "data": {
      "text/plain": [
       "{'Date': 'Tue, 03 Sep 2024 17:19:24 GMT', 'Content-Type': 'application/json; odata.metadata=minimal', 'Content-Length': '12595', 'Connection': 'keep-alive', 'Vary': 'Origin, Access-Control-Request-Method, Access-Control-Request-Headers, Accept-Encoding', 'Cache-Control': 'no-cache', 'Pragma': 'no-cache', 'Expires': '-1', 'Server': 'auth_api.lexisnexis.com  3000', 'X-RateLimit-Limit': '60/125/1500/12000', 'X-RateLimit-Remaining': '58/123/1490/11990', 'X-RateLimit-Reset': '1725383974/1725384024/1725386820/1725469620', 'OData-Version': '4.0', 'X-AspNet-Version': '4.0.30319', 'X-Powered-By': 'ASP.NET', 'X-Content-Type-Options': 'nosniff', 'X-XSS-Protection': '1; mode=block', 'X-Frame-Options': 'DENY', 'X-RE-Ref': '1 1725383316767301', 'P3P': 'CP=\"IDC DSP LAW ADM DEV TAI PSA PSD IVA IVD CON HIS TEL OUR DEL SAM OTR IND OTC\"'}"
      ]
     },
     "execution_count": 34,
     "metadata": {},
     "output_type": "execute_result"
    }
   ],
   "execution_count": 34
  },
  {
   "metadata": {},
   "cell_type": "code",
   "outputs": [],
   "execution_count": null,
   "source": "",
   "id": "273c3301d5b6d3cc"
  }
 ],
 "metadata": {
  "kernelspec": {
   "display_name": "Python 3",
   "language": "python",
   "name": "python3"
  },
  "language_info": {
   "codemirror_mode": {
    "name": "ipython",
    "version": 2
   },
   "file_extension": ".py",
   "mimetype": "text/x-python",
   "name": "python",
   "nbconvert_exporter": "python",
   "pygments_lexer": "ipython2",
   "version": "2.7.6"
  }
 },
 "nbformat": 4,
 "nbformat_minor": 5
}
